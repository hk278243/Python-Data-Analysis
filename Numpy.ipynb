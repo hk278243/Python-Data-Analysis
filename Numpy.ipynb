{
 "cells": [
  {
   "cell_type": "markdown",
   "id": "89fa171f",
   "metadata": {},
   "source": [
    "## NumPy :-\n",
    "* NumPy is the short form of Numerical Python.\n",
    "* In 2005, Travis Oliphant created NumPy package.\n",
    "* NumPy is a package that defines a multi-dimensional array object and associates fast math functions that operate on inbuilt.\n",
    "* Functions for working in domain of linar Algebra, Fourier Transformation and Matrices.\n",
    "* It is the fundamental package of scientific computing in Python.\n",
    "#### Advantages :-\n",
    "1. NumPy uses much less memory to store data.\n",
    "2. NumPy makes it extremely easy to perform mathematical operations on it.\n",
    "3. Used for the creation of n-dimensional arrays.\n",
    "4. Finding elements in NumPy array is easy.\n",
    "#### Disadvantage :-\n",
    "1. It uses much less memory to store data.\n",
    "2. NumPy makes it extremely easy to perform mathematical operations on it.\n",
    "3. Used for the creation of n-dimensional arrays.\n",
    "4. Finding elements in NumPy array is easy."
   ]
  },
  {
   "cell_type": "markdown",
   "id": "d23ca686",
   "metadata": {},
   "source": [
    "### Arrays :-\n",
    "1. An array is defined as a collection of items that are stored at contiguous memory locations.\n",
    "2. It is a container which can hold a fixed number of items , and these items should be of the same type.\n",
    "3. A combination of arrays saves a lot of time. The array can reduce the overall size of the code.\n",
    "#### Advantages :-\n",
    "1. A list can't directly handle Mathematical Operations, while Array can.\n",
    "2. An Array consumes less memory than a List.\n",
    "3. Using an Array is faste than list.\n",
    "4. A List can store different datatypes, while you can't do that in an Array."
   ]
  },
  {
   "cell_type": "code",
   "execution_count": 7,
   "id": "05e0b324",
   "metadata": {},
   "outputs": [
    {
     "name": "stdout",
     "output_type": "stream",
     "text": [
      "[20 30 40]\n",
      "[50 60 70]\n",
      "[ 70  90 110]\n",
      "[-30 -30 -30]\n",
      "[1000 1800 2800]\n",
      "[0.4        0.5        0.57142857]\n"
     ]
    }
   ],
   "source": [
    "import numpy as np\n",
    "a = np.array([20, 30, 40])\n",
    "b = np.array([50, 60, 70])\n",
    "print(a)\n",
    "print(b)\n",
    "print(a+b)\n",
    "print(a-b)\n",
    "print(a*b)\n",
    "print(a/b)"
   ]
  },
  {
   "cell_type": "code",
   "execution_count": 8,
   "id": "d796dfe7",
   "metadata": {},
   "outputs": [
    {
     "name": "stdout",
     "output_type": "stream",
     "text": [
      "[40.   50.   58.56]\n"
     ]
    }
   ],
   "source": [
    "a = np.array([40, 50, 58.56])\n",
    "print(a)"
   ]
  },
  {
   "cell_type": "markdown",
   "id": "ca2e24f6",
   "metadata": {},
   "source": [
    "#### Arrays v/s Lists :-\n",
    "* A List can't directly handle Mathematical Operations, while Array can.\n",
    "* An Array consumes less memory than a List.\n",
    "* Using an Array is faster than list.\n",
    "* A List can store different datatypes, while you can't do that in an Array.\n",
    "* A List is easier to modify since a list store each element individually, it is easier to add and delete an element than an array does.\n",
    "* In Lists one can have nested data with different size, while you can't do the same in array."
   ]
  },
  {
   "cell_type": "markdown",
   "id": "dcf2a5b7",
   "metadata": {},
   "source": [
    "### Numpy :- Creating Arrays, Slicing and Attributes"
   ]
  },
  {
   "cell_type": "code",
   "execution_count": 1,
   "id": "efe386b6",
   "metadata": {},
   "outputs": [],
   "source": [
    "import numpy as np"
   ]
  },
  {
   "cell_type": "code",
   "execution_count": 7,
   "id": "25212112",
   "metadata": {},
   "outputs": [
    {
     "name": "stdout",
     "output_type": "stream",
     "text": [
      "[[10 20 30 40]\n",
      " [50 60 70 80]\n",
      " [30 50 90 50]]\n",
      "<class 'numpy.ndarray'>\n"
     ]
    }
   ],
   "source": [
    "arr = np.array([[10, 20, 30, 40],[50, 60, 70, 80],[30, 50, 90, 50]])\n",
    "print(arr)\n",
    "print(type(arr))"
   ]
  },
  {
   "cell_type": "code",
   "execution_count": 11,
   "id": "6011a2fe",
   "metadata": {},
   "outputs": [
    {
     "name": "stdout",
     "output_type": "stream",
     "text": [
      "[10 20 30]\n",
      "[10 20 30 40]\n",
      "[40]\n"
     ]
    }
   ],
   "source": [
    "arr = np.array([10, 20, 30, 40])\n",
    "print(arr[0:3])\n",
    "print(arr[0:])\n",
    "print(arr[3:])"
   ]
  },
  {
   "cell_type": "code",
   "execution_count": 13,
   "id": "bd7ddf98",
   "metadata": {},
   "outputs": [
    {
     "name": "stdout",
     "output_type": "stream",
     "text": [
      "[[20]\n",
      " [60]]\n"
     ]
    }
   ],
   "source": [
    "arr = np.array([[10, 20, 30, 40],[50, 60, 70, 80]])\n",
    "print(arr[0:2, 1:2])"
   ]
  },
  {
   "cell_type": "markdown",
   "id": "f44dd86e",
   "metadata": {},
   "source": [
    "#### Attribute :-\n",
    "1. shape\n",
    "2. size\n",
    "3. ndim - N Dimensional\n",
    "4. dtype - Data Type"
   ]
  },
  {
   "cell_type": "code",
   "execution_count": 18,
   "id": "990403a2",
   "metadata": {},
   "outputs": [
    {
     "name": "stdout",
     "output_type": "stream",
     "text": [
      "(3, 4)\n",
      "12\n",
      "2\n",
      "int32\n"
     ]
    }
   ],
   "source": [
    "arr = np.array([[10, 20, 30, 40],[50, 60, 70, 80],[30, 50, 90, 50]])\n",
    "print(np.shape(arr))\n",
    "print(np.size(arr))\n",
    "print(np.ndim(arr))\n",
    "print(arr.dtype)"
   ]
  },
  {
   "cell_type": "markdown",
   "id": "0c0de0a7",
   "metadata": {},
   "source": [
    "#### Inspecting an Array :-\n",
    "* Functions :-\n",
    "   1. a.shape - Array Dimensions\n",
    "   2. len(a) - Length of Array\n",
    "   3. b.ndim - Number of array dimensions\n",
    "   4. e.size - Number of array elements\n",
    "   5. b.dype - Data type of array elements\n",
    "   6. b.astype(int) - Convert on array to a different type"
   ]
  },
  {
   "cell_type": "code",
   "execution_count": 21,
   "id": "deb42398",
   "metadata": {},
   "outputs": [
    {
     "name": "stdout",
     "output_type": "stream",
     "text": [
      "[[30 50]\n",
      " [60 80]]\n"
     ]
    }
   ],
   "source": [
    "import numpy as np\n",
    "a = [[30, 50], [60, 80]]\n",
    "arr = np.array(a)\n",
    "print(arr)"
   ]
  },
  {
   "cell_type": "code",
   "execution_count": 22,
   "id": "9e18b595",
   "metadata": {},
   "outputs": [
    {
     "name": "stdout",
     "output_type": "stream",
     "text": [
      "(2, 2)\n"
     ]
    }
   ],
   "source": [
    "print(arr.shape) #rows, columns"
   ]
  },
  {
   "cell_type": "code",
   "execution_count": 23,
   "id": "394e29f9",
   "metadata": {},
   "outputs": [
    {
     "name": "stdout",
     "output_type": "stream",
     "text": [
      "2\n"
     ]
    }
   ],
   "source": [
    "print(len(arr)) # number of nested values"
   ]
  },
  {
   "cell_type": "code",
   "execution_count": 24,
   "id": "c7c22b73",
   "metadata": {},
   "outputs": [
    {
     "name": "stdout",
     "output_type": "stream",
     "text": [
      "4\n"
     ]
    }
   ],
   "source": [
    "print(np.size(arr)) # number of elements"
   ]
  },
  {
   "cell_type": "code",
   "execution_count": 25,
   "id": "b1a17e23",
   "metadata": {},
   "outputs": [
    {
     "name": "stdout",
     "output_type": "stream",
     "text": [
      "<class 'numpy.ndarray'>\n"
     ]
    }
   ],
   "source": [
    "print(type(arr)) # types of variable"
   ]
  },
  {
   "cell_type": "code",
   "execution_count": 28,
   "id": "f673992a",
   "metadata": {},
   "outputs": [
    {
     "name": "stdout",
     "output_type": "stream",
     "text": [
      "int32\n"
     ]
    }
   ],
   "source": [
    "print(arr.dtype) # datatype of array"
   ]
  },
  {
   "cell_type": "markdown",
   "id": "83ab82d6",
   "metadata": {},
   "source": [
    "Conversion of datatype"
   ]
  },
  {
   "cell_type": "code",
   "execution_count": 29,
   "id": "55b3bbf5",
   "metadata": {},
   "outputs": [
    {
     "name": "stdout",
     "output_type": "stream",
     "text": [
      "[[30. 50.]\n",
      " [60. 80.]]\n"
     ]
    }
   ],
   "source": [
    "print(arr.astype(float))"
   ]
  },
  {
   "cell_type": "code",
   "execution_count": 30,
   "id": "bfcc4950",
   "metadata": {},
   "outputs": [
    {
     "name": "stdout",
     "output_type": "stream",
     "text": [
      "[['30' '50']\n",
      " ['60' '80']]\n"
     ]
    }
   ],
   "source": [
    "print(arr.astype(str))"
   ]
  },
  {
   "cell_type": "code",
   "execution_count": 31,
   "id": "254363f3",
   "metadata": {},
   "outputs": [
    {
     "name": "stdout",
     "output_type": "stream",
     "text": [
      "[[30 50]\n",
      " [60 80]]\n"
     ]
    }
   ],
   "source": [
    "print(arr.astype(int))"
   ]
  },
  {
   "cell_type": "markdown",
   "id": "a7b9dc11",
   "metadata": {},
   "source": [
    "#### Mathematical Operations and Functions on Array\n",
    "* Functions :-\n",
    "  1. g = a-b\n",
    "  2. np.subtract(a, b)\n",
    "  3. b + a n\n",
    "  4. p.add(b, a)\n",
    "  5. a / b\n",
    "  6. np.divide(a, b)\n",
    "  7. a * b\n",
    "  8. np.multiply(a, b)\n",
    "  9. np.exp(b)\n",
    "  10. np.sqrt(b)\n",
    "  11. np.pow(a)"
   ]
  },
  {
   "cell_type": "code",
   "execution_count": 32,
   "id": "a45473b2",
   "metadata": {},
   "outputs": [],
   "source": [
    "import numpy as np"
   ]
  },
  {
   "cell_type": "code",
   "execution_count": 33,
   "id": "f7b9784a",
   "metadata": {},
   "outputs": [],
   "source": [
    "arr1 = np.array([30, 40, 50, 60, 80])\n",
    "arr2 = np.array([50, 60, 80, 90, 20])"
   ]
  },
  {
   "cell_type": "code",
   "execution_count": 35,
   "id": "7b6fc37c",
   "metadata": {},
   "outputs": [
    {
     "name": "stdout",
     "output_type": "stream",
     "text": [
      "[ 80 100 130 150 100]\n"
     ]
    }
   ],
   "source": [
    "print(arr1+arr2)"
   ]
  },
  {
   "cell_type": "code",
   "execution_count": 36,
   "id": "27c1abb7",
   "metadata": {},
   "outputs": [
    {
     "name": "stdout",
     "output_type": "stream",
     "text": [
      "[ 80 100 130 150 100]\n"
     ]
    }
   ],
   "source": [
    "print(np.add(arr1, arr2))"
   ]
  },
  {
   "cell_type": "code",
   "execution_count": 37,
   "id": "49c05fc2",
   "metadata": {},
   "outputs": [
    {
     "name": "stdout",
     "output_type": "stream",
     "text": [
      "[-20 -20 -30 -30  60]\n"
     ]
    }
   ],
   "source": [
    "print(arr1-arr2)"
   ]
  },
  {
   "cell_type": "code",
   "execution_count": 38,
   "id": "0a0392ce",
   "metadata": {},
   "outputs": [
    {
     "name": "stdout",
     "output_type": "stream",
     "text": [
      "[-20 -20 -30 -30  60]\n"
     ]
    }
   ],
   "source": [
    "print(np.subtract(arr1, arr2))"
   ]
  },
  {
   "cell_type": "code",
   "execution_count": 39,
   "id": "37a9b372",
   "metadata": {},
   "outputs": [
    {
     "name": "stdout",
     "output_type": "stream",
     "text": [
      "[1500 2400 4000 5400 1600]\n"
     ]
    }
   ],
   "source": [
    "print(arr1*arr2)"
   ]
  },
  {
   "cell_type": "code",
   "execution_count": 40,
   "id": "e23e0061",
   "metadata": {},
   "outputs": [
    {
     "name": "stdout",
     "output_type": "stream",
     "text": [
      "[1500 2400 4000 5400 1600]\n"
     ]
    }
   ],
   "source": [
    "print(np.multiply(arr1, arr2))"
   ]
  },
  {
   "cell_type": "code",
   "execution_count": 41,
   "id": "ffb3ac03",
   "metadata": {},
   "outputs": [
    {
     "name": "stdout",
     "output_type": "stream",
     "text": [
      "[0.6        0.66666667 0.625      0.66666667 4.        ]\n"
     ]
    }
   ],
   "source": [
    "print(arr1/arr2)"
   ]
  },
  {
   "cell_type": "code",
   "execution_count": 42,
   "id": "a6647101",
   "metadata": {},
   "outputs": [
    {
     "name": "stdout",
     "output_type": "stream",
     "text": [
      "[0.6        0.66666667 0.625      0.66666667 4.        ]\n"
     ]
    }
   ],
   "source": [
    "print(np.divide(arr1, arr2))"
   ]
  },
  {
   "cell_type": "code",
   "execution_count": 45,
   "id": "a3b68150",
   "metadata": {},
   "outputs": [
    {
     "name": "stdout",
     "output_type": "stream",
     "text": [
      "[ 27  64 125 216 512]\n"
     ]
    }
   ],
   "source": [
    "arr1 = np.array([3, 4, 5, 6, 8])\n",
    "arr2 = np.array([3])\n",
    "print(np.power(arr1, arr2))"
   ]
  },
  {
   "cell_type": "code",
   "execution_count": 46,
   "id": "a76f66c0",
   "metadata": {},
   "outputs": [
    {
     "name": "stdout",
     "output_type": "stream",
     "text": [
      "[1.73205081 2.         2.23606798 2.44948974 2.82842712]\n"
     ]
    }
   ],
   "source": [
    "arr1 = np.array([3, 4, 5, 6, 8])\n",
    "print(np.sqrt(arr1))"
   ]
  },
  {
   "cell_type": "markdown",
   "id": "b1677493",
   "metadata": {},
   "source": [
    "#### Combining and Splitting Array :-"
   ]
  },
  {
   "cell_type": "markdown",
   "id": "352c561a",
   "metadata": {},
   "source": [
    "Join and Split"
   ]
  },
  {
   "cell_type": "code",
   "execution_count": 47,
   "id": "a9693335",
   "metadata": {},
   "outputs": [
    {
     "name": "stdout",
     "output_type": "stream",
     "text": [
      "[3, 40, 50, 5, 5, 3]\n"
     ]
    }
   ],
   "source": [
    "a = [3, 40, 50]\n",
    "b = [5, 5, 3]\n",
    "print(a+b)"
   ]
  },
  {
   "cell_type": "code",
   "execution_count": 50,
   "id": "faa67ab4",
   "metadata": {},
   "outputs": [
    {
     "name": "stdout",
     "output_type": "stream",
     "text": [
      "[[30 40]\n",
      " [50 60]\n",
      " [ 5  5]\n",
      " [ 3  6]]\n"
     ]
    }
   ],
   "source": [
    "# Concatenate\n",
    "\n",
    "arr1 = np.array([[30, 40], [50, 60]])\n",
    "arr2 = np.array([[5, 5], [3, 6]])\n",
    "print(np.concatenate([arr1, arr2]))"
   ]
  },
  {
   "cell_type": "code",
   "execution_count": 52,
   "id": "f5e90dfd",
   "metadata": {},
   "outputs": [
    {
     "name": "stdout",
     "output_type": "stream",
     "text": [
      "[[30 40]\n",
      " [50 60]\n",
      " [ 5  5]\n",
      " [ 3  6]]\n"
     ]
    }
   ],
   "source": [
    "print(np.concatenate([arr1, arr2], axis = 0))"
   ]
  },
  {
   "cell_type": "code",
   "execution_count": 53,
   "id": "06fb1da2",
   "metadata": {},
   "outputs": [
    {
     "name": "stdout",
     "output_type": "stream",
     "text": [
      "[[30 40  5  5]\n",
      " [50 60  3  6]]\n"
     ]
    }
   ],
   "source": [
    "print(np.concatenate([arr1, arr2], axis = 1))"
   ]
  },
  {
   "cell_type": "code",
   "execution_count": 56,
   "id": "e04bcc65",
   "metadata": {},
   "outputs": [
    {
     "name": "stdout",
     "output_type": "stream",
     "text": [
      "[[30 40  5  5]\n",
      " [50 60  3  6]]\n"
     ]
    }
   ],
   "source": [
    "print(np.hstack([arr1, arr2])) # Horizontal concatenation"
   ]
  },
  {
   "cell_type": "code",
   "execution_count": 57,
   "id": "50fefe04",
   "metadata": {},
   "outputs": [
    {
     "name": "stdout",
     "output_type": "stream",
     "text": [
      "[[30 40]\n",
      " [50 60]\n",
      " [ 5  5]\n",
      " [ 3  6]]\n"
     ]
    }
   ],
   "source": [
    "print(np.vstack([arr1, arr2])) # Vertical concatenation"
   ]
  },
  {
   "cell_type": "code",
   "execution_count": 58,
   "id": "f8140743",
   "metadata": {},
   "outputs": [
    {
     "name": "stdout",
     "output_type": "stream",
     "text": [
      "[array([20, 40]), array([30, 40]), array([10, 20])]\n"
     ]
    }
   ],
   "source": [
    "a = np.array([20, 40, 30, 40, 10, 20])\n",
    "print(np.array_split(a, 3))"
   ]
  },
  {
   "cell_type": "code",
   "execution_count": 59,
   "id": "549bb62a",
   "metadata": {},
   "outputs": [
    {
     "name": "stdout",
     "output_type": "stream",
     "text": [
      "[array([20, 40]), array([30]), array([40]), array([10]), array([20])]\n",
      "[20 40 30 40 10 20]\n"
     ]
    }
   ],
   "source": [
    "a = np.array([20, 40, 30, 40, 10, 20])\n",
    "print(np.array_split(a, 5))\n",
    "print(a)"
   ]
  },
  {
   "cell_type": "code",
   "execution_count": 60,
   "id": "ab1ce999",
   "metadata": {},
   "outputs": [
    {
     "name": "stdout",
     "output_type": "stream",
     "text": [
      "[array([20, 40]), array([30]), array([40]), array([10]), array([20])]\n"
     ]
    }
   ],
   "source": [
    "a = np.array([20, 40, 30, 40, 10, 20])\n",
    "b = (np.array_split(a, 5))\n",
    "print(b)"
   ]
  },
  {
   "cell_type": "markdown",
   "id": "8bda5850",
   "metadata": {},
   "source": [
    "#### Adding and Removing Elements in the Arrays :-\n",
    "Functions :-\n",
    "* np.append(h,g) - Append items to an array\n",
    "* np.insert(a, 1, 5) - Inserts items in an array\n",
    "* np.delete(a,[1)]) - Delete items from an array"
   ]
  },
  {
   "cell_type": "code",
   "execution_count": 65,
   "id": "eb83f42f",
   "metadata": {},
   "outputs": [],
   "source": [
    "import numpy as np"
   ]
  },
  {
   "cell_type": "code",
   "execution_count": 70,
   "id": "694df8a0",
   "metadata": {},
   "outputs": [
    {
     "name": "stdout",
     "output_type": "stream",
     "text": [
      "[ 20  40  60  80  90 100]\n"
     ]
    }
   ],
   "source": [
    "a = np.array([[20, 40], [60, 80]])\n",
    "print(np.append(a, [90, 100]))"
   ]
  },
  {
   "cell_type": "code",
   "execution_count": 71,
   "id": "e94a93e5",
   "metadata": {},
   "outputs": [
    {
     "name": "stdout",
     "output_type": "stream",
     "text": [
      "[20 50 40 60 80]\n"
     ]
    }
   ],
   "source": [
    "print(np.insert(a, 1, 50)) # array, index, value"
   ]
  },
  {
   "cell_type": "code",
   "execution_count": 72,
   "id": "0860d804",
   "metadata": {},
   "outputs": [
    {
     "name": "stdout",
     "output_type": "stream",
     "text": [
      "[[20 50 40]\n",
      " [60 60 80]]\n"
     ]
    }
   ],
   "source": [
    "print(np.insert(a, 1, [50, 60], axis = 1))"
   ]
  },
  {
   "cell_type": "code",
   "execution_count": 74,
   "id": "6b1e3a65",
   "metadata": {},
   "outputs": [
    {
     "name": "stdout",
     "output_type": "stream",
     "text": [
      "[[20 40]\n",
      " [60 80]]\n",
      "[20 60 80]\n"
     ]
    }
   ],
   "source": [
    "print(a)\n",
    "print(np.delete(a, 1))"
   ]
  },
  {
   "cell_type": "markdown",
   "id": "358d7a4e",
   "metadata": {},
   "source": [
    "#### Numpy - Sort, Filter, and Search"
   ]
  },
  {
   "cell_type": "code",
   "execution_count": 75,
   "id": "39d1c64b",
   "metadata": {},
   "outputs": [
    {
     "name": "stdout",
     "output_type": "stream",
     "text": [
      "[2 3 4 5 6 6 8]\n"
     ]
    }
   ],
   "source": [
    "arr = np.array([2,3,4,5,6,8,6])\n",
    "print(np.sort(arr))"
   ]
  },
  {
   "cell_type": "code",
   "execution_count": 77,
   "id": "eb99ca8a",
   "metadata": {},
   "outputs": [
    {
     "name": "stdout",
     "output_type": "stream",
     "text": [
      "[[ 2  3  4  5  6  6  8]\n",
      " [ 0  2  2  8 36 56 99]]\n"
     ]
    }
   ],
   "source": [
    "arr = np.array([[2,3,4,5,6,8,6],[2,8,36,99,0,56,2]])\n",
    "print(np.sort(arr))"
   ]
  },
  {
   "cell_type": "code",
   "execution_count": 78,
   "id": "aa42db5a",
   "metadata": {},
   "outputs": [
    {
     "name": "stdout",
     "output_type": "stream",
     "text": [
      "(array([1], dtype=int64),)\n"
     ]
    }
   ],
   "source": [
    "arr = np.array([3,4,1,7,8])\n",
    "s = np.where(arr == 4)\n",
    "print(s)"
   ]
  },
  {
   "cell_type": "code",
   "execution_count": 81,
   "id": "32ec71d3",
   "metadata": {},
   "outputs": [
    {
     "name": "stdout",
     "output_type": "stream",
     "text": [
      "1\n"
     ]
    }
   ],
   "source": [
    "arr = np.array([1,2,3,4,6,7,9])\n",
    "s = np.searchsorted(arr, 2)\n",
    "print(s)"
   ]
  },
  {
   "cell_type": "code",
   "execution_count": 83,
   "id": "35cd4ae1",
   "metadata": {},
   "outputs": [
    {
     "name": "stdout",
     "output_type": "stream",
     "text": [
      "[20 40]\n"
     ]
    }
   ],
   "source": [
    "arr = np.array([20,30,40,50])\n",
    "fa = [True, False, True, False]\n",
    "new = arr[fa]\n",
    "print(new)"
   ]
  },
  {
   "cell_type": "code",
   "execution_count": 84,
   "id": "e676bc70",
   "metadata": {},
   "outputs": [
    {
     "name": "stdout",
     "output_type": "stream",
     "text": [
      "[40 50]\n"
     ]
    }
   ],
   "source": [
    "arr = np.array([20,30,40,50])\n",
    "fa = arr > 35\n",
    "new = arr[fa]\n",
    "print(new)"
   ]
  },
  {
   "cell_type": "code",
   "execution_count": 85,
   "id": "a7b049cf",
   "metadata": {},
   "outputs": [
    {
     "name": "stdout",
     "output_type": "stream",
     "text": [
      "[30]\n"
     ]
    }
   ],
   "source": [
    "arr = np.array([20,30,40,50])\n",
    "fa = arr % 3 == 0\n",
    "new = arr[fa]\n",
    "print(new)"
   ]
  },
  {
   "cell_type": "markdown",
   "id": "417eef6e",
   "metadata": {},
   "source": [
    "#### Aggregating Functions in Numpy"
   ]
  },
  {
   "cell_type": "code",
   "execution_count": 87,
   "id": "b17d3da8",
   "metadata": {},
   "outputs": [],
   "source": [
    "import numpy as np"
   ]
  },
  {
   "cell_type": "code",
   "execution_count": 88,
   "id": "0e387af8",
   "metadata": {},
   "outputs": [
    {
     "name": "stdout",
     "output_type": "stream",
     "text": [
      "190\n"
     ]
    }
   ],
   "source": [
    "a = np.array([20,40,60,70])\n",
    "print(np.sum(a))"
   ]
  },
  {
   "cell_type": "code",
   "execution_count": 89,
   "id": "926e7348",
   "metadata": {},
   "outputs": [
    {
     "name": "stdout",
     "output_type": "stream",
     "text": [
      "20\n"
     ]
    }
   ],
   "source": [
    "print(np.min(a))"
   ]
  },
  {
   "cell_type": "code",
   "execution_count": 90,
   "id": "1f09d75c",
   "metadata": {},
   "outputs": [
    {
     "name": "stdout",
     "output_type": "stream",
     "text": [
      "70\n"
     ]
    }
   ],
   "source": [
    "print(np.max(a))"
   ]
  },
  {
   "cell_type": "code",
   "execution_count": 95,
   "id": "cde27075",
   "metadata": {},
   "outputs": [
    {
     "name": "stdout",
     "output_type": "stream",
     "text": [
      "4\n"
     ]
    }
   ],
   "source": [
    "print(np.size(a))"
   ]
  },
  {
   "cell_type": "code",
   "execution_count": 96,
   "id": "74b80acf",
   "metadata": {},
   "outputs": [
    {
     "name": "stdout",
     "output_type": "stream",
     "text": [
      "47.5\n"
     ]
    }
   ],
   "source": [
    "print(np.mean(a))"
   ]
  },
  {
   "cell_type": "code",
   "execution_count": 98,
   "id": "0518234c",
   "metadata": {},
   "outputs": [
    {
     "name": "stdout",
     "output_type": "stream",
     "text": [
      "50.0\n"
     ]
    }
   ],
   "source": [
    "print(np.median(a))"
   ]
  },
  {
   "cell_type": "code",
   "execution_count": 99,
   "id": "653c319c",
   "metadata": {},
   "outputs": [
    {
     "name": "stdout",
     "output_type": "stream",
     "text": [
      "[ 20  60 120 190]\n"
     ]
    }
   ],
   "source": [
    "print(np.cumsum(a))"
   ]
  },
  {
   "cell_type": "code",
   "execution_count": 100,
   "id": "19460e00",
   "metadata": {},
   "outputs": [
    {
     "name": "stdout",
     "output_type": "stream",
     "text": [
      "[     20     800   48000 3360000]\n"
     ]
    }
   ],
   "source": [
    "print(np.cumprod(a))"
   ]
  },
  {
   "cell_type": "code",
   "execution_count": 103,
   "id": "196fbff3",
   "metadata": {},
   "outputs": [
    {
     "name": "stdout",
     "output_type": "stream",
     "text": [
      "[100 150 199 200 250 130] \n",
      " [ 10  30  50 100  30  40]\n"
     ]
    }
   ],
   "source": [
    "a = [100, 150, 199, 200, 250, 130]\n",
    "b = [10, 30, 50, 100, 30, 40]\n",
    "\n",
    "price = np.array(a)\n",
    "quantity = np.array(b)\n",
    "print(price, \"\\n\", quantity)"
   ]
  },
  {
   "cell_type": "code",
   "execution_count": 104,
   "id": "46b1d5a0",
   "metadata": {},
   "outputs": [
    {
     "name": "stdout",
     "output_type": "stream",
     "text": [
      "1029\n"
     ]
    }
   ],
   "source": [
    "print(np.sum(price))"
   ]
  },
  {
   "cell_type": "code",
   "execution_count": 105,
   "id": "47c5e346",
   "metadata": {},
   "outputs": [
    {
     "name": "stdout",
     "output_type": "stream",
     "text": [
      "[ 100  250  449  649  899 1029 1039 1069 1119 1219 1249 1289]\n"
     ]
    }
   ],
   "source": [
    "print(np.cumsum([price, quantity]))"
   ]
  },
  {
   "cell_type": "code",
   "execution_count": 107,
   "id": "20695399",
   "metadata": {},
   "outputs": [
    {
     "name": "stdout",
     "output_type": "stream",
     "text": [
      "[[  100   150   199   200   250   130]\n",
      " [ 1000  4500  9950 20000  7500  5200]]\n"
     ]
    }
   ],
   "source": [
    "c = (np.cumprod([price, quantity], axis = 0))\n",
    "print(c)"
   ]
  },
  {
   "cell_type": "code",
   "execution_count": 108,
   "id": "44a70a79",
   "metadata": {},
   "outputs": [
    {
     "name": "stdout",
     "output_type": "stream",
     "text": [
      "48150\n"
     ]
    }
   ],
   "source": [
    "print(c[1].sum())"
   ]
  },
  {
   "cell_type": "markdown",
   "id": "19db75f9",
   "metadata": {},
   "source": [
    "#### Statictical Functions in Arrays :-"
   ]
  },
  {
   "cell_type": "code",
   "execution_count": 113,
   "id": "29ea4fa7",
   "metadata": {},
   "outputs": [
    {
     "name": "stdout",
     "output_type": "stream",
     "text": [
      "202.25\n"
     ]
    }
   ],
   "source": [
    "import numpy as np\n",
    "import statistics as stats\n",
    "baked_food = [200, 300, 150, 130, 200, 280, 170, 188]\n",
    "a = np.array(baked_food)\n",
    "print(np.mean(baked_food)) # sum of all the values / numbers of values"
   ]
  },
  {
   "cell_type": "code",
   "execution_count": 114,
   "id": "92a96534",
   "metadata": {},
   "outputs": [
    {
     "name": "stdout",
     "output_type": "stream",
     "text": [
      "194.0\n"
     ]
    }
   ],
   "source": [
    "print(np.median(a))"
   ]
  },
  {
   "cell_type": "code",
   "execution_count": 116,
   "id": "6bb1c3e0",
   "metadata": {},
   "outputs": [
    {
     "name": "stdout",
     "output_type": "stream",
     "text": [
      "200\n"
     ]
    }
   ],
   "source": [
    "print(stats.mode(a))"
   ]
  },
  {
   "cell_type": "code",
   "execution_count": 117,
   "id": "8dabbba9",
   "metadata": {},
   "outputs": [
    {
     "name": "stdout",
     "output_type": "stream",
     "text": [
      "55.68157235567257\n"
     ]
    }
   ],
   "source": [
    "print(np.std(baked_food))"
   ]
  },
  {
   "cell_type": "code",
   "execution_count": 118,
   "id": "22e40fa6",
   "metadata": {},
   "outputs": [
    {
     "name": "stdout",
     "output_type": "stream",
     "text": [
      "3100.4375\n"
     ]
    }
   ],
   "source": [
    "print(np.var(baked_food))"
   ]
  },
  {
   "cell_type": "markdown",
   "id": "a6a20122",
   "metadata": {},
   "source": [
    "corrcoef\n",
    "* -1 represent inversely proportional relationship\n",
    "* 1 represents proportional relationship\n",
    "* 0 means no relationship"
   ]
  },
  {
   "cell_type": "code",
   "execution_count": 120,
   "id": "3df0afed",
   "metadata": {},
   "outputs": [
    {
     "name": "stdout",
     "output_type": "stream",
     "text": [
      "[[1.         0.99015454]\n",
      " [0.99015454 1.        ]]\n"
     ]
    }
   ],
   "source": [
    "tobacco_consumption = [30, 50, 10, 30, 50, 40]\n",
    "deaths = [100, 120, 70, 100, 120, 112]\n",
    "print(np.corrcoef([tobacco_consumption, deaths]))"
   ]
  },
  {
   "cell_type": "code",
   "execution_count": 121,
   "id": "c60bc329",
   "metadata": {},
   "outputs": [],
   "source": [
    "price = [300,100, 350, 150, 200]\n",
    "sales = [10, 20, 7, 17, 3]"
   ]
  },
  {
   "cell_type": "code",
   "execution_count": 122,
   "id": "083cb285",
   "metadata": {},
   "outputs": [
    {
     "name": "stdout",
     "output_type": "stream",
     "text": [
      "[[ 1.         -0.66621445]\n",
      " [-0.66621445  1.        ]]\n"
     ]
    }
   ],
   "source": [
    "print(np.corrcoef([price, sales]))"
   ]
  },
  {
   "cell_type": "code",
   "execution_count": null,
   "id": "7a036fe7",
   "metadata": {},
   "outputs": [],
   "source": []
  }
 ],
 "metadata": {
  "kernelspec": {
   "display_name": "Python 3 (ipykernel)",
   "language": "python",
   "name": "python3"
  },
  "language_info": {
   "codemirror_mode": {
    "name": "ipython",
    "version": 3
   },
   "file_extension": ".py",
   "mimetype": "text/x-python",
   "name": "python",
   "nbconvert_exporter": "python",
   "pygments_lexer": "ipython3",
   "version": "3.11.4"
  }
 },
 "nbformat": 4,
 "nbformat_minor": 5
}
