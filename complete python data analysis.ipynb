{
 "cells": [
  {
   "cell_type": "markdown",
   "id": "2dfe5d69",
   "metadata": {},
   "source": [
    "#### What is Python?\n",
    "- Python is both compiled and interpreted, object-oriented, high-level programming language with dynamics semantics."
   ]
  },
  {
   "cell_type": "markdown",
   "id": "c42c2096",
   "metadata": {},
   "source": [
    "#### Creator of Python :-\n",
    "- Python was developed in 1991 by a Dutch programmer, Guido Van Rossum.\n",
    "- Guido Van Rossun named Python from the British sketch-comedy series Monty Python's Flying Circus, of which he was a big fan.\n",
    "- Python 2.0 was released in 2000\n",
    "- Python 3.0, released in 2008"
   ]
  },
  {
   "cell_type": "markdown",
   "id": "e56c5e87",
   "metadata": {},
   "source": [
    "#### Features of Python :-\n",
    "- Object Oriented\n",
    "- Dynamically Typed\n",
    "- GUI programming Language\n",
    "- Extensible\n",
    "- Large Standard Library\n",
    "- Free and Open Source\n",
    "- Cross Platform Language\n",
    "- Interpreted Language\n",
    "- Expressive Language\n",
    "- Easy to learn & Use"
   ]
  },
  {
   "cell_type": "markdown",
   "id": "f9909d20",
   "metadata": {},
   "source": [
    "#### Applications of Python?\n",
    "- Data Science\n",
    "- Web Development\n",
    "- Data Engineering\n",
    "- Machine Learning\n",
    "- Artificial Intelligence\n",
    "- Data Analytics"
   ]
  },
  {
   "cell_type": "markdown",
   "id": "07838e83",
   "metadata": {},
   "source": [
    "#### Print Statement :-\n",
    "- To call a print function in python we just need to write print followed by parentheses () and values written inside quotation marks \" \" / ' '.\n",
    "  - input :- print(\"Hello World\")\n",
    "     - output :- Hello World"
   ]
  },
  {
   "cell_type": "code",
   "execution_count": 1,
   "id": "fca95ad1",
   "metadata": {},
   "outputs": [
    {
     "name": "stdout",
     "output_type": "stream",
     "text": [
      "hello world\n"
     ]
    }
   ],
   "source": [
    "print(\"hello world\")"
   ]
  },
  {
   "cell_type": "markdown",
   "id": "680d25db",
   "metadata": {},
   "source": [
    "#### Useing multiple lines in Print statement:-\n",
    "There are two methods to write a statement in multiple lines:\n",
    "- To print multiple lines in python, triple quotations are used.\n",
    "- \\n (backslash) is used to insert something in the next line."
   ]
  },
  {
   "cell_type": "code",
   "execution_count": 2,
   "id": "4b897953",
   "metadata": {},
   "outputs": [
    {
     "name": "stdout",
     "output_type": "stream",
     "text": [
      " Hello\n",
      "this is my first python program\n"
     ]
    }
   ],
   "source": [
    "print(\"\"\" Hello\n",
    "this is my first python program\"\"\")"
   ]
  },
  {
   "cell_type": "code",
   "execution_count": 3,
   "id": "6e40ec19",
   "metadata": {},
   "outputs": [
    {
     "name": "stdout",
     "output_type": "stream",
     "text": [
      "Hello \n",
      " this is my first python program\n"
     ]
    }
   ],
   "source": [
    "print(\"Hello \\n this is my first python program\")"
   ]
  },
  {
   "cell_type": "markdown",
   "id": "62983853",
   "metadata": {},
   "source": [
    "#### Comments in Python:-\n",
    "Single Line Comments-\n",
    " - To add single line comments, # hash is used.\n",
    " - Python completely ignores anything written after #.\n",
    " \n",
    "Multi Line Comments-\n",
    "  - To add multiline comments in python, triple quotations are used\n",
    "  - Multi line comments in we used \"\"\" \"\"\"."
   ]
  },
  {
   "cell_type": "markdown",
   "id": "3957b504",
   "metadata": {},
   "source": [
    "#### Variables:-\n",
    "- Variables are placeholders, which can store a values.\n",
    "- In simple words, Variable is a container that holds data inside it as a value"
   ]
  },
  {
   "cell_type": "code",
   "execution_count": 4,
   "id": "e70d9985",
   "metadata": {},
   "outputs": [
    {
     "name": "stdout",
     "output_type": "stream",
     "text": [
      "hello world\n"
     ]
    }
   ],
   "source": [
    "a = \"hello world\"\n",
    "print(a)"
   ]
  },
  {
   "cell_type": "markdown",
   "id": "8d157fca",
   "metadata": {},
   "source": [
    "#### Rules for writing a Variables:-\n",
    "1. Python is a case-sensitive Language, therefore the variables names are case-sensitive as well.\n",
    "- Input :- A = \"hello\"\n",
    "          - print(a)\n",
    "- Output :- It will throw an error as the cases used here for variable's name is different.\n",
    "\n",
    "2. Make sure to not use spaces while creating a variable.\n",
    "- One can use (_) underscore to seperate the names while writing a variable.\n",
    "3. A variable name should naver start with a number or special symbols."
   ]
  },
  {
   "cell_type": "markdown",
   "id": "9d395c8e",
   "metadata": {},
   "source": [
    "### Datatypes and User Input\n",
    "#### Datatypes :-\n",
    "- Text-type : String(str)\n",
    "- Numeric Types : integer(int), floating point(float), complex\n",
    "- Sequence Types : list, tuple and range\n",
    "- Mapping Type : Dictionaries(dict)\n",
    "- Set type : set, frozenset\n",
    "- Boolean Type : bool\n",
    "- Binary Types : bytes, bytearray, memoryview\n",
    "\n",
    "#### User-inputs :-\n",
    "- To ask for the input from the user. Default datatype is string.\n",
    "- input:\n",
    "     - name = input(\"Enter your name here\")\n",
    "     - print(name)\n",
    "- output :-\n",
    "     - Entered name by the user"
   ]
  },
  {
   "cell_type": "code",
   "execution_count": 5,
   "id": "733beace",
   "metadata": {},
   "outputs": [
    {
     "name": "stdout",
     "output_type": "stream",
     "text": [
      "Enter your name : harsh\n",
      "Your name is harsh\n"
     ]
    }
   ],
   "source": [
    "name = input(\"Enter your name : \")\n",
    "print(\"Your name is\", name)"
   ]
  },
  {
   "cell_type": "code",
   "execution_count": 6,
   "id": "3862aacb",
   "metadata": {},
   "outputs": [
    {
     "name": "stdout",
     "output_type": "stream",
     "text": [
      "Enter your age : 24\n",
      "Your age is 24\n"
     ]
    }
   ],
   "source": [
    "# User - inputs\n",
    "#input:\n",
    "age = int(input(\"Enter your age : \"))\n",
    "print(\"Your age is\", age)"
   ]
  },
  {
   "cell_type": "code",
   "execution_count": 7,
   "id": "b88b10cf",
   "metadata": {},
   "outputs": [
    {
     "name": "stdout",
     "output_type": "stream",
     "text": [
      "Enter the length of the rectangle : 5\n",
      "5.0\n"
     ]
    }
   ],
   "source": [
    "length = float(input(\"Enter the length of the rectangle : \"))\n",
    "print(length)"
   ]
  },
  {
   "cell_type": "code",
   "execution_count": 8,
   "id": "b2c5ec5a",
   "metadata": {},
   "outputs": [
    {
     "name": "stdout",
     "output_type": "stream",
     "text": [
      "Enter any equation here: 5+6\n",
      "11\n"
     ]
    }
   ],
   "source": [
    "exp1 = eval(input(\"Enter any equation here: \"))\n",
    "print(exp1)"
   ]
  },
  {
   "cell_type": "markdown",
   "id": "1d4c53cb",
   "metadata": {},
   "source": [
    "### TypeCasting and Subtypes :-\n",
    "#### Type Casting :\n",
    "Conversion of one datatype to another is called as type-casting.\n",
    "\n",
    "There are two types of type-casting:-\n",
    "1. Implicit Type Conversion : where python itself converts one datatype to another.\n",
    "2. Ecplicit Type Conversion : where the user converts one datatype to another"
   ]
  },
  {
   "cell_type": "code",
   "execution_count": 9,
   "id": "02a83691",
   "metadata": {},
   "outputs": [
    {
     "name": "stdout",
     "output_type": "stream",
     "text": [
      "<class 'str'>\n",
      "<class 'int'>\n"
     ]
    }
   ],
   "source": [
    "name = \"harsh\"\n",
    "print(type(name))\n",
    "\n",
    "age = 24\n",
    "print(type(age))"
   ]
  },
  {
   "cell_type": "code",
   "execution_count": 10,
   "id": "ee7e9488",
   "metadata": {},
   "outputs": [
    {
     "name": "stdout",
     "output_type": "stream",
     "text": [
      "124.23\n",
      "<class 'float'>\n"
     ]
    }
   ],
   "source": [
    "a = 123\n",
    "b = 1.23\n",
    "c = a + b\n",
    "print(c)\n",
    "print(type(c))"
   ]
  },
  {
   "cell_type": "code",
   "execution_count": 11,
   "id": "7311f8d8",
   "metadata": {},
   "outputs": [
    {
     "name": "stdout",
     "output_type": "stream",
     "text": [
      "124\n",
      "<class 'int'>\n"
     ]
    }
   ],
   "source": [
    "a = 123\n",
    "b = 1.23\n",
    "c = a + int(b)\n",
    "print(c)\n",
    "print(type(c))"
   ]
  },
  {
   "cell_type": "markdown",
   "id": "91239879",
   "metadata": {},
   "source": [
    "### Problem Solving\n",
    "1. Write a program to display a person's name, age, and address in three different lines.\n",
    "2. Write a program to swap two variables.\n",
    "3. Write a program to convert a float into integer.\n",
    "4. Write a program to take details from a student for ID-card and then print it in different lines.\n",
    "5. Write a program to take an user input as integer then convert to float."
   ]
  },
  {
   "cell_type": "code",
   "execution_count": 12,
   "id": "1cff0f74",
   "metadata": {},
   "outputs": [
    {
     "name": "stdout",
     "output_type": "stream",
     "text": [
      "Your name is:  Harsh Kumar\n",
      "Your age is:  24\n",
      "Your address is:  Meghaul, Begusarai, Bihar\n"
     ]
    }
   ],
   "source": [
    "# Question 1\n",
    "name = (\"Harsh Kumar\")\n",
    "age = 24\n",
    "address = (\"Meghaul, Begusarai, Bihar\")\n",
    "print(\"Your name is: \",name)\n",
    "print(\"Your age is: \",age)\n",
    "print(\"Your address is: \",address)"
   ]
  },
  {
   "cell_type": "code",
   "execution_count": 13,
   "id": "9b03853b",
   "metadata": {},
   "outputs": [
    {
     "name": "stdout",
     "output_type": "stream",
     "text": [
      "Value of x is : 15\n",
      "Value of y is : 12\n"
     ]
    }
   ],
   "source": [
    "# Question 2\n",
    "# Method 1\n",
    "x = 12\n",
    "y = 15\n",
    "temp = x\n",
    "#print(temp)\n",
    "x = y\n",
    "print(\"Value of x is :\", x)\n",
    "y = temp\n",
    "print(\"Value of y is :\", y)"
   ]
  },
  {
   "cell_type": "code",
   "execution_count": 14,
   "id": "da2a056e",
   "metadata": {},
   "outputs": [
    {
     "name": "stdout",
     "output_type": "stream",
     "text": [
      "Your a of value is:  40\n",
      "Your b of value is:  30\n"
     ]
    }
   ],
   "source": [
    "#Method 2\n",
    "a = 30\n",
    "b = 40\n",
    "#left, right = right, left\n",
    "a, b = b, a\n",
    "print(\"Your a of value is: \",a)\n",
    "print(\"Your b of value is: \",b)"
   ]
  },
  {
   "cell_type": "code",
   "execution_count": 15,
   "id": "e75dedc8",
   "metadata": {},
   "outputs": [
    {
     "name": "stdout",
     "output_type": "stream",
     "text": [
      "<class 'float'>\n",
      "12\n",
      "<class 'int'>\n"
     ]
    }
   ],
   "source": [
    "# Question 3\n",
    "a = 12.5\n",
    "print(type(a))\n",
    "x = int(a)\n",
    "print(x)\n",
    "print(type(x))"
   ]
  },
  {
   "cell_type": "code",
   "execution_count": 16,
   "id": "cc6b7856",
   "metadata": {},
   "outputs": [
    {
     "name": "stdout",
     "output_type": "stream",
     "text": [
      "Student Identity Card\n",
      "Enter the of the Student: harsh\n",
      "Enter the grade of the Student: a+\n",
      "Enter your age: 24\n",
      "Enter the email of the student: hk821554hhj\n",
      "Enter your phone number of the student: 0000000\n",
      "Student name is          :  harsh\n",
      "Student's grade is       :  a+\n",
      "Student's age is         :  24\n",
      "Student's email is       :  hk821554hhj\n",
      "Student's phone number is:  0\n"
     ]
    }
   ],
   "source": [
    "# Question 4\n",
    "print(\"Student Identity Card\")\n",
    "name = input(\"Enter the of the Student: \")\n",
    "grade = input(\"Enter the grade of the Student: \")\n",
    "age = int(input(\"Enter your age: \"))\n",
    "email = input(\"Enter the email of the student: \")\n",
    "ph_no = int(input(\"Enter your phone number of the student: \"))\n",
    "print(\"Student name is          : \",name)\n",
    "print(\"Student's grade is       : \",grade)\n",
    "print(\"Student's age is         : \",age)\n",
    "print(\"Student's email is       : \",email)\n",
    "print(\"Student's phone number is: \",ph_no)"
   ]
  },
  {
   "cell_type": "code",
   "execution_count": 17,
   "id": "1477d168",
   "metadata": {},
   "outputs": [
    {
     "name": "stdout",
     "output_type": "stream",
     "text": [
      "Enter a number: 00\n",
      "0.0\n"
     ]
    }
   ],
   "source": [
    "# Question 5\n",
    "a = int(input(\"Enter a number: \"))\n",
    "b = float(a)\n",
    "print(b)"
   ]
  },
  {
   "cell_type": "markdown",
   "id": "696fc3d2",
   "metadata": {},
   "source": [
    "### Operators and Operands\n",
    "* Operators indicates what operation is to be performed while Operands indicates on what the action or the operation should be performed.\n",
    "x+y = 0\n",
    "   - In the given expression, x, y, and 0 are Operands and + & = are Operators\n",
    "\n",
    "#### Types of operators :-\n",
    "Operators can be further divided into 7 types :-\n",
    "1. Arithmatic Operators\n",
    "2. Comparison Operators\n",
    "3. Logical Operators\n",
    "4. Assingnment Operators\n",
    "5. Identity Operators\n",
    "6. Membership Operators\n",
    "7. Bitwise Operators"
   ]
  },
  {
   "cell_type": "markdown",
   "id": "db8955cf",
   "metadata": {},
   "source": [
    "1. Arithmatic Operator :-\n",
    "     - (+)  :- Addition\n",
    "     - (-)  :- Substraction\n",
    "     - (*)  :- Multiplication\n",
    "     - (/)  :- Division\n",
    "     - (//) :- Floor Division\n",
    "     - (**) :- Exponentiation\n",
    "     - (%)  :- Modulus"
   ]
  },
  {
   "cell_type": "code",
   "execution_count": 18,
   "id": "8cfd4cf6",
   "metadata": {},
   "outputs": [
    {
     "name": "stdout",
     "output_type": "stream",
     "text": [
      "25\n",
      "5\n",
      "150\n",
      "1.5\n",
      "1\n",
      "5\n",
      "576650390625\n"
     ]
    }
   ],
   "source": [
    "a = 15\n",
    "b = 10\n",
    "c = a+b\n",
    "d = a-b\n",
    "e = a*b\n",
    "f = a/b\n",
    "g = a//b\n",
    "h = a%b\n",
    "i = a**b\n",
    "print(c)\n",
    "print(d)\n",
    "print(e)\n",
    "print(f)\n",
    "print(g)\n",
    "print(h)\n",
    "print(i)"
   ]
  },
  {
   "cell_type": "markdown",
   "id": "c3cd1b3d",
   "metadata": {},
   "source": [
    "2. Comparison Operator :-\n",
    "     - ('<')  :- Less Than\n",
    "     - ('>')  :- Greater Than\n",
    "     - ('<=') :- Less Than or Equal to\n",
    "     - ('<=') :- Greater Than or Equal to\n",
    "     - ('!=') :- Not Equal to\n",
    "     - ('==') :- Equal to"
   ]
  },
  {
   "cell_type": "code",
   "execution_count": 19,
   "id": "286f70e1",
   "metadata": {},
   "outputs": [
    {
     "name": "stdout",
     "output_type": "stream",
     "text": [
      "False\n",
      "True\n",
      "True\n",
      "False\n",
      "True\n",
      "False\n"
     ]
    }
   ],
   "source": [
    "a = 10\n",
    "b = 15\n",
    "c = a>b\n",
    "d = a<b\n",
    "e = a<=b\n",
    "f = a>=b\n",
    "g = a!=b\n",
    "h = a==b\n",
    "print(c)\n",
    "print(d)\n",
    "print(e)\n",
    "print(f)\n",
    "print(g)\n",
    "print(h)"
   ]
  },
  {
   "cell_type": "markdown",
   "id": "c962bc02",
   "metadata": {},
   "source": [
    "3. Logical Operator\n",
    "     - ('and') :- True if both the operands are true, Eg. :- x and y\n",
    "     - ('or')  :- True if either of the operands is true, Eg. :- x or y\n",
    "     - ('not') :- True if operand is false (complements the operand), Eg. :- not x"
   ]
  },
  {
   "cell_type": "code",
   "execution_count": 20,
   "id": "852d0ce5",
   "metadata": {},
   "outputs": [
    {
     "name": "stdout",
     "output_type": "stream",
     "text": [
      "False\n",
      "True\n",
      "True\n"
     ]
    }
   ],
   "source": [
    "a = 5\n",
    "b = 10\n",
    "c = (a > b) and (a < b)\n",
    "d = (a > b) or (a < b)\n",
    "e = not(a > b and a > b)\n",
    "print(c)\n",
    "print(d)\n",
    "print(e)"
   ]
  },
  {
   "cell_type": "markdown",
   "id": "80d2d0b3",
   "metadata": {},
   "source": [
    "4. Assingnment Operator :-\n",
    "* Assingnment operators are used in Python to assign values to variables.\n",
    "* a = 5 is a simple assignment operator that assigns the value 6 on the right to the variable a on the left.\n",
    "     - ('=')  :- Equal, Eg. :- x = 6, Equivalent to :- x = 6\n",
    "     - ('+=') :- Plus Equal, Eg. :- x += 6, Equivalent to :- x = x + 6\n",
    "     - ('-=') :- Minus Equal, Eg. :- x -= 6, Equivalent to :- x = x - 6\n",
    "     - ('*=') :- Multiple Equal, Eg. :- x *= 6, Equivalent to :- x = x * 6"
   ]
  },
  {
   "cell_type": "code",
   "execution_count": 21,
   "id": "283aa5bd",
   "metadata": {},
   "outputs": [
    {
     "name": "stdout",
     "output_type": "stream",
     "text": [
      "10\n",
      "11\n",
      "-9\n",
      "0\n"
     ]
    }
   ],
   "source": [
    "a = 10\n",
    "c = a\n",
    "d += a \n",
    "e -= a\n",
    "f *= a\n",
    "print(c)\n",
    "print(d)\n",
    "print(e)\n",
    "print(f)"
   ]
  },
  {
   "cell_type": "markdown",
   "id": "9669e701",
   "metadata": {},
   "source": [
    "5. Identity Operator :-\n",
    "* Identity operators are used to compare items to see if they are the same object with the same memory address.\n",
    "   * Types :-\n",
    "        * is\n",
    "        * is not"
   ]
  },
  {
   "cell_type": "code",
   "execution_count": 22,
   "id": "87e53a44",
   "metadata": {},
   "outputs": [
    {
     "name": "stdout",
     "output_type": "stream",
     "text": [
      "False\n",
      "True\n"
     ]
    }
   ],
   "source": [
    "a = 1234\n",
    "b = \"1234\"\n",
    "print(a is b)\n",
    "print(a is not b)"
   ]
  },
  {
   "cell_type": "markdown",
   "id": "d3debda2",
   "metadata": {},
   "source": [
    "6.Membership Operator :-\n",
    "* Membership operators are used to check the presence of a sequence in an object.\n",
    "    - Types :-\n",
    "         - in\n",
    "         - not in"
   ]
  },
  {
   "cell_type": "code",
   "execution_count": 30,
   "id": "913530a0",
   "metadata": {},
   "outputs": [
    {
     "name": "stdout",
     "output_type": "stream",
     "text": [
      "False\n"
     ]
    }
   ],
   "source": [
    "a = \"hello\"\n",
    "print(\"p\" in a)"
   ]
  },
  {
   "cell_type": "code",
   "execution_count": 31,
   "id": "4c0cfbd5",
   "metadata": {},
   "outputs": [
    {
     "name": "stdout",
     "output_type": "stream",
     "text": [
      "True\n"
     ]
    }
   ],
   "source": [
    "a = \"hello\"\n",
    "print(\"p\" not in a)"
   ]
  },
  {
   "cell_type": "markdown",
   "id": "c60bb365",
   "metadata": {},
   "source": [
    "7. Bitwise Operator :-\n",
    "These Operators are used to compare the binary numbers.\n",
    "* Types :-\n",
    "     1. AND (&) Operator\n",
    "     2. OR (|) Operator\n",
    "     3. XOR (^) Operator\n",
    "     4. (<<) zero fill left shift\n",
    "     5. (>>) zero fill right shift\n"
   ]
  },
  {
   "cell_type": "markdown",
   "id": "4d599bd6",
   "metadata": {},
   "source": [
    "1. AND Operator :-\n",
    "      * Implementation of AND operation on Binary Digits\n",
    "      Operation\tResult\n",
    "          - Operation   :Results\n",
    "             - 0 & 0\t:  0\n",
    "             - 1 & 0\t:  0\n",
    "             - 0 & 1   \t:  0\n",
    "             - 1 & 1\t:  1\n"
   ]
  },
  {
   "cell_type": "code",
   "execution_count": 24,
   "id": "87c2a130",
   "metadata": {},
   "outputs": [
    {
     "name": "stdout",
     "output_type": "stream",
     "text": [
      "0b1111\n"
     ]
    }
   ],
   "source": [
    "print(bin(15))"
   ]
  },
  {
   "cell_type": "code",
   "execution_count": 25,
   "id": "db7db4b7",
   "metadata": {},
   "outputs": [
    {
     "name": "stdout",
     "output_type": "stream",
     "text": [
      "8\n"
     ]
    }
   ],
   "source": [
    "a = 10\n",
    "b = 8\n",
    "print(a & b)"
   ]
  },
  {
   "cell_type": "markdown",
   "id": "bccabd08",
   "metadata": {},
   "source": [
    "2. Bitwise Or Operations\n",
    "    *  Operation\tResult\n",
    "          - Operation   :Results\n",
    "             - 0 | 0\t:  0\n",
    "             - 1 | 0\t:  1\n",
    "             - 0 | 1   \t:  1\n",
    "             - 1 | 1\t:  1\n"
   ]
  },
  {
   "cell_type": "code",
   "execution_count": 26,
   "id": "de5592cd",
   "metadata": {},
   "outputs": [
    {
     "name": "stdout",
     "output_type": "stream",
     "text": [
      "10\n"
     ]
    }
   ],
   "source": [
    "a = 10\n",
    "b = 8\n",
    "print(a | b)"
   ]
  },
  {
   "cell_type": "markdown",
   "id": "24f29327",
   "metadata": {},
   "source": [
    "3. Bitwise XOR Operations\n",
    "    *  Operation\tResult\n",
    "          - Operation   :Results\n",
    "             - 0 ^ 0\t:  0\n",
    "             - 1 ^ 0\t:  1\n",
    "             - 0 ^ 1   \t:  1\n",
    "             - 1 ^ 1\t:  0"
   ]
  },
  {
   "cell_type": "code",
   "execution_count": 27,
   "id": "c4f59ad7",
   "metadata": {},
   "outputs": [
    {
     "name": "stdout",
     "output_type": "stream",
     "text": [
      "2\n"
     ]
    }
   ],
   "source": [
    "a = 10\n",
    "b = 8\n",
    "print(a ^ b)"
   ]
  },
  {
   "cell_type": "markdown",
   "id": "bbdfb4b8",
   "metadata": {},
   "source": [
    "4. (<<) zero fill left shift\n"
   ]
  },
  {
   "cell_type": "code",
   "execution_count": 28,
   "id": "2edf3d3e",
   "metadata": {},
   "outputs": [
    {
     "name": "stdout",
     "output_type": "stream",
     "text": [
      "5\n"
     ]
    }
   ],
   "source": [
    "print(10>>1)"
   ]
  },
  {
   "cell_type": "markdown",
   "id": "82d80f41",
   "metadata": {},
   "source": [
    "5. (>>) zero fill right shift"
   ]
  },
  {
   "cell_type": "code",
   "execution_count": 29,
   "id": "fe992169",
   "metadata": {},
   "outputs": [
    {
     "name": "stdout",
     "output_type": "stream",
     "text": [
      "20\n"
     ]
    }
   ],
   "source": [
    "print(10<<1)"
   ]
  },
  {
   "cell_type": "markdown",
   "id": "dcc19635",
   "metadata": {},
   "source": [
    "### Conditional Statements :-\n",
    "* Conditional statement allows computer to execute a certain condition - only if it is true.\n",
    "  * Types of conditional Statements :- \n",
    "       1. if the Statement\n",
    "       2. if-else Statement\n",
    "       3. if-elif-else Statement\n",
    "       4. Nested Statement\n",
    "       5. Short Hand if Statement"
   ]
  },
  {
   "cell_type": "markdown",
   "id": "c5c51314",
   "metadata": {},
   "source": [
    "#### 1. If the statement\n",
    "* The If statement is the most fundamental decision-making statement.\n",
    "* The if statement in Python has the subsequent syntax:\n",
    "     - if expression"
   ]
  },
  {
   "cell_type": "code",
   "execution_count": 2,
   "id": "8de355ec",
   "metadata": {},
   "outputs": [
    {
     "name": "stdout",
     "output_type": "stream",
     "text": [
      "You will get a mobile phone\n",
      "thank you\n"
     ]
    }
   ],
   "source": [
    "marks = 97\n",
    "if marks >= 90:\n",
    "    print(\"You will get a mobile phone\")\n",
    "print(\"thank you\")"
   ]
  },
  {
   "cell_type": "code",
   "execution_count": 3,
   "id": "f9b7c125",
   "metadata": {},
   "outputs": [
    {
     "name": "stdout",
     "output_type": "stream",
     "text": [
      "thank you\n"
     ]
    }
   ],
   "source": [
    "marks = 87\n",
    "if marks >= 90:\n",
    "    print(\"You will get a mobile phone\")\n",
    "print(\"thank you\")"
   ]
  },
  {
   "cell_type": "markdown",
   "id": "9fbeb03d",
   "metadata": {},
   "source": [
    "#### 2. If-Else Statement\n",
    "* If-else statement is used when you want to give two conditions to the computer\n",
    "* Here if one condition is false, program executes the another condition.\n",
    "     - if condition :\n",
    "         - Will executes this block if the condition is true\n",
    "     - else :\n",
    "         - Will executes this block if the condition is false."
   ]
  },
  {
   "cell_type": "code",
   "execution_count": 4,
   "id": "20e64d1a",
   "metadata": {},
   "outputs": [
    {
     "name": "stdout",
     "output_type": "stream",
     "text": [
      "No phone\n",
      "thank you\n"
     ]
    }
   ],
   "source": [
    "marks = 87\n",
    "if marks >= 90:\n",
    "    print(\"You will get a phone\")\n",
    "else:\n",
    "    print(\"No phone\")\n",
    "print(\"thank you\")"
   ]
  },
  {
   "cell_type": "code",
   "execution_count": 5,
   "id": "256c7592",
   "metadata": {},
   "outputs": [
    {
     "name": "stdout",
     "output_type": "stream",
     "text": [
      "You will get a phone\n",
      "thank you\n"
     ]
    }
   ],
   "source": [
    "marks = 97\n",
    "if marks >= 90:\n",
    "    print(\"You will get a phone\")\n",
    "else:\n",
    "    print(\"No phone\")\n",
    "print(\"thank you\")"
   ]
  },
  {
   "cell_type": "markdown",
   "id": "8e0d0aa7",
   "metadata": {},
   "source": [
    "#### 3. If-elif-else Statement\n",
    "* In this case, the if condition is evaluated first. if it is false, the elig statement will be executed, if it also comes false then else statement will be executed.\n",
    "* For multiple condition, more elif statements are added.\n",
    "  - if condition:\n",
    "    - Body of if\n",
    "  - elif condition:\n",
    "    - Body of elif\n",
    "  - else:"
   ]
  },
  {
   "cell_type": "code",
   "execution_count": 6,
   "id": "48131d73",
   "metadata": {},
   "outputs": [
    {
     "name": "stdout",
     "output_type": "stream",
     "text": [
      "You will get a phone\n"
     ]
    }
   ],
   "source": [
    "marks = 87\n",
    "if marks >= 90:\n",
    "    print('You can go to a trip')\n",
    "elif marks >= 80 and marks < 90:\n",
    "    print('You will get a phone')\n",
    "elif marks >= 70 and marks < 80:\n",
    "    print('You will get a new book')\n",
    "else:\n",
    "    print('You will not get your phone back')"
   ]
  },
  {
   "cell_type": "code",
   "execution_count": 7,
   "id": "8a7fb349",
   "metadata": {},
   "outputs": [
    {
     "name": "stdout",
     "output_type": "stream",
     "text": [
      "You will not get your phone back\n"
     ]
    }
   ],
   "source": [
    "marks = 58\n",
    "if marks >= 90:\n",
    "    print('You can go to a trip')\n",
    "elif marks >= 80 and marks < 90:\n",
    "    print('You will get a phone')\n",
    "elif marks >= 70 and marks < 80:\n",
    "    print('You will get a new book')\n",
    "else:\n",
    "    print('You will not get your phone back')"
   ]
  },
  {
   "cell_type": "markdown",
   "id": "d4cbdfcb",
   "metadata": {},
   "source": [
    "#### 4. Nested if Statement\n",
    "* A nested if statement is one in which an if statement is nestled inside another If statement. This is used when a variable must be processed more than once. The Nested if statement in Python has the following syntax:\n",
    "  - if(condition 1):\n",
    "     - Executes if condition 1 is true\n",
    "  - if(condition 2):\n",
    "     - Executes if condition 2 is true\n",
    "     - Condition 2 ends here\n",
    "     - condition 1 ends here"
   ]
  },
  {
   "cell_type": "code",
   "execution_count": 10,
   "id": "b29eb732",
   "metadata": {},
   "outputs": [
    {
     "name": "stdout",
     "output_type": "stream",
     "text": [
      "You will get a new phone.\n",
      "You can get a trip\n"
     ]
    }
   ],
   "source": [
    "marks = 95\n",
    "if marks >= 80:\n",
    "    print(\"You will get a new phone.\")\n",
    "    if marks >= 90:\n",
    "        print(\"You can get a trip\")\n",
    "else:\n",
    "    print(\"no phone, no trip\")"
   ]
  },
  {
   "cell_type": "code",
   "execution_count": 11,
   "id": "5f82c23c",
   "metadata": {},
   "outputs": [
    {
     "name": "stdout",
     "output_type": "stream",
     "text": [
      "no phone, no trip\n"
     ]
    }
   ],
   "source": [
    "marks = 55\n",
    "if marks >= 80:\n",
    "    print(\"You will get a new phone.\")\n",
    "    if marks >= 90:\n",
    "        print(\"You can get a trip\")\n",
    "else:\n",
    "    print(\"no phone, no trip\")"
   ]
  },
  {
   "cell_type": "code",
   "execution_count": 12,
   "id": "790c7612",
   "metadata": {},
   "outputs": [
    {
     "name": "stdout",
     "output_type": "stream",
     "text": [
      "You will get a new phone.\n"
     ]
    }
   ],
   "source": [
    "marks = 85\n",
    "if marks >= 80:\n",
    "    print(\"You will get a new phone.\")\n",
    "    if marks >= 90:\n",
    "        print(\"You can get a trip\")\n",
    "else:\n",
    "    print(\"no phone, no trip\")"
   ]
  },
  {
   "cell_type": "markdown",
   "id": "24646342",
   "metadata": {},
   "source": [
    "#### Short Hand if Statement\n",
    "* Short Hand if statement is used when only one statement needs to be executed inside the if block. This statement can be mentioned in the same line which holds the if statement.\n",
    "* The Short Hand if statement in python has the following syntax :-\n",
    "  - if condition: statement "
   ]
  },
  {
   "cell_type": "code",
   "execution_count": 13,
   "id": "315ca4d8",
   "metadata": {},
   "outputs": [
    {
     "name": "stdout",
     "output_type": "stream",
     "text": [
      "You will get a new phone\n"
     ]
    }
   ],
   "source": [
    "marks = 97\n",
    "if marks >= 90: print(\"You will get a new phone\")"
   ]
  },
  {
   "cell_type": "markdown",
   "id": "180e2d03",
   "metadata": {},
   "source": [
    "#### Short hand if-else Statement \n",
    "* It is used to mention if-else statements in one line in which there is only one statement to execute in both if and else blocks. In simple words, if you have only one statement to execute, one for if, and one for else, you can put it all on the same line."
   ]
  },
  {
   "cell_type": "code",
   "execution_count": 15,
   "id": "3e161c60",
   "metadata": {},
   "outputs": [
    {
     "name": "stdout",
     "output_type": "stream",
     "text": [
      "you will go to a trip\n"
     ]
    }
   ],
   "source": [
    "marks = 97\n",
    "print(\"You will go to a trip\") if marks >= 90 else print(\"No Phone, No Trip\")"
   ]
  },
  {
   "cell_type": "code",
   "execution_count": 16,
   "id": "be9c78e8",
   "metadata": {},
   "outputs": [
    {
     "name": "stdout",
     "output_type": "stream",
     "text": [
      "No Phone, No Trip\n"
     ]
    }
   ],
   "source": [
    "marks = 87\n",
    "print(\"You will go to a trip\") if marks >= 90 else print(\"No Phone, No Trip\")"
   ]
  },
  {
   "cell_type": "markdown",
   "id": "e9c5fef3",
   "metadata": {},
   "source": [
    "### Problem Solving :-\n",
    "1. Write a program to check if a number is positive.\n",
    "2. Write a program to check whether a number is odd or even.\n",
    "3. Write a program to create area calculator.\n",
    "4. Write a program check whether the passed letter is a vowel or not.\n",
    "5. Write a program to check if a number is a single unit number, 2-, digit number and so no.., upto 5 digits."
   ]
  },
  {
   "cell_type": "code",
   "execution_count": 2,
   "id": "c1216442",
   "metadata": {},
   "outputs": [
    {
     "name": "stdout",
     "output_type": "stream",
     "text": [
      "Enter a number : 45\n",
      "It is positive\n"
     ]
    }
   ],
   "source": [
    "# 1. Write a program to check if a number is positive.\n",
    "num = int(input(\"Enter a number : \"))\n",
    "if num > 0:\n",
    "    print(\"It is positive\")"
   ]
  },
  {
   "cell_type": "code",
   "execution_count": 3,
   "id": "316f3fff",
   "metadata": {},
   "outputs": [
    {
     "name": "stdout",
     "output_type": "stream",
     "text": [
      "Enter a number : -5\n",
      "It is negative\n"
     ]
    }
   ],
   "source": [
    "num = int(input(\"Enter a number : \"))\n",
    "if num > 0:\n",
    "    print(\"It is positive\")\n",
    "else:\n",
    "    print(\"It is negative\")"
   ]
  },
  {
   "cell_type": "code",
   "execution_count": 11,
   "id": "f92ee562",
   "metadata": {},
   "outputs": [
    {
     "name": "stdout",
     "output_type": "stream",
     "text": [
      "Enter a number : 45\n",
      "This number is an odd number\n"
     ]
    }
   ],
   "source": [
    "# 2. Write a program to check whether a number is odd or even.\n",
    "num = int(input(\"Enter a number : \"))\n",
    "if num % 2 == 0 :\n",
    "    print(\"This number is an even number\")\n",
    "else:\n",
    "    print(\"This number is an odd number\")"
   ]
  },
  {
   "cell_type": "code",
   "execution_count": 12,
   "id": "87a806d9",
   "metadata": {},
   "outputs": [
    {
     "name": "stdout",
     "output_type": "stream",
     "text": [
      "Enter a number : 44\n",
      "This number is an even number\n"
     ]
    }
   ],
   "source": [
    "num = int(input(\"Enter a number : \"))\n",
    "if num % 2 == 0 :\n",
    "    print(\"This number is an even number\")\n",
    "else:\n",
    "    print(\"This number is an odd number\")"
   ]
  },
  {
   "cell_type": "code",
   "execution_count": 13,
   "id": "f244759a",
   "metadata": {},
   "outputs": [
    {
     "name": "stdout",
     "output_type": "stream",
     "text": [
      "***** AREA CALCULATOR *****\n",
      "press 1 to get the area of square\n",
      "press 2 to get the area of rectangle\n",
      "press 3 to get the area of circle\n",
      "press 4 to get the area of triangle\n",
      "Enter a number between 1-4: 1\n",
      "Enter the length of one side: 5\n",
      "The area of square is  25.0\n"
     ]
    }
   ],
   "source": [
    "#3. Write a program to create area calculator.\n",
    "print(\"***** AREA CALCULATOR *****\")\n",
    "print(\"\"\"press 1 to get the area of square\n",
    "press 2 to get the area of rectangle\n",
    "press 3 to get the area of circle\n",
    "press 4 to get the area of triangle\"\"\")\n",
    "\n",
    "choice = int(input(\"Enter a number between 1-4: \"))\n",
    "\n",
    "if choice == 1:\n",
    "    side = float(input(\"Enter the length of one side: \"))\n",
    "    area = side**2\n",
    "    print(\"The area of square is \", area)\n",
    "    \n",
    "elif choice == 2:\n",
    "    length = float(input(\"Enter the length of the rectangle: \"))\n",
    "    width = float(input(\"Enter the length of the rectangle: \"))\n",
    "    area = length*width\n",
    "    print(\"The area of the rectangle is \", area)\n",
    "\n",
    "elif choice == 3:\n",
    "    radius = float(input(\"Enter the radius of the circul: \"))\n",
    "    area = (3.14*(radius**2))\n",
    "    print(\"The area of the circle is\", area)\n",
    "\n",
    "elif choice == 4:\n",
    "    base = float(input(\"Enter base of the triangle: \"))\n",
    "    height = float(input(\"Enter height of the triangle: \"))\n",
    "    area = 0.5*base*height\n",
    "    print(\"The are of the triangle is \", area)\n",
    "    \n",
    "else:\n",
    "    print(\"Data not found.\")"
   ]
  },
  {
   "cell_type": "code",
   "execution_count": 1,
   "id": "94e4550e",
   "metadata": {},
   "outputs": [
    {
     "name": "stdout",
     "output_type": "stream",
     "text": [
      "***** AREA CALCULATOR *****\n",
      "press 1 to get the area of square\n",
      "press 2 to get the area of rectangle\n",
      "press 3 to get the area of circle\n",
      "press 4 to get the area of triangle\n",
      "Enter a number between 1-4: 3\n",
      "Enter the radius of the circle: 5.5\n",
      "The area of the circle is 94.985\n"
     ]
    }
   ],
   "source": [
    "print(\"***** AREA CALCULATOR *****\")\n",
    "print(\"\"\"press 1 to get the area of square\n",
    "press 2 to get the area of rectangle\n",
    "press 3 to get the area of circle\n",
    "press 4 to get the area of triangle\"\"\")\n",
    "\n",
    "choice = int(input(\"Enter a number between 1-4: \"))\n",
    "\n",
    "if choice == 1:\n",
    "    side = float(input(\"Enter the length of one side: \"))\n",
    "    area = side**2\n",
    "    print(\"The area of square is \", area)\n",
    "    \n",
    "elif choice == 2:\n",
    "    length = float(input(\"Enter the length of the rectangle: \"))\n",
    "    width = float(input(\"Enter the length of the rectangle: \"))\n",
    "    area = length*width\n",
    "    print(\"The area of the rectangle is \", area)\n",
    "\n",
    "elif choice == 3:\n",
    "    radius = float(input(\"Enter the radius of the circle: \"))\n",
    "    area = (3.14*(radius**2))\n",
    "    print(\"The area of the circle is\", area)\n",
    "\n",
    "elif choice == 4:\n",
    "    base = float(input(\"Enter base of the triangle: \"))\n",
    "    height = float(input(\"Enter height of the triangle: \"))\n",
    "    area = 0.5*base*height\n",
    "    print(\"The are of the triangle is \", area)\n",
    "    \n",
    "else:\n",
    "    print(\"Data not found.\")"
   ]
  },
  {
   "cell_type": "code",
   "execution_count": 2,
   "id": "1ca24ae0",
   "metadata": {},
   "outputs": [
    {
     "name": "stdout",
     "output_type": "stream",
     "text": [
      "***** AREA CALCULATOR *****\n",
      "press 1 to get the area of square\n",
      "press 2 to get the area of rectangle\n",
      "press 3 to get the area of circle\n",
      "press 4 to get the area of triangle\n",
      "Enter a number between 1-4: 4\n",
      "Enter base of the triangle: 5\n",
      "Enter height of the triangle: 6\n",
      "The are of the triangle is  15.0\n"
     ]
    }
   ],
   "source": [
    "print(\"***** AREA CALCULATOR *****\")\n",
    "print(\"\"\"press 1 to get the area of square\n",
    "press 2 to get the area of rectangle\n",
    "press 3 to get the area of circle\n",
    "press 4 to get the area of triangle\"\"\")\n",
    "\n",
    "choice = int(input(\"Enter a number between 1-4: \"))\n",
    "\n",
    "if choice == 1:\n",
    "    side = float(input(\"Enter the length of one side: \"))\n",
    "    area = side**2\n",
    "    print(\"The area of square is \", area)\n",
    "    \n",
    "elif choice == 2:\n",
    "    length = float(input(\"Enter the length of the rectangle: \"))\n",
    "    width = float(input(\"Enter the length of the rectangle: \"))\n",
    "    area = length*width\n",
    "    print(\"The area of the rectangle is \", area)\n",
    "\n",
    "elif choice == 3:\n",
    "    radius = float(input(\"Enter the radius of the circle: \"))\n",
    "    area = (3.14*(radius**2))\n",
    "    print(\"The area of the circle is\", area)\n",
    "\n",
    "elif choice == 4:\n",
    "    base = float(input(\"Enter base of the triangle: \"))\n",
    "    height = float(input(\"Enter height of the triangle: \"))\n",
    "    area = 0.5*base*height\n",
    "    print(\"The are of the triangle is \", area)\n",
    "    \n",
    "else:\n",
    "    print(\"Data not found.\")"
   ]
  },
  {
   "cell_type": "code",
   "execution_count": 3,
   "id": "86433144",
   "metadata": {},
   "outputs": [
    {
     "name": "stdout",
     "output_type": "stream",
     "text": [
      "***** AREA CALCULATOR *****\n",
      "press 1 to get the area of square\n",
      "press 2 to get the area of rectangle\n",
      "press 3 to get the area of circle\n",
      "press 4 to get the area of triangle\n",
      "Enter a number between 1-4: 5\n",
      "Data not found.\n"
     ]
    }
   ],
   "source": [
    "print(\"***** AREA CALCULATOR *****\")\n",
    "print(\"\"\"press 1 to get the area of square\n",
    "press 2 to get the area of rectangle\n",
    "press 3 to get the area of circle\n",
    "press 4 to get the area of triangle\"\"\")\n",
    "\n",
    "choice = int(input(\"Enter a number between 1-4: \"))\n",
    "\n",
    "if choice == 1:\n",
    "    side = float(input(\"Enter the length of one side: \"))\n",
    "    area = side**2\n",
    "    print(\"The area of square is \", area)\n",
    "    \n",
    "elif choice == 2:\n",
    "    length = float(input(\"Enter the length of the rectangle: \"))\n",
    "    width = float(input(\"Enter the length of the rectangle: \"))\n",
    "    area = length*width\n",
    "    print(\"The area of the rectangle is \", area)\n",
    "\n",
    "elif choice == 3:\n",
    "    radius = float(input(\"Enter the radius of the circle: \"))\n",
    "    area = (3.14*(radius**2))\n",
    "    print(\"The area of the circle is\", area)\n",
    "\n",
    "elif choice == 4:\n",
    "    base = float(input(\"Enter base of the triangle: \"))\n",
    "    height = float(input(\"Enter height of the triangle: \"))\n",
    "    area = 0.5*base*height\n",
    "    print(\"The are of the triangle is \", area)\n",
    "    \n",
    "else:\n",
    "    print(\"Data not found.\")"
   ]
  },
  {
   "cell_type": "code",
   "execution_count": 3,
   "id": "cf1019d0",
   "metadata": {},
   "outputs": [
    {
     "name": "stdout",
     "output_type": "stream",
     "text": [
      "Enter a letter here : A\n",
      "It is a vowel\n"
     ]
    }
   ],
   "source": [
    "#4. Write a program check whether the passed letter is a vowel or not.\n",
    "letter = input(\"Enter a letter here : \")\n",
    "if (letter in \"aeiou\") or (letter in \"AEIOU\"):\n",
    "    print(\"It is a vowel\")\n",
    "    \n",
    "else:\n",
    "    print(\"It is a constant\")"
   ]
  },
  {
   "cell_type": "code",
   "execution_count": 4,
   "id": "f0484202",
   "metadata": {},
   "outputs": [
    {
     "name": "stdout",
     "output_type": "stream",
     "text": [
      "Enter a letter here : a\n",
      "It is a vowel\n"
     ]
    }
   ],
   "source": [
    "letter = input(\"Enter a letter here : \")\n",
    "if (letter in \"aeiou\") or (letter in \"AEIOU\"):\n",
    "    print(\"It is a vowel\")\n",
    "    \n",
    "else:\n",
    "    print(\"It is a constant\")"
   ]
  },
  {
   "cell_type": "code",
   "execution_count": 5,
   "id": "ba1513e6",
   "metadata": {},
   "outputs": [
    {
     "name": "stdout",
     "output_type": "stream",
     "text": [
      "Enter a letter here : B\n",
      "It is a constant\n"
     ]
    }
   ],
   "source": [
    "letter = input(\"Enter a letter here : \")\n",
    "if (letter in \"aeiou\") or (letter in \"AEIOU\"):\n",
    "    print(\"It is a vowel\")\n",
    "    \n",
    "else:\n",
    "    print(\"It is a constant\")"
   ]
  },
  {
   "cell_type": "code",
   "execution_count": 6,
   "id": "2b534ef7",
   "metadata": {},
   "outputs": [
    {
     "name": "stdout",
     "output_type": "stream",
     "text": [
      "Enter a letter here : c\n",
      "It is a constant\n"
     ]
    }
   ],
   "source": [
    "letter = input(\"Enter a letter here : \")\n",
    "if (letter in \"aeiou\") or (letter in \"AEIOU\"):\n",
    "    print(\"It is a vowel\")\n",
    "    \n",
    "else:\n",
    "    print(\"It is a constant\")"
   ]
  },
  {
   "cell_type": "code",
   "execution_count": 7,
   "id": "e481c59d",
   "metadata": {},
   "outputs": [
    {
     "name": "stdout",
     "output_type": "stream",
     "text": [
      "Enter a number upto 5 digits : 569\n",
      "It is a third digit number\n"
     ]
    }
   ],
   "source": [
    "#5. Write a program to check if a number is a single unit number, 2-, digit number and so no.., upto 5 digits\n",
    "num = int(input(\"Enter a number upto 5 digits : \"))\n",
    "if num >= 0 and num <= 9:\n",
    "    print(\"It is a single digit number\")\n",
    "\n",
    "elif num >= 10 and num <= 99:\n",
    "    print(\"It is a double digit number\")\n",
    "    \n",
    "elif num >= 100 and num <= 999:\n",
    "    print(\"It is a third digit number\")\n",
    "    \n",
    "elif num >= 1000 and num <= 9999:\n",
    "    print(\"It is a four digit number\")\n",
    "    \n",
    "elif num >= 10000 and num <= 99999:\n",
    "    print(\"It is a five digit number\")\n",
    "    \n",
    "else:\n",
    "    print(\"Number is out of the box\")"
   ]
  },
  {
   "cell_type": "code",
   "execution_count": 8,
   "id": "f62e47f2",
   "metadata": {},
   "outputs": [
    {
     "name": "stdout",
     "output_type": "stream",
     "text": [
      "Enter a number upto 5 digits : 333333\n",
      "Number is out of the box\n"
     ]
    }
   ],
   "source": [
    "num = int(input(\"Enter a number upto 5 digits : \"))\n",
    "if num >= 0 and num <= 9:\n",
    "    print(\"It is a single digit number\")\n",
    "\n",
    "elif num >= 10 and num <= 99:\n",
    "    print(\"It is a double digit number\")\n",
    "    \n",
    "elif num >= 100 and num <= 999:\n",
    "    print(\"It is a third digit number\")\n",
    "    \n",
    "elif num >= 1000 and num <= 9999:\n",
    "    print(\"It is a four digit number\")\n",
    "    \n",
    "elif num >= 10000 and num <= 99999:\n",
    "    print(\"It is a five digit number\")\n",
    "    \n",
    "else:\n",
    "    print(\"Number is out of the box\")"
   ]
  },
  {
   "cell_type": "markdown",
   "id": "1308309d",
   "metadata": {},
   "source": [
    "## Introduction to Loops:-\n",
    "* A loop means to repeat something in the exact same way.\n",
    "* Types of loops are:\n",
    "  1. For Loop\n",
    "  2. While Loop\n",
    "  3. While True\n",
    "  4. Nested Loop"
   ]
  },
  {
   "cell_type": "markdown",
   "id": "3258f98c",
   "metadata": {},
   "source": [
    "#### 1. For Loop:-\n",
    "* For loop is a loop that repeats something in a given range.\n",
    "* The range has a starting point, ending point and a step/gap in it.\n",
    "* +1 is added to the ending point while defining a range.\n"
   ]
  },
  {
   "cell_type": "code",
   "execution_count": 9,
   "id": "ee9c98d5",
   "metadata": {},
   "outputs": [
    {
     "name": "stdout",
     "output_type": "stream",
     "text": [
      "1\n",
      "2\n",
      "3\n",
      "4\n",
      "5\n"
     ]
    }
   ],
   "source": [
    "for i in range(1,6):\n",
    "    print(i)"
   ]
  },
  {
   "cell_type": "code",
   "execution_count": 10,
   "id": "8f375d4c",
   "metadata": {},
   "outputs": [
    {
     "name": "stdout",
     "output_type": "stream",
     "text": [
      "Harsh\n",
      "Harsh\n",
      "Harsh\n",
      "Harsh\n",
      "Harsh\n"
     ]
    }
   ],
   "source": [
    "for i in range(1,6):\n",
    "    print(\"Harsh\")"
   ]
  },
  {
   "cell_type": "code",
   "execution_count": 11,
   "id": "72867cdd",
   "metadata": {},
   "outputs": [
    {
     "name": "stdout",
     "output_type": "stream",
     "text": [
      "1\n",
      "3\n",
      "5\n"
     ]
    }
   ],
   "source": [
    "for i in range(1,6,2):\n",
    "    print(i)"
   ]
  },
  {
   "cell_type": "code",
   "execution_count": 12,
   "id": "81e0ffca",
   "metadata": {},
   "outputs": [
    {
     "name": "stdout",
     "output_type": "stream",
     "text": [
      "0\n",
      "2\n",
      "4\n"
     ]
    }
   ],
   "source": [
    "for i in range(0,6,2):\n",
    "    print(i)"
   ]
  },
  {
   "cell_type": "code",
   "execution_count": 14,
   "id": "b1f75a69",
   "metadata": {},
   "outputs": [
    {
     "name": "stdout",
     "output_type": "stream",
     "text": [
      "Enter a number : 5\n",
      "5 * 1 = 5\n",
      "5 * 2 = 10\n",
      "5 * 3 = 15\n",
      "5 * 4 = 20\n",
      "5 * 5 = 25\n",
      "5 * 6 = 30\n",
      "5 * 7 = 35\n",
      "5 * 8 = 40\n",
      "5 * 9 = 45\n",
      "5 * 10 = 50\n"
     ]
    }
   ],
   "source": [
    "n = int(input(\"Enter a number : \"))\n",
    "for i in range(1,11):\n",
    "    print(n,\"*\",i,\"=\", n*i)"
   ]
  },
  {
   "cell_type": "code",
   "execution_count": 15,
   "id": "08adb741",
   "metadata": {},
   "outputs": [
    {
     "name": "stdout",
     "output_type": "stream",
     "text": [
      "Enter a number : 9\n",
      "9 * 1 = 9\n",
      "9 * 2 = 18\n",
      "9 * 3 = 27\n",
      "9 * 4 = 36\n",
      "9 * 5 = 45\n",
      "9 * 6 = 54\n",
      "9 * 7 = 63\n",
      "9 * 8 = 72\n",
      "9 * 9 = 81\n",
      "9 * 10 = 90\n"
     ]
    }
   ],
   "source": [
    "n = int(input(\"Enter a number : \"))\n",
    "for i in range(1,11):\n",
    "    print(n,\"*\",i,\"=\", n*i)"
   ]
  },
  {
   "cell_type": "markdown",
   "id": "9f2d4d31",
   "metadata": {},
   "source": [
    "#### 2. While Loop :-\n",
    "* While Loop executes till the given condition is true.\n",
    "* In while Loop, the increment is done inside the loop."
   ]
  },
  {
   "cell_type": "code",
   "execution_count": 1,
   "id": "ba4768c0",
   "metadata": {},
   "outputs": [
    {
     "name": "stdout",
     "output_type": "stream",
     "text": [
      "0\n",
      "1\n",
      "2\n",
      "3\n",
      "4\n",
      "5\n"
     ]
    }
   ],
   "source": [
    "n = 0\n",
    "while n <=5:\n",
    "    print(n)\n",
    "    n += 1"
   ]
  },
  {
   "cell_type": "code",
   "execution_count": 1,
   "id": "154dba71",
   "metadata": {},
   "outputs": [
    {
     "name": "stdout",
     "output_type": "stream",
     "text": [
      "9 * 1 = 9\n",
      "9 * 2 = 18\n",
      "9 * 3 = 27\n",
      "9 * 4 = 36\n",
      "9 * 5 = 45\n",
      "9 * 6 = 54\n",
      "9 * 7 = 63\n",
      "9 * 8 = 72\n",
      "9 * 9 = 81\n",
      "9 * 10 = 90\n"
     ]
    }
   ],
   "source": [
    "n = 1\n",
    "a = 9\n",
    "\n",
    "while n <= 10:\n",
    "    print(a, \"*\", n, \"=\", n*a)\n",
    "    n += 1"
   ]
  },
  {
   "cell_type": "code",
   "execution_count": 3,
   "id": "d7828777",
   "metadata": {},
   "outputs": [
    {
     "name": "stdout",
     "output_type": "stream",
     "text": [
      "Enter a number : 199\n",
      "199 * 1 = 199\n",
      "199 * 2 = 398\n",
      "199 * 3 = 597\n",
      "199 * 4 = 796\n",
      "199 * 5 = 995\n",
      "199 * 6 = 1194\n",
      "199 * 7 = 1393\n",
      "199 * 8 = 1592\n",
      "199 * 9 = 1791\n",
      "199 * 10 = 1990\n"
     ]
    }
   ],
   "source": [
    "n = 1\n",
    "a = int(input(\"Enter a number : \"))\n",
    "\n",
    "while n <= 10:\n",
    "    print(a, \"*\", n, \"=\", n*a)\n",
    "    n += 1"
   ]
  },
  {
   "cell_type": "markdown",
   "id": "a653d0ae",
   "metadata": {},
   "source": [
    "#### 3. While True\n",
    "* It is an Infinite Loop.\n",
    "* To break a while true loop, break statement is used."
   ]
  },
  {
   "cell_type": "code",
   "execution_count": null,
   "id": "17b19090",
   "metadata": {},
   "outputs": [],
   "source": [
    "n = 1\n",
    "while True:\n",
    "    print(n)\n",
    "    n+=1"
   ]
  },
  {
   "cell_type": "code",
   "execution_count": 4,
   "id": "b02254fb",
   "metadata": {},
   "outputs": [
    {
     "name": "stdout",
     "output_type": "stream",
     "text": [
      "Enter a number here: 45\n",
      "Enter another number here: 21\n",
      "66\n",
      "Do you want to stop the program: no\n",
      "Enter a number here: 32\n",
      "Enter another number here: 12\n",
      "44\n",
      "Do you want to stop the program: yes\n"
     ]
    }
   ],
   "source": [
    "while True:\n",
    "    num1 = int(input(\"Enter a number here: \"))\n",
    "    num2 = int(input(\"Enter another number here: \"))\n",
    "    \n",
    "    print(num1+num2)\n",
    "    \n",
    "    repeat = input(\"Do you want to stop the program: \")\n",
    "    if repeat == \"yes\":\n",
    "        break"
   ]
  },
  {
   "cell_type": "markdown",
   "id": "e2cc9e9c",
   "metadata": {},
   "source": [
    "#### 4. Nested Loops:-\n",
    "* A loop inside a loop is called as nested loop.\n",
    "* Nested loop are also used to slove pattern problems."
   ]
  },
  {
   "cell_type": "code",
   "execution_count": 13,
   "id": "a2e0ee13",
   "metadata": {},
   "outputs": [
    {
     "name": "stdout",
     "output_type": "stream",
     "text": [
      "1 2 3 4 5 6 7 8 9 10 \n",
      "1 2 3 4 5 6 7 8 9 10 \n",
      "1 2 3 4 5 6 7 8 9 10 \n",
      "1 2 3 4 5 6 7 8 9 10 \n"
     ]
    }
   ],
   "source": [
    "for i in range(1,5):\n",
    "    for j in range(1, 11):\n",
    "        print(j, end = \" \")\n",
    "    print()"
   ]
  },
  {
   "cell_type": "code",
   "execution_count": 15,
   "id": "8825fccc",
   "metadata": {},
   "outputs": [
    {
     "name": "stdout",
     "output_type": "stream",
     "text": [
      "1 \n",
      "1 2 \n",
      "1 2 3 \n",
      "1 2 3 4 \n",
      "1 2 3 4 5 \n"
     ]
    }
   ],
   "source": [
    "for i in range(1, 6):\n",
    "    for j in range(1, i+1):\n",
    "        print(j, end = \" \")\n",
    "    print()"
   ]
  },
  {
   "cell_type": "markdown",
   "id": "c178c028",
   "metadata": {},
   "source": [
    "#### For Loop with conditional statements:-\n",
    "* The use of if-else statements increases the ability of for loop to completes the task effectively. By using if-else statements we can provide with special conditions inside for loop."
   ]
  },
  {
   "cell_type": "code",
   "execution_count": 16,
   "id": "48ab0167",
   "metadata": {},
   "outputs": [
    {
     "name": "stdout",
     "output_type": "stream",
     "text": [
      "1\n",
      "2\n",
      "Add this song to fav\n",
      "4\n",
      "5\n",
      "6\n",
      "7\n",
      "8\n",
      "9\n",
      "10\n"
     ]
    }
   ],
   "source": [
    "for i in range(1,11):\n",
    "    if i == 3:\n",
    "        print(\"Add this song to fav\")\n",
    "    else:\n",
    "        print(i)"
   ]
  },
  {
   "cell_type": "code",
   "execution_count": 18,
   "id": "7db313b1",
   "metadata": {},
   "outputs": [
    {
     "name": "stdout",
     "output_type": "stream",
     "text": [
      "24\n",
      "48\n",
      "72\n",
      "96\n"
     ]
    }
   ],
   "source": [
    "for i in range(1, 101):\n",
    "    if i % 8 == 0 and i % 12 == 0:\n",
    "        print(i)"
   ]
  },
  {
   "cell_type": "code",
   "execution_count": 19,
   "id": "c4fdc3e3",
   "metadata": {},
   "outputs": [
    {
     "name": "stdout",
     "output_type": "stream",
     "text": [
      "1\n",
      "2\n",
      "add this to fav\n",
      "4\n",
      "5\n",
      "6\n",
      "7\n",
      "8\n",
      "9\n",
      "10\n"
     ]
    }
   ],
   "source": [
    "n = 1\n",
    "while n <= 10:\n",
    "    if n == 3:\n",
    "        print(\"add this to fav\")\n",
    "    else:\n",
    "        print(n)\n",
    "    n += 1"
   ]
  },
  {
   "cell_type": "markdown",
   "id": "2e1bb1ed",
   "metadata": {},
   "source": [
    "### Break and Continue Statements:-"
   ]
  },
  {
   "cell_type": "markdown",
   "id": "b1e6c7f2",
   "metadata": {},
   "source": [
    "#### Continue Statement:-\n",
    "* Continue Statement is used when you want to skip a particular condition.\n",
    "\n",
    "#### Break Statement:-\n",
    "* Break Statement is used when you want to destroy a loop at a certain condition and come out of the loop."
   ]
  },
  {
   "cell_type": "code",
   "execution_count": 20,
   "id": "45141e67",
   "metadata": {},
   "outputs": [
    {
     "name": "stdout",
     "output_type": "stream",
     "text": [
      "1\n",
      "2\n",
      "3\n",
      "4\n",
      "5\n",
      "6\n"
     ]
    }
   ],
   "source": [
    "for i in range (1, 11):\n",
    "    if i == 7:\n",
    "        break\n",
    "    else:\n",
    "        print(i)"
   ]
  },
  {
   "cell_type": "markdown",
   "id": "23d854a4",
   "metadata": {},
   "source": [
    "### Problem:-\n",
    "1. Write a program to find a sum of all the even numbers up to 50.\n",
    "2. Write a program to write first 20 numbers and their squared numbers.\n",
    "3. Write a program to find sum of first 10 odd numbers using while loop.\n",
    "4. Write a program to check if a number is divisible by 8 and 10, 0 to 100 numbers.\n",
    "5. Write a program to crate a billing system at supermart."
   ]
  },
  {
   "cell_type": "code",
   "execution_count": 21,
   "id": "3ee6e8b2",
   "metadata": {},
   "outputs": [
    {
     "name": "stdout",
     "output_type": "stream",
     "text": [
      "2\n",
      "4\n",
      "6\n",
      "8\n",
      "10\n",
      "12\n",
      "14\n",
      "16\n",
      "18\n",
      "20\n",
      "22\n",
      "24\n",
      "26\n",
      "28\n",
      "30\n",
      "32\n",
      "34\n",
      "36\n",
      "38\n",
      "40\n",
      "42\n",
      "44\n",
      "46\n",
      "48\n",
      "50\n"
     ]
    }
   ],
   "source": [
    "# 1. Write a program to find a sum of all the even numbers up to 50.\n",
    "for i in range(1, 51):\n",
    "    if i % 2 == 0:\n",
    "        print(i)"
   ]
  },
  {
   "cell_type": "code",
   "execution_count": 6,
   "id": "ed3b2905",
   "metadata": {},
   "outputs": [
    {
     "name": "stdout",
     "output_type": "stream",
     "text": [
      "The square of this given number is :  1\n",
      "The square of this given number is :  4\n",
      "The square of this given number is :  9\n",
      "The square of this given number is :  16\n",
      "The square of this given number is :  25\n",
      "The square of this given number is :  36\n",
      "The square of this given number is :  49\n",
      "The square of this given number is :  64\n",
      "The square of this given number is :  81\n",
      "The square of this given number is :  100\n",
      "The square of this given number is :  121\n",
      "The square of this given number is :  144\n",
      "The square of this given number is :  169\n",
      "The square of this given number is :  196\n",
      "The square of this given number is :  225\n",
      "The square of this given number is :  256\n",
      "The square of this given number is :  289\n",
      "The square of this given number is :  324\n",
      "The square of this given number is :  361\n",
      "The square of this given number is :  400\n"
     ]
    }
   ],
   "source": [
    "#2. Write a program to write first 20 numbers and their squared numbers.\n",
    "for i in range(1, 21):\n",
    "    print(\"The square of this given number is : \",i**2)\n",
    "    i+=1\n"
   ]
  },
  {
   "cell_type": "code",
   "execution_count": 1,
   "id": "81365955",
   "metadata": {},
   "outputs": [
    {
     "name": "stdout",
     "output_type": "stream",
     "text": [
      "The sum of first 10 odd number is 100\n"
     ]
    }
   ],
   "source": [
    "#3. Write a program to find sum of first 10 odd numbers using while loop.\n",
    "sum = 0\n",
    "n = 0\n",
    "while n <= 20:\n",
    "    if n % 2 != 0:\n",
    "        sum += n\n",
    "    n += 1\n",
    "print(\"The sum of first 10 odd number is\",sum)"
   ]
  },
  {
   "cell_type": "code",
   "execution_count": 7,
   "id": "8d30248a",
   "metadata": {},
   "outputs": [
    {
     "name": "stdout",
     "output_type": "stream",
     "text": [
      "40\n",
      "80\n"
     ]
    }
   ],
   "source": [
    "# 4. Write a program to check if a number is divisible by 8 and 10, 0 to 100 numbers.\n",
    "for i in range(1, 101):\n",
    "    if i % 8 == 0 and i % 10 == 0:\n",
    "        print(i)"
   ]
  },
  {
   "cell_type": "code",
   "execution_count": 8,
   "id": "40c2164e",
   "metadata": {},
   "outputs": [
    {
     "name": "stdout",
     "output_type": "stream",
     "text": [
      "24\n",
      "48\n",
      "72\n",
      "96\n"
     ]
    }
   ],
   "source": [
    "# Write a program to check if a number is divisible by 8 and 12, 0 to 100 numbers.\n",
    "for i in range(1, 101):\n",
    "    if i % 8 == 0 and i % 12 == 0:\n",
    "        print(i)"
   ]
  },
  {
   "cell_type": "code",
   "execution_count": 1,
   "id": "b84cec7e",
   "metadata": {},
   "outputs": [
    {
     "name": "stdout",
     "output_type": "stream",
     "text": [
      "Enter customer's name: Harsh\n",
      "Enter the amount and quantity: \n",
      "Enter amount: 100\n",
      "Enter quantity: 3\n",
      "Do you want to add more items? (yes / no): yes\n",
      "Enter the amount and quantity: \n",
      "Enter amount: 50\n",
      "Enter quantity: 3\n",
      "Do you want to add more items? (yes / no): No\n",
      "----------------------------------------\n",
      "Name:  Harsh\n",
      "Amount to be paid:  450.0\n",
      "----------------------------------------\n",
      "**********Happy Shopping**********\n",
      "Do you want to go to next customer? (yes / no): no\n"
     ]
    }
   ],
   "source": [
    "# 5. Write a program to crate a billing system at supermart.\n",
    "while True:\n",
    "    name = input(\"Enter customer's name: \")\n",
    "    total = 0\n",
    "    \n",
    "    while True:\n",
    "        print(\"Enter the amount and quantity: \")\n",
    "        amount = float(input(\"Enter amount: \"))\n",
    "        quantity = float(input(\"Enter quantity: \"))\n",
    "        total += amount * quantity\n",
    "        repeat = input(\"Do you want to add more items? (yes / no): \")\n",
    "        if repeat == \"no\" or repeat == \"No\":\n",
    "            break\n",
    "    print(\"-\"*40)\n",
    "    print(\"Name: \", name)\n",
    "    print(\"Amount to be paid: \", total)\n",
    "    print(\"-\"*40)\n",
    "    print(\"**********Happy Shopping**********\")\n",
    "    \n",
    "    repeat1 = input(\"Do you want to go to next customer? (yes / no): \")\n",
    "    if repeat == \"no\" or repeat == \"No\":\n",
    "        break\n"
   ]
  },
  {
   "cell_type": "markdown",
   "id": "bddf088e",
   "metadata": {},
   "source": [
    "### Problems:-\n",
    "* A = \"Why fit in, When you are Born to stand out!\"\n",
    "1. Write a program to find the length of the following string.\n",
    "2. Write a program to check how many time alphabet o is occuring.\n",
    "3. Write a program to convert the whole string into lower and upper cases.\n",
    "4. Write a program to convert the following string into a title.\n",
    "5. Write a program to find the index number of \"fit in\"."
   ]
  },
  {
   "cell_type": "code",
   "execution_count": 2,
   "id": "e98514a2",
   "metadata": {},
   "outputs": [
    {
     "name": "stdout",
     "output_type": "stream",
     "text": [
      "43\n"
     ]
    }
   ],
   "source": [
    "# 1. Write a program to find the length of the following string.\n",
    "A = \"Why fit in, When you are Born to stand out!\"\n",
    "print(len(A))"
   ]
  },
  {
   "cell_type": "code",
   "execution_count": 5,
   "id": "e46cea54",
   "metadata": {},
   "outputs": [
    {
     "name": "stdout",
     "output_type": "stream",
     "text": [
      "4\n"
     ]
    }
   ],
   "source": [
    "#2. Write a program to check how many time alphabet o is occuring.\n",
    "A = \"Why fit in, When you are Born to stand out!\"\n",
    "print(A.count(\"o\"))"
   ]
  },
  {
   "cell_type": "code",
   "execution_count": 7,
   "id": "8d980dc4",
   "metadata": {},
   "outputs": [
    {
     "name": "stdout",
     "output_type": "stream",
     "text": [
      "WHY FIT IN, WHEN YOU ARE BORN TO STAND OUT!\n",
      "why fit in, when you are born to stand out!\n"
     ]
    }
   ],
   "source": [
    "#3. Write a program to convert the whole string into lower and upper cases.\n",
    "A = \"Why fit in, When you are Born to stand out!\"\n",
    "print(A.upper())\n",
    "print(A.lower())"
   ]
  },
  {
   "cell_type": "code",
   "execution_count": 8,
   "id": "88c1a092",
   "metadata": {},
   "outputs": [
    {
     "name": "stdout",
     "output_type": "stream",
     "text": [
      "Why Fit In, When You Are Born To Stand Out!\n"
     ]
    }
   ],
   "source": [
    "# 4. Write a program to convert the following string into a title.\n",
    "A = \"Why fit in, When you are Born to stand out!\"\n",
    "z = A.title()\n",
    "print(z)"
   ]
  },
  {
   "cell_type": "code",
   "execution_count": 9,
   "id": "efa19226",
   "metadata": {},
   "outputs": [
    {
     "name": "stdout",
     "output_type": "stream",
     "text": [
      "4\n"
     ]
    }
   ],
   "source": [
    "# 5. Write a program to find the index number of \"fit in\".\n",
    "A = \"Why fit in, When you are Born to stand out!\"\n",
    "print(A.find(\"fit in\"))"
   ]
  },
  {
   "cell_type": "markdown",
   "id": "2bd1d068",
   "metadata": {},
   "source": [
    "Problems:-\n",
    "* 1\n",
    "* 12\n",
    "* 123\n",
    "* 1234\n",
    "* 12345\n",
    "  - Write a program to display this pattern."
   ]
  },
  {
   "cell_type": "code",
   "execution_count": 10,
   "id": "9f4a12e0",
   "metadata": {},
   "outputs": [
    {
     "name": "stdout",
     "output_type": "stream",
     "text": [
      "1 \n",
      "1 2 \n",
      "1 2 3 \n",
      "1 2 3 4 \n",
      "1 2 3 4 5 \n"
     ]
    }
   ],
   "source": [
    "for i in range(1, 6):\n",
    "    for j in range(1, i+1):\n",
    "        print(j, end = \" \")\n",
    "    print()"
   ]
  },
  {
   "cell_type": "code",
   "execution_count": 11,
   "id": "95dcbebf",
   "metadata": {},
   "outputs": [
    {
     "name": "stdout",
     "output_type": "stream",
     "text": [
      "* \n",
      "* * \n",
      "* * * \n",
      "* * * * \n",
      "* * * * * \n"
     ]
    }
   ],
   "source": [
    "for i in range(1, 6):\n",
    "    for j in range(1, i+1):\n",
    "        print(\"*\", end = \" \")\n",
    "    print()"
   ]
  },
  {
   "cell_type": "markdown",
   "id": "b82f8b40",
   "metadata": {},
   "source": [
    "Problem:-\n",
    "* Write a program to display this pattern.\n",
    "    1. 1\n",
    "    2. 22\n",
    "    3. 333\n",
    "    4. 4444\n",
    "    5. 55555"
   ]
  },
  {
   "cell_type": "code",
   "execution_count": 14,
   "id": "6f89d0e0",
   "metadata": {},
   "outputs": [
    {
     "name": "stdout",
     "output_type": "stream",
     "text": [
      "1 \n",
      "2 2 \n",
      "3 3 3 \n",
      "4 4 4 4 \n",
      "5 5 5 5 5 \n"
     ]
    }
   ],
   "source": [
    "for i in range(1, 6):\n",
    "    for j in range(1, i+1):\n",
    "        print(i, end = \" \")\n",
    "    print()"
   ]
  },
  {
   "cell_type": "markdown",
   "id": "4a9f8436",
   "metadata": {},
   "source": [
    "Problems:-\n",
    "* Write a program to display this pattern.\n",
    "  1. 11111\n",
    "  2. 2222\n",
    "  3. 333\n",
    "  4. 44\n",
    "  5. 5"
   ]
  },
  {
   "cell_type": "code",
   "execution_count": 18,
   "id": "0ab63766",
   "metadata": {},
   "outputs": [
    {
     "name": "stdout",
     "output_type": "stream",
     "text": [
      "1 1 1 1 1 \n",
      "2 2 2 2 \n",
      "3 3 3 \n",
      "4 4 \n",
      "5 \n"
     ]
    }
   ],
   "source": [
    "for i in range(1, 6):\n",
    "    for j in range(6, i,-1):\n",
    "        print(i, end = \" \")\n",
    "    print()"
   ]
  },
  {
   "cell_type": "code",
   "execution_count": 20,
   "id": "94476e88",
   "metadata": {},
   "outputs": [
    {
     "name": "stdout",
     "output_type": "stream",
     "text": [
      "        * \n",
      "      * * \n",
      "    * * * \n",
      "  * * * * \n",
      "* * * * * \n"
     ]
    }
   ],
   "source": [
    "#Problem:-\n",
    "# Write a program to display this pattern.\n",
    "#  1. *\n",
    "#  2. **\n",
    "#  3. ***\n",
    "#  4. ****\n",
    "#  5. *****\n",
    "\n",
    "for i in range(1, 6):\n",
    "    for j in range(5, i, -1):\n",
    "        print(\" \", end = \" \")\n",
    "    for k in range(i):\n",
    "        print(\"*\", end = \" \")\n",
    "    print()"
   ]
  },
  {
   "cell_type": "markdown",
   "id": "ec65aa0d",
   "metadata": {},
   "source": [
    "Problems:-\n",
    "* Write a program to display this pattern.\n",
    "  1. 1\n",
    "  2. 21\n",
    "  3. 321\n",
    "  4. 4321\n",
    "  5. 54321"
   ]
  },
  {
   "cell_type": "code",
   "execution_count": 21,
   "id": "c3eb3790",
   "metadata": {},
   "outputs": [
    {
     "name": "stdout",
     "output_type": "stream",
     "text": [
      "1 \n",
      "2 1 \n",
      "3 2 1 \n",
      "4 3 2 1 \n",
      "5 4 3 2 1 \n"
     ]
    }
   ],
   "source": [
    "for i in range(1,6):\n",
    "    for j in range(i, 0, -1):\n",
    "        print(j, end=\" \")\n",
    "    print()"
   ]
  },
  {
   "cell_type": "markdown",
   "id": "39e2037a",
   "metadata": {},
   "source": [
    "Problems:-\n",
    "* Write a program to display this pattern.\n",
    "  1. 1\n",
    "  2. 12\n",
    "  3. 123\n",
    "  4. 1234\n",
    "  5. 12345\n",
    "  6. 1234\n",
    "  7. 123\n",
    "  8. 12\n",
    "  9. 1"
   ]
  },
  {
   "cell_type": "code",
   "execution_count": 30,
   "id": "4c71a889",
   "metadata": {},
   "outputs": [
    {
     "name": "stdout",
     "output_type": "stream",
     "text": [
      "1 \n",
      "1 2 \n",
      "1 2 3 \n",
      "1 2 3 4 \n",
      "1 2 3 4 5 \n",
      "0 1 2 3 \n",
      "0 1 2 \n",
      "0 1 \n",
      "0 \n",
      "\n"
     ]
    }
   ],
   "source": [
    "for i in range(1, 6):\n",
    "    for j in range(1, i+1):\n",
    "        print(j, end = \" \")\n",
    "    print()\n",
    "for i in range(5, 0, -1):\n",
    "    for k in range(0, i-1):\n",
    "        print(k, end = \" \")\n",
    "    print()"
   ]
  },
  {
   "cell_type": "code",
   "execution_count": 29,
   "id": "30aea4ff",
   "metadata": {},
   "outputs": [
    {
     "name": "stdout",
     "output_type": "stream",
     "text": [
      "* \n",
      "* * \n",
      "* * * \n",
      "* * * * \n",
      "* * * * * \n",
      "* * * * \n",
      "* * * \n",
      "* * \n",
      "* \n",
      "\n"
     ]
    }
   ],
   "source": [
    "for i in range(1, 6):\n",
    "    for j in range(1, i+1):\n",
    "        print(\"*\", end = \" \")\n",
    "    print()\n",
    "for i in range(5, 0, -1):\n",
    "    for k in range(0, i-1):\n",
    "        print(\"*\", end = \" \")\n",
    "    print()"
   ]
  },
  {
   "cell_type": "markdown",
   "id": "2057bc1c",
   "metadata": {},
   "source": [
    "Problem :-\n",
    "* Write a program to display the following pattern.\n",
    "  1. 1\n",
    "  2. 2, 4\n",
    "  3. 3, 6, 9\n",
    "  4. 4, 8, 12, 16\n",
    "  5. 5, 10, 15, 20, 25\n",
    "  6. 6, 12, 18, 24, 30, 36\n",
    "  7. 7, 14, 21, 28, 35, 42, 49\n",
    "  8. 8, 16, 24, 32, 40, 48, 56, 64"
   ]
  },
  {
   "cell_type": "code",
   "execution_count": 2,
   "id": "28825e34",
   "metadata": {},
   "outputs": [
    {
     "name": "stdout",
     "output_type": "stream",
     "text": [
      "1 \n",
      "2 4 \n",
      "3 6 9 \n",
      "4 8 12 16 \n",
      "5 10 15 20 25 \n",
      "6 12 18 24 30 36 \n",
      "7 14 21 28 35 42 49 \n",
      "8 16 24 32 40 48 56 64 \n",
      "9 18 27 36 45 54 63 72 81 \n",
      "10 20 30 40 50 60 70 80 90 100 \n"
     ]
    }
   ],
   "source": [
    "for i in range(1, 11):\n",
    "    for j in range(1, i+1):\n",
    "        print(i*j, end = \" \")\n",
    "    print()"
   ]
  },
  {
   "cell_type": "markdown",
   "id": "eb833d3d",
   "metadata": {},
   "source": [
    "### String Manipulation :-\n",
    "* String are the combination of number, symbols and letters, enclosed inside quotations.\n",
    "\n",
    "* Creation of a String : Strings can be created by enclosing numbers, letters or special symbols inside double quotations.\n",
    "  - It means assigning a string value to a variables.\n",
    "  - a = (\"hello world\")\n",
    "  - print(a)"
   ]
  },
  {
   "cell_type": "code",
   "execution_count": 3,
   "id": "9ff050ff",
   "metadata": {},
   "outputs": [
    {
     "name": "stdout",
     "output_type": "stream",
     "text": [
      "<class 'str'>\n",
      "Hello World\n"
     ]
    }
   ],
   "source": [
    "a = \"Hello World\"\n",
    "print(type(a))\n",
    "print(a)"
   ]
  },
  {
   "cell_type": "markdown",
   "id": "e006671d",
   "metadata": {},
   "source": [
    "#### String Method :-\n",
    "1. Length\n",
    "2. Count\n",
    "3. Upper\n",
    "4. Lower\n",
    "5. Index\n",
    "6. Capitalize\n",
    "7. Casefold\n",
    "8. Find\n",
    "9. Format\n",
    "10. Center\n",
    "11. isalnum :- Returns true if all characters in the string are alphanumeric\n",
    "12. isalpha :- Returns true if all characters in the string are in the alphabet\n",
    "13. isdecimal :- Returns true if all characters in the string are decimal\n",
    "14. isdigit :- Returns true if all characters in the string are digits\n",
    "15. isnumeric :- Returns true if all characters in the string are numeric\n",
    "16. islower :- Converts a string into lower case\n",
    "17. isupper :- Converts a string into upper case\n",
    "18. isspace :- Returns true if all characters in the string are whitespaces\n",
    "19. istitle :- Returns true if the string follows the rules of a title"
   ]
  },
  {
   "cell_type": "code",
   "execution_count": 10,
   "id": "04142e43",
   "metadata": {},
   "outputs": [
    {
     "name": "stdout",
     "output_type": "stream",
     "text": [
      "Sensex is an indicator of the market sentiment or of the economy of the country. Think of this indicator as a mutual fund which as a pool of 30 companies with varying weightages. The prices of these companies are constantly fluctuating, thus directly causing the Sensex price movements.\n"
     ]
    }
   ],
   "source": [
    "a = \"Sensex is an indicator of the market sentiment or of the economy of the country. Think of this indicator as a mutual fund which as a pool of 30 companies with varying weightages. The prices of these companies are constantly fluctuating, thus directly causing the Sensex price movements.\"\n",
    "print(a)"
   ]
  },
  {
   "cell_type": "code",
   "execution_count": 4,
   "id": "3f458e86",
   "metadata": {},
   "outputs": [
    {
     "name": "stdout",
     "output_type": "stream",
     "text": [
      "286\n"
     ]
    }
   ],
   "source": [
    "a = (\"Sensex is an indicator of the market sentiment or of the economy of the country. Think of this indicator as a mutual fund which as a pool of 30 companies with varying weightages. The prices of these companies are constantly fluctuating, thus directly causing the Sensex price movements.\")\n",
    "print(len(a))"
   ]
  },
  {
   "cell_type": "code",
   "execution_count": 12,
   "id": "fd3e64aa",
   "metadata": {},
   "outputs": [
    {
     "name": "stdout",
     "output_type": "stream",
     "text": [
      "25\n"
     ]
    }
   ],
   "source": [
    "a = (\"Sensex is an indicator of the market sentiment or of the economy of the country. Think of this indicator as a mutual fund which as a pool of 30 companies with varying weightages. The prices of these companies are constantly fluctuating, thus directly causing the Sensex price movements.\")\n",
    "print(a.count(\"e\"))"
   ]
  },
  {
   "cell_type": "code",
   "execution_count": 8,
   "id": "0becbe9f",
   "metadata": {},
   "outputs": [
    {
     "name": "stdout",
     "output_type": "stream",
     "text": [
      "SENSEX IS AN INDICATOR OF THE MARKET SENTIMENT OR OF THE ECONOMY OF THE COUNTRY. THINK OF THIS INDICATOR AS A MUTUAL FUND WHICH AS A POOL OF 30 COMPANIES WITH VARYING WEIGHTAGES. THE PRICES OF THESE COMPANIES ARE CONSTANTLY FLUCTUATING, THUS DIRECTLY CAUSING THE SENSEX PRICE MOVEMENTS.\n"
     ]
    }
   ],
   "source": [
    "a = (\"Sensex is an indicator of the market sentiment or of the economy of the country. Think of this indicator as a mutual fund which as a pool of 30 companies with varying weightages. The prices of these companies are constantly fluctuating, thus directly causing the Sensex price movements.\")\n",
    "print(a.upper())"
   ]
  },
  {
   "cell_type": "code",
   "execution_count": 9,
   "id": "c7e05363",
   "metadata": {},
   "outputs": [
    {
     "name": "stdout",
     "output_type": "stream",
     "text": [
      "sensex is an indicator of the market sentiment or of the economy of the country. think of this indicator as a mutual fund which as a pool of 30 companies with varying weightages. the prices of these companies are constantly fluctuating, thus directly causing the sensex price movements.\n"
     ]
    }
   ],
   "source": [
    "a = (\"Sensex is an indicator of the market sentiment or of the economy of the country. Think of this indicator as a mutual fund which as a pool of 30 companies with varying weightages. The prices of these companies are constantly fluctuating, thus directly causing the Sensex price movements.\")\n",
    "print(a.lower())"
   ]
  },
  {
   "cell_type": "code",
   "execution_count": 17,
   "id": "de87ca99",
   "metadata": {},
   "outputs": [
    {
     "name": "stdout",
     "output_type": "stream",
     "text": [
      "10\n"
     ]
    }
   ],
   "source": [
    "a = \"Sensex is an indicator of the market sentiment or of the economy of the country. Think of this indicator as a mutual fund which as a pool of 30 companies with varying weightages. The prices of these companies are constantly fluctuating, thus directly causing the Sensex price movements.\"\n",
    "print(a.index(\"a\",10, 105))"
   ]
  },
  {
   "cell_type": "code",
   "execution_count": 18,
   "id": "5d52a232",
   "metadata": {},
   "outputs": [
    {
     "name": "stdout",
     "output_type": "stream",
     "text": [
      "Sensex is an indicator of the market sentiment or of the economy of the country. think of this indicator as a mutual fund which as a pool of 30 companies with varying weightages. the prices of these companies are constantly fluctuating, thus directly causing the sensex price movements.\n"
     ]
    }
   ],
   "source": [
    "a = \"Sensex is an indicator of the market sentiment or of the economy of the country. Think of this indicator as a mutual fund which as a pool of 30 companies with varying weightages. The prices of these companies are constantly fluctuating, thus directly causing the Sensex price movements.\"\n",
    "print(a.capitalize())"
   ]
  },
  {
   "cell_type": "code",
   "execution_count": 20,
   "id": "37432912",
   "metadata": {},
   "outputs": [
    {
     "name": "stdout",
     "output_type": "stream",
     "text": [
      "23\n"
     ]
    }
   ],
   "source": [
    "a = \"Sensex is an indicator of the market sentiment or of the economy of the country. Think of this indicator as a mutual fund which as a pool of 30 companies with varying weightages. The prices of these companies are constantly fluctuating, thus directly causing the Sensex price movements.\"\n",
    "print(a.find(\"of\"))"
   ]
  },
  {
   "cell_type": "code",
   "execution_count": 25,
   "id": "2fe5c738",
   "metadata": {},
   "outputs": [
    {
     "name": "stdout",
     "output_type": "stream",
     "text": [
      "my name is Harsh. and my age is 24\n"
     ]
    }
   ],
   "source": [
    "name =\"Harsh\"\n",
    "age = 24\n",
    "b = \"my name is {}. and my age is {}\"\n",
    "print(b.format(name, age))"
   ]
  },
  {
   "cell_type": "code",
   "execution_count": 27,
   "id": "59065c23",
   "metadata": {},
   "outputs": [
    {
     "name": "stdout",
     "output_type": "stream",
     "text": [
      "*******Harsh********\n"
     ]
    }
   ],
   "source": [
    "print(name.center(20, \"*\"))"
   ]
  },
  {
   "cell_type": "markdown",
   "id": "21a251ac",
   "metadata": {},
   "source": [
    "11. isalnum :- Returns true if all characters in the string are alphanumeric\n",
    "12. isalpha :- Returns true if all characters in the string are in the alphabet\n",
    "13. isdecimal :- Returns true if all characters in the string are decimal\n",
    "14. isdigit :- Returns true if all characters in the string are digits\n",
    "15. isnumeric :- Returns true if all characters in the string are numeric\n",
    "16. islower :- Converts a string into lower case\n",
    "17. isupper :- Converts a string into upper case\n",
    "18. isspace :- Returns true if all characters in the string are whitespaces\n",
    "19. istitle :- Returns true if the string follows the rules of a title"
   ]
  },
  {
   "cell_type": "code",
   "execution_count": 30,
   "id": "5f50f094",
   "metadata": {},
   "outputs": [
    {
     "name": "stdout",
     "output_type": "stream",
     "text": [
      "True\n",
      "True\n",
      "True\n",
      "True\n",
      "False\n",
      "False\n",
      "False\n"
     ]
    }
   ],
   "source": [
    "a = \"hello\"\n",
    "b = \"123Hello\"\n",
    "c = \"12345\"\n",
    "d = \"HELLO\"\n",
    "e = \" \"\n",
    "f = \"Hello 123@\"\n",
    "g = \"1.234\"\n",
    "\n",
    "print(a.isalnum())\n",
    "print(b.isalnum())\n",
    "print(c.isalnum())\n",
    "print(d.isalnum())\n",
    "print(e.isalnum())\n",
    "print(f.isalnum())\n",
    "print(g.isalnum())"
   ]
  },
  {
   "cell_type": "code",
   "execution_count": 31,
   "id": "4d45ee77",
   "metadata": {},
   "outputs": [
    {
     "name": "stdout",
     "output_type": "stream",
     "text": [
      "True\n",
      "False\n",
      "False\n",
      "True\n",
      "False\n",
      "False\n",
      "False\n"
     ]
    }
   ],
   "source": [
    "a = \"hello\"\n",
    "b = \"123Hello\"\n",
    "c = \"12345\"\n",
    "d = \"HELLO\"\n",
    "e = \" \"\n",
    "f = \"Hello 123@\"\n",
    "g = \"1.234\"\n",
    "\n",
    "print(a.isalpha())\n",
    "print(b.isalpha())\n",
    "print(c.isalpha())\n",
    "print(d.isalpha())\n",
    "print(e.isalpha())\n",
    "print(f.isalpha())\n",
    "print(g.isalpha())"
   ]
  },
  {
   "cell_type": "code",
   "execution_count": 32,
   "id": "dae0858f",
   "metadata": {},
   "outputs": [
    {
     "name": "stdout",
     "output_type": "stream",
     "text": [
      "False\n",
      "False\n",
      "True\n",
      "False\n",
      "False\n",
      "False\n",
      "False\n"
     ]
    }
   ],
   "source": [
    "a = \"hello\"\n",
    "b = \"123Hello\"\n",
    "c = \"12345\"\n",
    "d = \"HELLO\"\n",
    "e = \" \"\n",
    "f = \"Hello 123@\"\n",
    "g = \"1.234\"\n",
    "\n",
    "print(a.isdecimal())\n",
    "print(b.isdecimal())\n",
    "print(c.isdecimal())\n",
    "print(d.isdecimal())\n",
    "print(e.isdecimal())\n",
    "print(f.isdecimal())\n",
    "print(g.isdecimal())"
   ]
  },
  {
   "cell_type": "code",
   "execution_count": 34,
   "id": "9f6113d7",
   "metadata": {},
   "outputs": [
    {
     "name": "stdout",
     "output_type": "stream",
     "text": [
      "False\n",
      "False\n",
      "True\n",
      "False\n",
      "False\n",
      "False\n",
      "False\n"
     ]
    }
   ],
   "source": [
    "a = \"hello\"\n",
    "b = \"123Hello\"\n",
    "c = \"12345\"\n",
    "d = \"HELLO\"\n",
    "e = \" \"\n",
    "f = \"Hello 123@\"\n",
    "g = \"1.234\"\n",
    "\n",
    "print(a.isdigit())\n",
    "print(b.isdigit())\n",
    "print(c.isdigit())\n",
    "print(d.isdigit())\n",
    "print(e.isdigit())\n",
    "print(f.isdigit())\n",
    "print(g.isdigit())"
   ]
  },
  {
   "cell_type": "code",
   "execution_count": 35,
   "id": "1db0f726",
   "metadata": {},
   "outputs": [
    {
     "name": "stdout",
     "output_type": "stream",
     "text": [
      "False\n",
      "False\n",
      "True\n",
      "False\n",
      "False\n",
      "False\n",
      "False\n"
     ]
    }
   ],
   "source": [
    "a = \"hello\"\n",
    "b = \"123Hello\"\n",
    "c = \"12345\"\n",
    "d = \"HELLO\"\n",
    "e = \" \"\n",
    "f = \"Hello 123@\"\n",
    "g = \"1.234\"\n",
    "\n",
    "print(a.isnumeric())\n",
    "print(b.isnumeric())\n",
    "print(c.isnumeric())\n",
    "print(d.isnumeric())\n",
    "print(e.isnumeric())\n",
    "print(f.isnumeric())\n",
    "print(g.isnumeric())"
   ]
  },
  {
   "cell_type": "code",
   "execution_count": 36,
   "id": "68e487c0",
   "metadata": {},
   "outputs": [
    {
     "name": "stdout",
     "output_type": "stream",
     "text": [
      "True\n",
      "False\n",
      "False\n",
      "False\n",
      "False\n",
      "False\n",
      "False\n"
     ]
    }
   ],
   "source": [
    "a = \"hello\"\n",
    "b = \"123Hello\"\n",
    "c = \"12345\"\n",
    "d = \"HELLO\"\n",
    "e = \" \"\n",
    "f = \"Hello 123@\"\n",
    "g = \"1.234\"\n",
    "\n",
    "print(a.islower())\n",
    "print(b.islower())\n",
    "print(c.islower())\n",
    "print(d.islower())\n",
    "print(e.islower())\n",
    "print(f.islower())\n",
    "print(g.islower())"
   ]
  },
  {
   "cell_type": "code",
   "execution_count": 37,
   "id": "7e525abd",
   "metadata": {},
   "outputs": [
    {
     "name": "stdout",
     "output_type": "stream",
     "text": [
      "True\n",
      "False\n",
      "False\n",
      "False\n",
      "False\n",
      "False\n",
      "False\n"
     ]
    }
   ],
   "source": [
    "a = \"hello\"\n",
    "b = \"123Hello\"\n",
    "c = \"12345\"\n",
    "d = \"HELLO\"\n",
    "e = \" \"\n",
    "f = \"Hello 123@\"\n",
    "g = \"1.234\"\n",
    "\n",
    "print(a.islower())\n",
    "print(b.islower())\n",
    "print(c.islower())\n",
    "print(d.islower())\n",
    "print(e.islower())\n",
    "print(f.islower())\n",
    "print(g.islower())"
   ]
  },
  {
   "cell_type": "code",
   "execution_count": 39,
   "id": "c1e6dba7",
   "metadata": {},
   "outputs": [
    {
     "name": "stdout",
     "output_type": "stream",
     "text": [
      "False\n",
      "False\n",
      "False\n",
      "False\n",
      "True\n",
      "False\n",
      "False\n"
     ]
    }
   ],
   "source": [
    "a = \"hello\"\n",
    "b = \"123Hello\"\n",
    "c = \"12345\"\n",
    "d = \"HELLO\"\n",
    "e = \" \"\n",
    "f = \"Hello 123@\"\n",
    "g = \"1.234\"\n",
    "\n",
    "print(a.isspace())\n",
    "print(b.isspace())\n",
    "print(c.isspace())\n",
    "print(d.isspace())\n",
    "print(e.isspace())\n",
    "print(f.isspace())\n",
    "print(g.isspace())"
   ]
  },
  {
   "cell_type": "code",
   "execution_count": 41,
   "id": "6f4d06b0",
   "metadata": {},
   "outputs": [
    {
     "name": "stdout",
     "output_type": "stream",
     "text": [
      "False\n",
      "True\n",
      "False\n",
      "False\n",
      "False\n",
      "True\n",
      "False\n"
     ]
    }
   ],
   "source": [
    "a = \"hello\"\n",
    "b = \"123Hello\"\n",
    "c = \"12345\"\n",
    "d = \"HELLO\"\n",
    "e = \" \"\n",
    "f = \"Hello 123@\"\n",
    "g = \"1.234\"\n",
    "\n",
    "print(a.istitle())\n",
    "print(b.istitle())\n",
    "print(c.istitle())\n",
    "print(d.istitle())\n",
    "print(e.istitle())\n",
    "print(f.istitle())\n",
    "print(g.istitle())"
   ]
  },
  {
   "cell_type": "markdown",
   "id": "b7bd1738",
   "metadata": {},
   "source": [
    "20. endswith() :- Returns true if the string ends with the specified value\n",
    "21. startswith() :- Returns true if the string starts with the specified value\n",
    "22. swapcase() :- Swap cases, lower case becomes upper case and vice versa\n",
    "23. strip() :- Returns a trimmed version of the string\n",
    "24. split() :- Splits the string at the specified seperator, and returns a list\n",
    "25. ljust() :- Returns a left justified version of the string\n",
    "26. rjust() :- Returns a right justified version of the string\n",
    "27. replace() :- Returns a string where a specified value is replaced with a specified value\n",
    "28. rindex() :- Searches the string for a specified value and returns the last position of where it was found\n",
    "29. rfind() :- Searches the string for a specified value and returns the last position of where it was found"
   ]
  },
  {
   "cell_type": "code",
   "execution_count": 45,
   "id": "10ba6c4b",
   "metadata": {},
   "outputs": [
    {
     "name": "stdout",
     "output_type": "stream",
     "text": [
      "True\n",
      "False\n",
      "True\n"
     ]
    }
   ],
   "source": [
    "a = \"Harry Potter\"\n",
    "print(a.endswith(\"r\"))\n",
    "print(a.endswith(\"P\"))\n",
    "print(a.endswith(\"t\", 6, 9))"
   ]
  },
  {
   "cell_type": "code",
   "execution_count": 48,
   "id": "2c8789d5",
   "metadata": {},
   "outputs": [
    {
     "name": "stdout",
     "output_type": "stream",
     "text": [
      "True\n",
      "False\n",
      "True\n"
     ]
    }
   ],
   "source": [
    "a = \"Harry Potter\"\n",
    "print(a.startswith(\"H\"))\n",
    "print(a.startswith(\"P\"))\n",
    "print(a.startswith(\"P\", 6, 9))"
   ]
  },
  {
   "cell_type": "code",
   "execution_count": 49,
   "id": "787cb431",
   "metadata": {},
   "outputs": [
    {
     "name": "stdout",
     "output_type": "stream",
     "text": [
      "hARRY pOTTER\n"
     ]
    }
   ],
   "source": [
    "a = \"Harry Potter\"\n",
    "print(a.swapcase())"
   ]
  },
  {
   "cell_type": "code",
   "execution_count": 55,
   "id": "654c9f36",
   "metadata": {},
   "outputs": [
    {
     "name": "stdout",
     "output_type": "stream",
     "text": [
      "     ****Harry Potter**** .....     \n",
      "Harry Potter\n"
     ]
    }
   ],
   "source": [
    "a = \"     ****Harry Potter**** .....     \"\n",
    "print(a)\n",
    "print(a.strip(\".,*, \"))"
   ]
  },
  {
   "cell_type": "code",
   "execution_count": 57,
   "id": "fd7b54f9",
   "metadata": {},
   "outputs": [
    {
     "name": "stdout",
     "output_type": "stream",
     "text": [
      "['OOFD', 'BRB', 'OMW', 'TB']\n"
     ]
    }
   ],
   "source": [
    "a = \"OOFD#BRB#OMW#TB\"\n",
    "print(a.split(\"#\"))"
   ]
  },
  {
   "cell_type": "code",
   "execution_count": 63,
   "id": "7f27034d",
   "metadata": {},
   "outputs": [
    {
     "name": "stdout",
     "output_type": "stream",
     "text": [
      "Harry Potter-------------------------------------- is my favorite movie\n"
     ]
    }
   ],
   "source": [
    "a = \"Harry Potter\"\n",
    "x = a.ljust(50,\"-\")\n",
    "print(x, \"is my favorite movie\")"
   ]
  },
  {
   "cell_type": "code",
   "execution_count": 64,
   "id": "fa907466",
   "metadata": {},
   "outputs": [
    {
     "name": "stdout",
     "output_type": "stream",
     "text": [
      "--------------------------------------Harry Potter is my favorite movie\n"
     ]
    }
   ],
   "source": [
    "a = \"Harry Potter\"\n",
    "x = a.rjust(50,\"-\")\n",
    "print(x, \"is my favorite movie\")"
   ]
  },
  {
   "cell_type": "code",
   "execution_count": 65,
   "id": "ecc05757",
   "metadata": {},
   "outputs": [
    {
     "name": "stdout",
     "output_type": "stream",
     "text": [
      "My name is John\n",
      "My name is Harsh\n"
     ]
    }
   ],
   "source": [
    "a = \"My name is John\"\n",
    "print(a)\n",
    "print(a.replace(\"John\", \"Harsh\"))\n"
   ]
  },
  {
   "cell_type": "code",
   "execution_count": 66,
   "id": "52f179a9",
   "metadata": {},
   "outputs": [
    {
     "name": "stdout",
     "output_type": "stream",
     "text": [
      "6\n"
     ]
    }
   ],
   "source": [
    "a = \"Harsh is a good boy\"\n",
    "print(a.rindex(\"is\"))"
   ]
  },
  {
   "cell_type": "code",
   "execution_count": 72,
   "id": "2b348784",
   "metadata": {},
   "outputs": [
    {
     "name": "stdout",
     "output_type": "stream",
     "text": [
      "11\n"
     ]
    }
   ],
   "source": [
    "a = \"Harsh is a very good boy\"\n",
    "print(a.rfind(\"very\"))"
   ]
  },
  {
   "cell_type": "markdown",
   "id": "ffc9402c",
   "metadata": {},
   "source": [
    "#### Slicing in Strings :-"
   ]
  },
  {
   "cell_type": "code",
   "execution_count": 73,
   "id": "6eea83be",
   "metadata": {},
   "outputs": [
    {
     "name": "stdout",
     "output_type": "stream",
     "text": [
      "Harry \n"
     ]
    }
   ],
   "source": [
    "a = \"Harry Potter is a good movie\"\n",
    "print(a[0:6])"
   ]
  },
  {
   "cell_type": "code",
   "execution_count": 74,
   "id": "b82d09c1",
   "metadata": {},
   "outputs": [
    {
     "name": "stdout",
     "output_type": "stream",
     "text": [
      "9876543210\n"
     ]
    }
   ],
   "source": [
    "b = \"0123456789\"\n",
    "print(b[::-1])"
   ]
  },
  {
   "cell_type": "markdown",
   "id": "051ae9d4",
   "metadata": {},
   "source": [
    "#### Problems :-\n",
    "1. Write a program to get fibonacci series up to 10 numbers.\n",
    "2. Write a program to check if a numbr is prime or not.\n",
    "3. Write a program to find a palindrome of integers.\n",
    "4. Write a program to create an area calculator."
   ]
  },
  {
   "cell_type": "code",
   "execution_count": 77,
   "id": "c4bd0375",
   "metadata": {},
   "outputs": [
    {
     "name": "stdout",
     "output_type": "stream",
     "text": [
      "Enter a number :15\n",
      "0\n",
      "1\n",
      "1\n",
      "2\n",
      "3\n",
      "5\n",
      "8\n",
      "13\n",
      "21\n",
      "34\n",
      "55\n",
      "89\n",
      "144\n",
      "233\n",
      "377\n"
     ]
    }
   ],
   "source": [
    "# 1. Write a program to get fibonacci series up to 10 numbers.\n",
    "a = 0\n",
    "b = 1\n",
    "n = int(input(\"Enter a number :\"))\n",
    "if n == 1:\n",
    "    print(1)\n",
    "else:\n",
    "    print(a)\n",
    "    print(b)\n",
    "\n",
    "    for i in range(2, n):\n",
    "        c = a+b\n",
    "        a = b\n",
    "        b = c\n",
    "        print(c)"
   ]
  },
  {
   "cell_type": "code",
   "execution_count": 83,
   "id": "c653ac62",
   "metadata": {},
   "outputs": [
    {
     "name": "stdout",
     "output_type": "stream",
     "text": [
      "Enter a number here: 12\n",
      "Number is not a prime number\n"
     ]
    }
   ],
   "source": [
    "# 2. Write a program to check if a numbr is prime or not.\n",
    "num = int(input(\"Enter a number here: \"))\n",
    "if num <= 1:\n",
    "    print(\"It is not a prime number\")\n",
    "else:\n",
    "    for i in range(2, num):\n",
    "        if num % i == 0:\n",
    "            print(\"Number is not a prime number\")\n",
    "            break\n",
    "    else:\n",
    "        print(\"It is a prime number\")"
   ]
  },
  {
   "cell_type": "code",
   "execution_count": 82,
   "id": "059ba97d",
   "metadata": {},
   "outputs": [
    {
     "name": "stdout",
     "output_type": "stream",
     "text": [
      "Enter a number here: 13\n",
      "It is a prime number\n"
     ]
    }
   ],
   "source": [
    "num = int(input(\"Enter a number here: \"))\n",
    "if num <= 1:\n",
    "    print(\"It is not a prime number\")\n",
    "else:\n",
    "    for i in range(2, num):\n",
    "        if num % i == 0:\n",
    "            print(\"Number is not a prime number\")\n",
    "            break\n",
    "    else:\n",
    "        print(\"It is a prime number\")"
   ]
  },
  {
   "cell_type": "code",
   "execution_count": 84,
   "id": "7912a4c7",
   "metadata": {},
   "outputs": [
    {
     "name": "stdout",
     "output_type": "stream",
     "text": [
      "Enter a number here: 131\n",
      "It is palindrome\n"
     ]
    }
   ],
   "source": [
    "# 3. Write a program to find a palindrome of integers.\n",
    "num = int(input(\"Enter a number here: \"))\n",
    "temp = num\n",
    "rev = 0\n",
    "while num > 0:\n",
    "    dig = num%10\n",
    "    rev = rev*10 + dig\n",
    "    num =num // 10\n",
    "    \n",
    "if rev == temp:\n",
    "    print(\"It is palindrome\")\n",
    "else:\n",
    "    print(\"it is no palindrome\")"
   ]
  },
  {
   "cell_type": "code",
   "execution_count": 1,
   "id": "503d96e0",
   "metadata": {},
   "outputs": [
    {
     "name": "stdout",
     "output_type": "stream",
     "text": [
      "***** AREA CALCULATOR *****\n",
      "press 1 to get the area of square\n",
      "    press 2 to get the area of rectangle\n",
      "    press 3 to get the area of circle\n",
      "    press 4 to get the area of triangle\n",
      "Enter a number between 1-4: 1\n",
      "Enter the length of one side: 1\n",
      "The area of square is  1.0\n",
      "Do you want to try again with square? no\n",
      "Enter the length of one side: 5\n",
      "The area of square is  25.0\n",
      "Do you want to try again with square? No\n",
      "do you want to repeat the menu again? No\n"
     ]
    }
   ],
   "source": [
    "# 4. Write a program to create an area calculator.\n",
    "print(\"***** AREA CALCULATOR *****\")\n",
    "while True:\n",
    "    print(\"\"\"press 1 to get the area of square\n",
    "    press 2 to get the area of rectangle\n",
    "    press 3 to get the area of circle\n",
    "    press 4 to get the area of triangle\"\"\")\n",
    "\n",
    "    choice = int(input(\"Enter a number between 1-4: \"))\n",
    "\n",
    "    if choice == 1:\n",
    "        while True:\n",
    "            side = float(input(\"Enter the length of one side: \"))\n",
    "            area = side**2\n",
    "            print(\"The area of square is \", area)\n",
    "            repeat = input(\"Do you want to try again with square? \")\n",
    "            if repeat == \"No\":\n",
    "                break\n",
    "    \n",
    "    elif choice == 2:\n",
    "        while True:\n",
    "            length = float(input(\"Enter the length of the rectangle: \"))\n",
    "            width = float(input(\"Enter the length of the rectangle: \"))\n",
    "            area = length*width\n",
    "            print(\"The area of the rectangle is \", area)\n",
    "            repeat = input(\"Do you want to continue with this program? \")\n",
    "            if repeat == \"No\":\n",
    "                break\n",
    "\n",
    "    elif choice == 3:\n",
    "        while True:\n",
    "            radius = float(input(\"Enter the radius of the circle: \"))\n",
    "            area = (3.14*(radius**2))\n",
    "            print(\"The area of the circle is\", area)\n",
    "            repeat = input(\"Do you want to continue with this program? \")\n",
    "            if repeat == \"No\":\n",
    "                break\n",
    "\n",
    "    elif choice == 4:\n",
    "         while True:\n",
    "            base = float(input(\"Enter base of the triangle: \"))\n",
    "            height = float(input(\"Enter height of the triangle: \"))\n",
    "            area = 0.5*base*height\n",
    "            print(\"The are of the triangle is \", area)\n",
    "            repeat = input(\"Do you want to repeat this code? \")\n",
    "            if repeat == \"No\":\n",
    "                break\n",
    "                \n",
    "    repeat1 = input(\"do you want to repeat the menu again? \")\n",
    "    if repeat1 == \"No\":\n",
    "        break\n",
    "    \n",
    "else:\n",
    "    print(\"Data not found.\")"
   ]
  },
  {
   "cell_type": "markdown",
   "id": "ea045180",
   "metadata": {},
   "source": [
    "#### Problems :-\n",
    "A = \"OOTD.YOLO.ASAP.BRB.GTG.OTW\"\n",
    "1. Write a program to seperate the following string into coma(,) seperated values.\n",
    "2. Write a program to sort strings alphabetically in python.\n",
    "3. Write a program to remove a given character from a string. \n",
    "4. Write a program to remove dot(.) from the following string. Z = \"F.R.I.E.N.D.S.\"\n",
    "5. Write a program to check the number of occurance of string"
   ]
  },
  {
   "cell_type": "code",
   "execution_count": 2,
   "id": "88a00320",
   "metadata": {},
   "outputs": [
    {
     "name": "stdout",
     "output_type": "stream",
     "text": [
      "['OOTD', 'YOLO', 'ASAP', 'BRB', 'GTG', 'OTW']\n"
     ]
    }
   ],
   "source": [
    "# 1. Write a program to seperate the following string into coma(,) seperated values.\n",
    "a = \"OOTD.YOLO.ASAP.BRB.GTG.OTW\"\n",
    "b = a.split(\".\")\n",
    "print(b)"
   ]
  },
  {
   "cell_type": "code",
   "execution_count": 3,
   "id": "ff4b6a6c",
   "metadata": {},
   "outputs": [
    {
     "name": "stdout",
     "output_type": "stream",
     "text": [
      "Enter anything here: hello\n",
      "['e', 'h', 'l', 'l', 'o']\n"
     ]
    }
   ],
   "source": [
    "# 2. Write a program to sort strings alphabetically in python.\n",
    "a = input(\"Enter anything here: \")\n",
    "b = sorted(a)\n",
    "print(b)"
   ]
  },
  {
   "cell_type": "code",
   "execution_count": 4,
   "id": "44ee0076",
   "metadata": {},
   "outputs": [
    {
     "name": "stdout",
     "output_type": "stream",
     "text": [
      "hllo\n"
     ]
    }
   ],
   "source": [
    "# 3. Write a program to remove a given character from a string. \n",
    "a = \"hello\"\n",
    "b = a.replace(\"e\",\"\")\n",
    "print(b)"
   ]
  },
  {
   "cell_type": "code",
   "execution_count": 6,
   "id": "d773579a",
   "metadata": {},
   "outputs": [
    {
     "name": "stdout",
     "output_type": "stream",
     "text": [
      "FRIENDS\n"
     ]
    }
   ],
   "source": [
    "# 4. Write a program to remove dot(.) from the following string. Z = \"F.R.I.E.N.D.S.\"\n",
    "Z = \"F.R.I.E.N.D.S.\"\n",
    "b = Z.replace(\".\",\"\")\n",
    "print(b)"
   ]
  },
  {
   "cell_type": "code",
   "execution_count": 7,
   "id": "2ac8067a",
   "metadata": {},
   "outputs": [
    {
     "name": "stdout",
     "output_type": "stream",
     "text": [
      "5\n"
     ]
    }
   ],
   "source": [
    "# 5. Write a program to check the number of occurance of a substring in a string\n",
    "a = \"Sensex is an indicator of the market sentiment or of the economy of the country. think of this indicator as a mutual fund which as a pool of 30 companies with varying weightages. the prices of these companies are constantly fluctuating, thus directly causing the sensex price movements.\"\n",
    "b = a.count(\"se\")\n",
    "print(b)"
   ]
  },
  {
   "cell_type": "markdown",
   "id": "a769dc3b",
   "metadata": {},
   "source": [
    "#### Problems :-\n",
    "1. Take an input from a user as a string then, reverse it.\n",
    "2. Write a program to check if a string contains only digits.\n",
    "3. Write a program to check if a string is palindrome.\n",
    "4. Write a program to find number of vowels in a string.\n",
    "5. Write a program to check if every word in a string begins with a capital letter."
   ]
  },
  {
   "cell_type": "code",
   "execution_count": 10,
   "id": "7dea57fa",
   "metadata": {},
   "outputs": [
    {
     "name": "stdout",
     "output_type": "stream",
     "text": [
      "Enter anything: happy birthday\n",
      "yadhtrib yppah\n"
     ]
    }
   ],
   "source": [
    "# 1. Take an input from a user as a string then, reverse it.\n",
    "a = input(\"Enter anything: \")\n",
    "print(a[::-1])"
   ]
  },
  {
   "cell_type": "code",
   "execution_count": 11,
   "id": "0187fe01",
   "metadata": {},
   "outputs": [
    {
     "name": "stdout",
     "output_type": "stream",
     "text": [
      "Enter anything: harsh123\n",
      "False\n"
     ]
    }
   ],
   "source": [
    "# 2. Write a program to check if a string contains only digits.\n",
    "a = input(\"Enter anything: \")\n",
    "print(a.isdigit())"
   ]
  },
  {
   "cell_type": "code",
   "execution_count": 1,
   "id": "a9785153",
   "metadata": {},
   "outputs": [
    {
     "name": "stdout",
     "output_type": "stream",
     "text": [
      "Enter anything: 15\n",
      "It contains only digits\n"
     ]
    }
   ],
   "source": [
    "a = input(\"Enter anything: \")\n",
    "b = (a.isdigit())\n",
    "if b == True:\n",
    "    print(\"It contains only digits\")\n",
    "else:\n",
    "    print(\"It doesn't contain only digits\")"
   ]
  },
  {
   "cell_type": "code",
   "execution_count": 12,
   "id": "d32bb9ad",
   "metadata": {},
   "outputs": [
    {
     "name": "stdout",
     "output_type": "stream",
     "text": [
      "Enter anything: 12345\n",
      "True\n"
     ]
    }
   ],
   "source": [
    "a = input(\"Enter anything: \")\n",
    "print(a.isdigit())"
   ]
  },
  {
   "cell_type": "code",
   "execution_count": 2,
   "id": "d9ae14c8",
   "metadata": {},
   "outputs": [
    {
     "name": "stdout",
     "output_type": "stream",
     "text": [
      "Enter Anything Here: mam\n",
      "It is palindrome\n"
     ]
    }
   ],
   "source": [
    "# 3. Write a program to check if a string is palindrome.\n",
    "a = input(\"Enter Anything Here: \")\n",
    "rev = a[::-1]\n",
    "if a == rev:\n",
    "    print(\"It is palindrome\")\n",
    "else:\n",
    "    print(\"It is not palindrome\")"
   ]
  },
  {
   "cell_type": "code",
   "execution_count": 3,
   "id": "5d522b7f",
   "metadata": {},
   "outputs": [
    {
     "name": "stdout",
     "output_type": "stream",
     "text": [
      "Enter Anything Here: harsh\n",
      "It is not palindrome\n"
     ]
    }
   ],
   "source": [
    "a = input(\"Enter Anything Here: \")\n",
    "rev = a[::-1]\n",
    "if a == rev:\n",
    "    print(\"It is palindrome\")\n",
    "else:\n",
    "    print(\"It is not palindrome\")"
   ]
  },
  {
   "cell_type": "code",
   "execution_count": 6,
   "id": "41fe880b",
   "metadata": {},
   "outputs": [
    {
     "name": "stdout",
     "output_type": "stream",
     "text": [
      "Enter anything: hello\n",
      "The number of vowels in the following string is:  2\n"
     ]
    }
   ],
   "source": [
    "# 4. Write a program to find number of vowels in a string.\n",
    "a = input(\"Enter anything: \")\n",
    "vowels = 0\n",
    "for i in a:\n",
    "    if i == \"a\" or i == \"e\" or i == \"i\" or i == \"o\" or i == \"u\" or i == \"A\" or i == \"E\" or i == \"I\" or i == \"O\" or i == \"U\":\n",
    "        vowels += 1\n",
    "    \n",
    "print(\"The number of vowels in the following string is: \",vowels)"
   ]
  },
  {
   "cell_type": "code",
   "execution_count": 7,
   "id": "498f963d",
   "metadata": {},
   "outputs": [
    {
     "name": "stdout",
     "output_type": "stream",
     "text": [
      "Enter anything: HELLO HARSH\n",
      "The number of vowels in the following string is:  3\n"
     ]
    }
   ],
   "source": [
    "a = input(\"Enter anything: \")\n",
    "vowels = 0\n",
    "for i in a:\n",
    "    if i == \"a\" or i == \"e\" or i == \"i\" or i == \"o\" or i == \"u\" or i == \"A\" or i == \"E\" or i == \"I\" or i == \"O\" or i == \"U\":\n",
    "        vowels += 1\n",
    "    \n",
    "print(\"The number of vowels in the following string is: \",vowels)"
   ]
  },
  {
   "cell_type": "code",
   "execution_count": 8,
   "id": "3a37eaec",
   "metadata": {},
   "outputs": [
    {
     "name": "stdout",
     "output_type": "stream",
     "text": [
      "Enter anything here: Harsh\n",
      "True\n"
     ]
    }
   ],
   "source": [
    "# 5. Write a program to check if every word in a string begins with a capital letter.\n",
    "a = input(\"Enter anything here: \")\n",
    "print(a.istitle())"
   ]
  },
  {
   "cell_type": "code",
   "execution_count": 9,
   "id": "04ec3d96",
   "metadata": {},
   "outputs": [
    {
     "name": "stdout",
     "output_type": "stream",
     "text": [
      "Enter anything here: Happy journey\n",
      "False\n"
     ]
    }
   ],
   "source": [
    "a = input(\"Enter anything here: \")\n",
    "print(a.istitle())"
   ]
  },
  {
   "cell_type": "markdown",
   "id": "577bf3a2",
   "metadata": {},
   "source": [
    "## Introduction of Lists"
   ]
  },
  {
   "cell_type": "markdown",
   "id": "875e9d86",
   "metadata": {},
   "source": [
    "#### Lists:-\n",
    "* Lists are the collection of ordered and mutable data.\n",
    "  1. Lists are written inside the squared brackets [].\n",
    "  2. The value inside a list is seperated by coma (,).\n",
    "  3. Mutable means once created, they can be changed.\n",
    "  4. Multiple datatypes can be written inside a list."
   ]
  },
  {
   "cell_type": "code",
   "execution_count": 11,
   "id": "b6b4e8e9",
   "metadata": {},
   "outputs": [
    {
     "name": "stdout",
     "output_type": "stream",
     "text": [
      "<class 'list'>\n",
      "['Apple', 'Banana', 'Mango', 12, 14, 50, 52.62]\n"
     ]
    }
   ],
   "source": [
    "fruits = [\"Apple\",\"Banana\",\"Mango\",12,14,50,52.62]\n",
    "print(type(fruits))\n",
    "print(fruits)"
   ]
  },
  {
   "cell_type": "markdown",
   "id": "12179a1b",
   "metadata": {},
   "source": [
    "#### Slicing Lists :-"
   ]
  },
  {
   "cell_type": "code",
   "execution_count": 12,
   "id": "3be94ab2",
   "metadata": {},
   "outputs": [
    {
     "name": "stdout",
     "output_type": "stream",
     "text": [
      "Thor\n"
     ]
    }
   ],
   "source": [
    "a = [\"Ironman\", \"Thor\", \"Captain America\", \"Hulk\"]\n",
    "print(a[1])"
   ]
  },
  {
   "cell_type": "code",
   "execution_count": 13,
   "id": "136a16e2",
   "metadata": {},
   "outputs": [
    {
     "name": "stdout",
     "output_type": "stream",
     "text": [
      "['Thor', 'Captain America']\n"
     ]
    }
   ],
   "source": [
    "a = [\"Ironman\", \"Thor\", \"Captain America\", \"Hulk\"]\n",
    "print(a[1:3])"
   ]
  },
  {
   "cell_type": "code",
   "execution_count": 14,
   "id": "220ca261",
   "metadata": {},
   "outputs": [
    {
     "name": "stdout",
     "output_type": "stream",
     "text": [
      "['Thor', 'Captain America', 'Hulk']\n"
     ]
    }
   ],
   "source": [
    "print(a[1:])"
   ]
  },
  {
   "cell_type": "code",
   "execution_count": 15,
   "id": "0ff64cf6",
   "metadata": {},
   "outputs": [
    {
     "name": "stdout",
     "output_type": "stream",
     "text": [
      "['Hulk', 'Captain America', 'Thor', 'Ironman']\n"
     ]
    }
   ],
   "source": [
    "print(a[::-1])"
   ]
  },
  {
   "cell_type": "markdown",
   "id": "cdcaefcb",
   "metadata": {},
   "source": [
    "#### List Iteration :-"
   ]
  },
  {
   "cell_type": "code",
   "execution_count": 24,
   "id": "f4e5a6b3",
   "metadata": {},
   "outputs": [
    {
     "name": "stdout",
     "output_type": "stream",
     "text": [
      "Ironman\n",
      "Thor\n",
      "Captain America\n",
      "Hulk\n",
      "*************************\n",
      "0\n",
      "1\n",
      "2\n",
      "3\n",
      "*************************\n",
      "Ironman\n",
      "Thor\n",
      "Captain America\n",
      "Hulk\n",
      "*************************\n",
      "Ironman\n",
      "Thor\n",
      "Captain America\n",
      "Hulk\n",
      "*************************\n",
      "Ironman\n",
      "Thor\n",
      "Captain America\n",
      "Hulk\n"
     ]
    },
    {
     "data": {
      "text/plain": [
       "[None, None, None, None]"
      ]
     },
     "execution_count": 24,
     "metadata": {},
     "output_type": "execute_result"
    }
   ],
   "source": [
    "# Iteration using for loop\n",
    "a = [\"Ironman\", \"Thor\", \"Captain America\", \"Hulk\"]\n",
    "for i in a:\n",
    "    print(i)\n",
    "    \n",
    "print(\"*\"*25)\n",
    "\n",
    "# Iteration using for loop with range and length function\n",
    "for i in range(len(a)):\n",
    "    print(i)\n",
    "    \n",
    "print(\"*\"*25)\n",
    "\n",
    "# Iteration using for loop with range and length function\n",
    "for i in range(len(a)):\n",
    "    print(a[i])\n",
    "    \n",
    "print(\"*\"*25)\n",
    "\n",
    "# Iteration using while loop\n",
    "i = 0\n",
    "while i < (len(a)):\n",
    "    print(a[i])\n",
    "    i+= 1\n",
    "    \n",
    "print(\"*\"*25)\n",
    "\n",
    "# Using Short-hand for loop\n",
    "a = [\"Ironman\", \"Thor\", \"Captain America\", \"Hulk\"]\n",
    "[print(i) for i in a]"
   ]
  },
  {
   "cell_type": "markdown",
   "id": "0e4d51b5",
   "metadata": {},
   "source": [
    "#### List Functions :-"
   ]
  },
  {
   "cell_type": "code",
   "execution_count": 33,
   "id": "f9df0cab",
   "metadata": {},
   "outputs": [
    {
     "name": "stdout",
     "output_type": "stream",
     "text": [
      "['Ironman', 'Thor', 'Captain America', 'Hulk', 'Thor']\n",
      "5\n",
      "2\n",
      "['Ironman', 'Thor', 'Captain America', 'Hulk', 'Thor', 'Jhon']\n",
      "['Ironman', 'Vision', 'Thor', 'Captain America', 'Hulk', 'Thor', 'Jhon']\n",
      "['Ironman', 'Vision', 'Thor', 'Captain America', 'Thor', 'Jhon']\n",
      "Vision\n",
      "['Ironman', 'Thor', 'Captain America', 'Thor', 'Jhon']\n"
     ]
    }
   ],
   "source": [
    "a = [\"Ironman\", \"Thor\", \"Captain America\", \"Hulk\", \"Thor\"]\n",
    "print(a)\n",
    "\n",
    "# to find the length of a list\n",
    "print(len(a))\n",
    "\n",
    "# to count an occurance of a particular element\n",
    "print(a.count(\"Thor\"))\n",
    "\n",
    "# to add to the list\n",
    "a.append(\"Jhon\")\n",
    "print(a)\n",
    "\n",
    "# to add to a specific location\n",
    "a.insert(1,\"Vision\")\n",
    "print(a)\n",
    "\n",
    "# to remove from a list\n",
    "a.remove(\"Hulk\")\n",
    "print(a)\n",
    "\n",
    "# to remove from a certain location\n",
    "print(a.pop(1))\n",
    "print(a)"
   ]
  },
  {
   "cell_type": "code",
   "execution_count": 3,
   "id": "e12e6910",
   "metadata": {},
   "outputs": [
    {
     "name": "stdout",
     "output_type": "stream",
     "text": [
      "['Ironman', 'Thor', 'Captain America', 'Hulk']\n",
      "[]\n",
      "['Ironman', 'Thor', 'Captain America', 'Hulk']\n",
      "**************************************************\n",
      "1\n",
      "--------------------------------------------------\n",
      "['Ironman', 'Thor', 'Captain America', 'Hulk', 'vision', 'spiderman']\n",
      "++++++++++++++++++++++++++++++++++++++++++++++++++\n",
      "['spiderman', 'vision', 'Hulk', 'Captain America', 'Thor', 'Ironman']\n",
      "**************************************************\n",
      "['Captain America', 'Hulk', 'Ironman', 'Thor', 'spiderman', 'vision']\n",
      "--------------------------------------------------\n",
      "[]\n"
     ]
    }
   ],
   "source": [
    "a = [\"Ironman\", \"Thor\", \"Captain America\", \"Hulk\"]\n",
    "print(a)\n",
    "\n",
    "# to create a copy of a list\n",
    "b = []\n",
    "print(b)\n",
    "b = a.copy()\n",
    "print(b)\n",
    "print(\"*\"*50)\n",
    "\n",
    "# to access an element\n",
    "print(a.index(\"Thor\"))\n",
    "print(\"-\"*50)\n",
    "\n",
    "# to entend the list\n",
    "c = [\"vision\",\"spiderman\"]\n",
    "a.extend(c)\n",
    "print(a)\n",
    "print(\"+\"*50)\n",
    "# to reverse the list\n",
    "a.reverse()\n",
    "print(a)\n",
    "print(\"*\"*50)\n",
    "\n",
    "# to sort the list\n",
    "a.sort()\n",
    "print(a)\n",
    "print(\"-\"*50)\n",
    "\n",
    "# to clear all the data from the list\n",
    "a.clear()\n",
    "print(a)"
   ]
  },
  {
   "cell_type": "markdown",
   "id": "568a62ea",
   "metadata": {},
   "source": [
    "#### List Comprehension :-"
   ]
  },
  {
   "cell_type": "code",
   "execution_count": 8,
   "id": "8178ed64",
   "metadata": {},
   "outputs": [
    {
     "name": "stdout",
     "output_type": "stream",
     "text": [
      "[30, 40, 50, 60] \n",
      " [30, 40, 50, 60]\n",
      "60\n",
      "[50, 60]\n"
     ]
    }
   ],
   "source": [
    "l1 = [30, 40, 50, 60]\n",
    "l2 = []\n",
    "for i in l1:\n",
    "    l2.append(i)\n",
    "    \n",
    "print(l1, \"\\n\", l2)\n",
    "\n",
    "if i > 45:\n",
    "    print(i)\n",
    "    \n",
    "\n",
    "l3 = [i for i in l1 if i > 45]\n",
    "print(l3)"
   ]
  },
  {
   "cell_type": "markdown",
   "id": "1430f644",
   "metadata": {},
   "source": [
    "#### Problem Solving :-\n",
    "A = [\"Ross\",\"Rachel\",\"Monica\",\"Joe\",\"Harsh\"]\n",
    "1. Write a program to swap first and forth element.\n",
    "2. Write a program to add a new value at second position.\n",
    "3. Write a program to delete a value from 3rd position.\n",
    "\n",
    "B = [13, 7, 12, 10]\n",
    "1. Write a program to multiply all the number in the list.\n",
    "2. Write a program to get the largest number from the list.\n",
    "3. Write a program to get the smallest number from the list."
   ]
  },
  {
   "cell_type": "code",
   "execution_count": 3,
   "id": "89c4adbf",
   "metadata": {},
   "outputs": [
    {
     "name": "stdout",
     "output_type": "stream",
     "text": [
      "['Joe', 'Rachel', 'Monica', 'Ross', 'Harsh']\n"
     ]
    }
   ],
   "source": [
    "#1. Write a program to swap first and forth element.\n",
    "A = [\"Ross\",\"Rachel\",\"Monica\",\"Joe\",\"Harsh\"]\n",
    "A[0],A[3] = A[3], A[0]\n",
    "print(A)"
   ]
  },
  {
   "cell_type": "code",
   "execution_count": 6,
   "id": "ee49e0a5",
   "metadata": {},
   "outputs": [
    {
     "name": "stdout",
     "output_type": "stream",
     "text": [
      "['Ross', 'Happy', 'Rachel', 'Monica', 'Joe', 'Harsh']\n"
     ]
    }
   ],
   "source": [
    "# 2. Write a program to add a new value at second position.\n",
    "A.insert(1,\"Happy\")\n",
    "print(A)\n"
   ]
  },
  {
   "cell_type": "code",
   "execution_count": 7,
   "id": "1d89b8a4",
   "metadata": {},
   "outputs": [
    {
     "name": "stdout",
     "output_type": "stream",
     "text": [
      "['Ross', 'Happy', 'Monica', 'Joe', 'Harsh']\n"
     ]
    }
   ],
   "source": [
    "# 3. Write a program to delete a value from 3rd position.\n",
    "A.pop(2)\n",
    "print(A)\n"
   ]
  },
  {
   "cell_type": "code",
   "execution_count": 9,
   "id": "e90d8f9a",
   "metadata": {},
   "outputs": [
    {
     "name": "stdout",
     "output_type": "stream",
     "text": [
      "10920\n"
     ]
    }
   ],
   "source": [
    "#1. Write a program to multiply all the number in the list.\n",
    "B = [13, 7, 12, 10]\n",
    "mul = 1\n",
    "for i in (B):\n",
    "    mul *= i\n",
    "    \n",
    "print(mul)"
   ]
  },
  {
   "cell_type": "code",
   "execution_count": 14,
   "id": "acffb5f8",
   "metadata": {},
   "outputs": [
    {
     "name": "stdout",
     "output_type": "stream",
     "text": [
      "[7, 10, 12, 13]\n",
      "The largest value in the given list is:  13\n"
     ]
    }
   ],
   "source": [
    "# 2. Write a program to get the largest number from the list.\n",
    "a = [13, 7, 12, 10]\n",
    "a.sort()\n",
    "print(a)\n",
    "print(\"The largest value in the given list is: \",a[-1])"
   ]
  },
  {
   "cell_type": "code",
   "execution_count": 15,
   "id": "83b1bd06",
   "metadata": {},
   "outputs": [
    {
     "name": "stdout",
     "output_type": "stream",
     "text": [
      "The smallest value in the given list is:  10\n"
     ]
    }
   ],
   "source": [
    "# 3. Write a program to get the smallest number from the list.\n",
    "print(\"The smallest value in the given list is: \",a[1])"
   ]
  },
  {
   "cell_type": "markdown",
   "id": "a59b9066",
   "metadata": {},
   "source": [
    "## Introduction of Tuples:-"
   ]
  },
  {
   "cell_type": "markdown",
   "id": "cbf4bfaf",
   "metadata": {},
   "source": [
    "### Tuples :-\n",
    "* Tuples are the collection of ordered and un-mutable data.\n",
    "  1. For Tuples no brackets are mandatory. By choice one can use parentheses.\n",
    "  2. The value inside a Tuple is seperated by coma(,).\n",
    "  3. Once created, tuples can't be changed.\n",
    "  4. Multiple datatype can be written inside a tuples."
   ]
  },
  {
   "cell_type": "code",
   "execution_count": 24,
   "id": "25fb54e6",
   "metadata": {},
   "outputs": [
    {
     "name": "stdout",
     "output_type": "stream",
     "text": [
      "<class 'tuple'>\n",
      "('Apple', 'Mango', 'Banana')\n"
     ]
    }
   ],
   "source": [
    "a = (\"Apple\",\"Mango\",\"Banana\")\n",
    "print(type(a))\n",
    "print(a)"
   ]
  },
  {
   "cell_type": "code",
   "execution_count": 25,
   "id": "d8c8c928",
   "metadata": {},
   "outputs": [
    {
     "name": "stdout",
     "output_type": "stream",
     "text": [
      "<class 'str'>\n"
     ]
    }
   ],
   "source": [
    "b = \"Harsh\"\n",
    "print(type(b))"
   ]
  },
  {
   "cell_type": "code",
   "execution_count": 26,
   "id": "e6903672",
   "metadata": {},
   "outputs": [
    {
     "name": "stdout",
     "output_type": "stream",
     "text": [
      "<class 'tuple'>\n"
     ]
    }
   ],
   "source": [
    "b = \"Harsh\",\n",
    "print(type(b))"
   ]
  },
  {
   "cell_type": "markdown",
   "id": "2dcddcd0",
   "metadata": {},
   "source": [
    "#### Slicing and Iteration in Tuples :-\n"
   ]
  },
  {
   "cell_type": "code",
   "execution_count": 33,
   "id": "5ce1be14",
   "metadata": {},
   "outputs": [
    {
     "name": "stdout",
     "output_type": "stream",
     "text": [
      "('Oneplus', 'Vivo')\n",
      "('Apple', 'Oneplus', 'Vivo')\n",
      "('Apple', 'Vivo', 'Nokia')\n",
      "('Redmi', 'Nokia', 'Samsung', 'Vivo', 'Oneplus', 'Apple')\n",
      "('Samsung', 'Vivo', 'Oneplus', 'Apple')\n",
      "('Apple', 'Oneplus', 'Vivo', 'Samsung', 'Nokia', 'Redmi')\n"
     ]
    }
   ],
   "source": [
    "a = (\"Apple\",\"Oneplus\",\"Vivo\",\"Samsung\",\"Nokia\",\"Redmi\")\n",
    "print(a[1:3])\n",
    "print(a[:3])\n",
    "print(a[::2])\n",
    "print(a[::-1])\n",
    "print(a[3::-1])\n",
    "print(a)"
   ]
  },
  {
   "cell_type": "code",
   "execution_count": 1,
   "id": "cc34a2b6",
   "metadata": {},
   "outputs": [
    {
     "name": "stdout",
     "output_type": "stream",
     "text": [
      "('Apple', 'Oneplus', 'Vivo', 'Samsung', 'Nokia', 'Redmi')\n",
      "**************************************************\n",
      "Apple\n",
      "Oneplus\n",
      "Vivo\n",
      "Samsung\n",
      "Nokia\n",
      "Redmi\n",
      "**************************************************\n",
      "Apple\n",
      "Oneplus\n",
      "Vivo\n",
      "Samsung\n",
      "Nokia\n",
      "Redmi\n",
      "**************************************************\n",
      "Apple\n",
      "Oneplus\n",
      "Vivo\n",
      "Samsung\n",
      "Nokia\n",
      "Redmi\n"
     ]
    }
   ],
   "source": [
    "a = (\"Apple\",\"Oneplus\",\"Vivo\",\"Samsung\",\"Nokia\",\"Redmi\")\n",
    "print(a)\n",
    "# with for loop\n",
    "print(\"*\"*50)\n",
    "\n",
    "for i in a:\n",
    "    print(i)\n",
    "    \n",
    "print(\"*\"*50)\n",
    "\n",
    "#along with range and length in for loop\n",
    "for i in range(len(a)):\n",
    "    print(a[i])\n",
    "    \n",
    "print(\"*\"*50)\n",
    "# along with while loop\n",
    "i = 0\n",
    "while i < len(a):\n",
    "    print(a[i])\n",
    "    i += 1"
   ]
  },
  {
   "cell_type": "markdown",
   "id": "f14f78d0",
   "metadata": {},
   "source": [
    "#### Conversion of Tuples and Tuple Functions:-"
   ]
  },
  {
   "cell_type": "code",
   "execution_count": 9,
   "id": "89c42458",
   "metadata": {},
   "outputs": [
    {
     "name": "stdout",
     "output_type": "stream",
     "text": [
      "before conversion <class 'tuple'>\n",
      "After conversion <class 'list'>\n",
      "['Apple', 'Oneplus', 'Vivo', 'Samsung', 'Nokia', 'Redmi', 'Lava']\n",
      "<class 'tuple'>\n",
      "('Apple', 'Oneplus', 'Vivo', 'Samsung', 'Nokia', 'Redmi', 'Lava')\n",
      "Count of Lava is  1\n",
      "The index of Vivo is  2\n"
     ]
    }
   ],
   "source": [
    "a = (\"Apple\",\"Oneplus\",\"Vivo\",\"Samsung\",\"Nokia\",\"Redmi\")\n",
    "print(\"before conversion\", type(a))\n",
    "\n",
    "a = list(a)\n",
    "print(\"After conversion\",type(a))\n",
    "a.append(\"Lava\")\n",
    "print(a)\n",
    "\n",
    "a = tuple(a)\n",
    "print(type(a))\n",
    "print(a)\n",
    "\n",
    "print(\"Count of Lava is \",a.count(\"Lava\"))\n",
    "print(\"The index of Vivo is \",a.index(\"Vivo\"))"
   ]
  },
  {
   "cell_type": "markdown",
   "id": "35fd3e92",
   "metadata": {},
   "source": [
    "### Problem Solving :-\n",
    "1. Convert the following dictionary into JSON format.\n",
    "    * Student_data = {\"name\":\"David\",\"age\":13,\"marks\":87}\n",
    "2. Access the value of age from the given data.\n",
    "    * Student_data = {\"name\":\"David\",\"age\":13,\"marks\":87}\n",
    "3. Pretty Print following JSON data.\n",
    "    * Student_data = {\"name\":\"David\",\"age\":13,\"marks\":87}\n",
    "4. Sort the following JSON keys and write them into a file.\n",
    "    * Student_data = {\"name\":\"David\",\"age\":13,\"marks\":87}"
   ]
  },
  {
   "cell_type": "code",
   "execution_count": 2,
   "id": "bd07746a",
   "metadata": {},
   "outputs": [
    {
     "name": "stdout",
     "output_type": "stream",
     "text": [
      "<class 'dict'>\n",
      "{\"name\": \"David\", \"age\": 13, \"marks\": 87}\n",
      "<class 'str'>\n"
     ]
    }
   ],
   "source": [
    "# 1. Convert the following dictionary into JSON format.\n",
    "import json\n",
    "Student_data = {\"name\":\"David\",\"age\":13,\"marks\":87}\n",
    "print(type(Student_data))\n",
    "data = json.dumps(Student_data)\n",
    "print(data)\n",
    "print(type(data))"
   ]
  },
  {
   "cell_type": "code",
   "execution_count": 8,
   "id": "b27de9da",
   "metadata": {},
   "outputs": [
    {
     "name": "stdout",
     "output_type": "stream",
     "text": [
      "13\n"
     ]
    }
   ],
   "source": [
    "# 2. Access the value of age from the given data.\n",
    "Student_data = \"\"\"{\"name\":\"David\",\"age\":13,\"marks\":87}\"\"\"\n",
    "data = json.loads(Student_data)\n",
    "print(data[\"age\"])"
   ]
  },
  {
   "cell_type": "code",
   "execution_count": 9,
   "id": "c0c62db3",
   "metadata": {},
   "outputs": [
    {
     "name": "stdout",
     "output_type": "stream",
     "text": [
      "{\n",
      "    \"name\":\"David\",\n",
      "    \"age\":13,\n",
      "    \"marks\":87\n",
      "}\n"
     ]
    }
   ],
   "source": [
    "#3. Pretty Print following JSON data.\n",
    "import json\n",
    "\n",
    "Student_data = {\"name\": \"David\", \"age\": 13, \"marks\": 87}\n",
    "data = json.dumps(Student_data, indent=4, separators=(\",\", \":\"))\n",
    "print(data)"
   ]
  },
  {
   "cell_type": "markdown",
   "id": "bfa38f48",
   "metadata": {},
   "source": [
    "## Dictionary :-\n",
    "Dictionary allows user to write the data in the form of keys and values.\n",
    "* Dictionaries are enclosed inside curly brackets {}.\n",
    "* Keys and values are seperated by colon.\n",
    "* Every key value pair is seperated by a coma(,)."
   ]
  },
  {
   "cell_type": "code",
   "execution_count": 10,
   "id": "a0950356",
   "metadata": {},
   "outputs": [
    {
     "name": "stdout",
     "output_type": "stream",
     "text": [
      "{'name': 'John', 'age': 25, 'gender': 'male'}\n",
      "25\n"
     ]
    }
   ],
   "source": [
    "emp = {\"name\":\"John\",\"age\":25, \"gender\":\"male\"}\n",
    "print(emp)\n",
    "print(emp[\"age\"])"
   ]
  },
  {
   "cell_type": "markdown",
   "id": "fe5f9f6c",
   "metadata": {},
   "source": [
    "#### Iteration of Dictionary :-"
   ]
  },
  {
   "cell_type": "code",
   "execution_count": 11,
   "id": "b3a0492f",
   "metadata": {},
   "outputs": [
    {
     "name": "stdout",
     "output_type": "stream",
     "text": [
      "name\n",
      "age\n",
      "gender\n",
      "John\n",
      "25\n",
      "male\n",
      "John\n",
      "25\n",
      "male\n",
      "name John\n",
      "age 25\n",
      "gender male\n"
     ]
    }
   ],
   "source": [
    "emp = {\"name\":\"John\",\"age\":25, \"gender\":\"male\"}\n",
    "\n",
    "# Printing all the key names one by one\n",
    "for x in emp:\n",
    "    print(x)\n",
    "\n",
    "# Printing all the value names one by one \n",
    "for x in emp:\n",
    "    print(emp[x])\n",
    "    \n",
    "# using value function\n",
    "for x in emp.values():\n",
    "    print(x)\n",
    "    \n",
    "#using items function\n",
    "for x, y in emp.items():\n",
    "    print(x, y)"
   ]
  },
  {
   "cell_type": "markdown",
   "id": "4c305f35",
   "metadata": {},
   "source": [
    "#### Dictionary Function:-\n",
    "1. get\n",
    "2. item\n",
    "3. keys\n",
    "4. values\n",
    "5. copy\n",
    "6. setdefault\n",
    "7. update\n",
    "8. pop\n",
    "9. popitem\n",
    "10. clear"
   ]
  },
  {
   "cell_type": "code",
   "execution_count": 23,
   "id": "4413db14",
   "metadata": {},
   "outputs": [
    {
     "name": "stdout",
     "output_type": "stream",
     "text": [
      "David\n",
      "dict_items([('name', 'David'), ('age', 13), ('marks', 87)])\n",
      "dict_keys(['name', 'age', 'marks'])\n",
      "dict_values(['David', 13, 87])\n",
      "{'name': 'David', 'age': 13, 'marks': 87}\n"
     ]
    }
   ],
   "source": [
    "emp = {\"name\": \"David\", \"age\": 13, \"marks\": 87}\n",
    "\n",
    "#get function\n",
    "x = emp.get(\"name\")\n",
    "print(x)\n",
    "\n",
    "#item funciton\n",
    "a = emp.items()\n",
    "print(a)\n",
    "\n",
    "#keys function\n",
    "b = emp.keys()\n",
    "print(b)\n",
    "\n",
    "# values function\n",
    "c = emp.values()\n",
    "print(c)\n",
    "\n",
    "# copy function\n",
    "d = emp.copy()\n",
    "print(d)"
   ]
  },
  {
   "cell_type": "code",
   "execution_count": 30,
   "id": "b68eed93",
   "metadata": {},
   "outputs": [
    {
     "name": "stdout",
     "output_type": "stream",
     "text": [
      "95\n",
      "{'name': 'David', 'age': 13, 'marks': 87, 'marks:': 95}\n",
      "13\n"
     ]
    }
   ],
   "source": [
    "Student_data = {\"name\": \"David\", \"age\": 13, \"marks\": 87}\n",
    "#6. setdefault\n",
    "x = Student_data.setdefault(\"marks:\",95)\n",
    "print(x)\n",
    "\n",
    "#7. update\n",
    "print(Student_data)\n",
    "\n",
    "#8. pop\n",
    "c = Student_data.pop(\"age\")\n",
    "print(c)\n",
    "\n",
    "#9. popitem\n",
    "\n",
    "\n",
    "#10. clear"
   ]
  },
  {
   "cell_type": "markdown",
   "id": "e5c52871",
   "metadata": {},
   "source": [
    "#### Nested Dictionary"
   ]
  },
  {
   "cell_type": "code",
   "execution_count": 34,
   "id": "4384abdf",
   "metadata": {},
   "outputs": [
    {
     "name": "stdout",
     "output_type": "stream",
     "text": [
      "{1: {'Name': 'John', 'Age': 25, 'Gender': 'male'}, 2: {'Name': 'Lisa', 'Age': 26, 'Gender': 'female'}, 3: {'Name': 'Peter', 'Age': 31, 'Gender': 'male'}}\n",
      "26\n",
      "{'Name': 'John', 'Age': 25, 'Gender': 'male'}\n"
     ]
    }
   ],
   "source": [
    "emp = {1:{\"Name\":\"John\",\"Age\":25,\"Gender\":\"male\"},\n",
    "      2:{\"Name\":\"Lisa\",\"Age\":26,\"Gender\":\"female\"},\n",
    "      3:{\"Name\": \"Peter\",\"Age\":31,\"Gender\":\"male\"}}\n",
    "print(emp)\n",
    "print(emp[2][\"Age\"])\n",
    "print(emp[1])"
   ]
  },
  {
   "cell_type": "markdown",
   "id": "d73eadfb",
   "metadata": {},
   "source": [
    "### Problem Solving :-\n",
    "1. Write a python program to sort a dictionary by value.\n",
    "2. Write a python script to print a dictionary where the keys are numbers between 1 and 15 and the values are square of keys.\n",
    "3. Write a program to multiply all the items in a dictionary.\n",
    "4. Write a python program to sort a dictionary by key."
   ]
  },
  {
   "cell_type": "code",
   "execution_count": 2,
   "id": "56acbb79",
   "metadata": {},
   "outputs": [
    {
     "name": "stdout",
     "output_type": "stream",
     "text": [
      "[-5, 6, 12, 23, 45, 91]\n"
     ]
    }
   ],
   "source": [
    "# 1. Write a python program to sort a dictionary by value.\n",
    "a = {\"a\":12, \"b\":23, \"c\":6,\"d\":91,\"e\":45,\"f\":-5}\n",
    "a = sorted(a.values())\n",
    "print(a)"
   ]
  },
  {
   "cell_type": "code",
   "execution_count": 4,
   "id": "1fb7f57b",
   "metadata": {},
   "outputs": [
    {
     "name": "stdout",
     "output_type": "stream",
     "text": [
      "{1: 1, 2: 4, 3: 9, 4: 16, 5: 25, 6: 36, 7: 49, 8: 64, 9: 81, 10: 100, 11: 121, 12: 144, 13: 169, 14: 196, 15: 225}\n"
     ]
    }
   ],
   "source": [
    "# 2. Write a python script to print a dictionary where the keys are numbers between 1 and 15 and the values are square of keys.\n",
    "a = {}\n",
    "for i in range(1, 16):\n",
    "    a[i] = i**2\n",
    "print(a)"
   ]
  },
  {
   "cell_type": "code",
   "execution_count": 7,
   "id": "3f642ef6",
   "metadata": {},
   "outputs": [
    {
     "name": "stdout",
     "output_type": "stream",
     "text": [
      "5\n"
     ]
    }
   ],
   "source": [
    "# 3. Write a program to multiply all the items in a dictionary.\n",
    "a = {\"a\":1, \"b\":2, \"c\":5, \"d\":9,\"e\":4,\"f\":5}\n",
    "print(a[\"c\"])\n",
    "product = 1\n",
    "for i in a:\n",
    "    product *= a[i]"
   ]
  },
  {
   "cell_type": "code",
   "execution_count": 8,
   "id": "01d06b73",
   "metadata": {},
   "outputs": [
    {
     "name": "stdout",
     "output_type": "stream",
     "text": [
      "[12, 23, 48, 56, 91]\n"
     ]
    }
   ],
   "source": [
    "# 4. Write a python program to sort a dictionary by key.\n",
    "a = {12:\"a\",56:\"b\",23:\"c\",48:\"d\",91:\"e\"}\n",
    "a = sorted(a.keys())\n",
    "print(a)"
   ]
  },
  {
   "cell_type": "markdown",
   "id": "4b72fbae",
   "metadata": {},
   "source": [
    "### Introduction to SETS :-"
   ]
  },
  {
   "cell_type": "markdown",
   "id": "b8e4f1c5",
   "metadata": {},
   "source": [
    "#### Sets :-\n",
    "Sets are unordered collection of data. Every element inside the set is unique and mutable.\n",
    "* Sets are writted inside the curly brackets.\n",
    "* The value inside a set is seperated by coma (,).\n",
    "* Mutable means once created, they can be changed."
   ]
  },
  {
   "cell_type": "code",
   "execution_count": 17,
   "id": "ef65583b",
   "metadata": {},
   "outputs": [
    {
     "name": "stdout",
     "output_type": "stream",
     "text": [
      "<class 'set'>\n",
      "{'Hulk', 'Captain America', 'Ironman', 'Thor'}\n",
      "**************************************************\n",
      "Hulk\n",
      "Captain America\n",
      "Ironman\n",
      "Thor\n"
     ]
    }
   ],
   "source": [
    "a = {\"Ironman\", \"Hulk\", \"Thor\", \"Captain America\"}\n",
    "print(type(a))\n",
    "print(a)\n",
    "print(\"*\"*50)\n",
    "for x in a:\n",
    "    print(x)"
   ]
  },
  {
   "cell_type": "markdown",
   "id": "df1a5435",
   "metadata": {},
   "source": [
    "#### Set Functions :-\n",
    "1. add        \n",
    "2. pop\n",
    "3. remove\n",
    "4. discard\n",
    "5. copy\n",
    "6. isdisjoint\n",
    "7. issubset\n",
    "8. issuperset\n",
    "9. update\n",
    "10. Clear\n",
    "11. Union\n",
    "12. Difference\n",
    "13. Difference update\n",
    "14. Intersection\n",
    "15. Intersection update\n",
    "16. Symmetric Difference\n",
    "17. Symmetric Difference Update"
   ]
  },
  {
   "cell_type": "code",
   "execution_count": 51,
   "id": "a406f7bc",
   "metadata": {},
   "outputs": [
    {
     "name": "stdout",
     "output_type": "stream",
     "text": [
      "ADD:  {'Hulk', 'Captain America', 'Thor', 'Ironman', 'Spiderman'}\n",
      "**************************************************\n",
      "POP: : {'Captain America', 'Thor', 'Ironman', 'Spiderman'}\n",
      "**************************************************\n",
      "REMOVE:  {'Captain America', 'Ironman', 'Spiderman'}\n",
      "**************************************************\n",
      "DISCARD:  {'Captain America', 'Ironman', 'Spiderman'}\n",
      "**************************************************\n",
      "COPY : {'Captain America', 'Ironman', 'Spiderman'}\n"
     ]
    }
   ],
   "source": [
    "#1. add\n",
    "a  = {\"Ironman\", \"Hulk\", \"Thor\", \"Captain America\"}\n",
    "a.add(\"Spiderman\")\n",
    "print(\"ADD: \",a)\n",
    "print(\"*\"*50)\n",
    "\n",
    "#2. pop\n",
    "a.pop()\n",
    "print(\"POP: :\",a)\n",
    "print(\"*\"*50)\n",
    "\n",
    "#3. remove\n",
    "a.remove(\"Thor\")\n",
    "print(\"REMOVE: \",a)\n",
    "print(\"*\"*50)\n",
    "\n",
    "#4. discard\n",
    "a.discard(\"Hulk\")\n",
    "print(\"DISCARD: \",a)\n",
    "print(\"*\"*50)\n",
    "\n",
    "#5. copy\n",
    "b = a.copy()\n",
    "print(\"COPY :\",b)\n"
   ]
  },
  {
   "cell_type": "code",
   "execution_count": 59,
   "id": "77872970",
   "metadata": {},
   "outputs": [
    {
     "name": "stdout",
     "output_type": "stream",
     "text": [
      "{'Hulk', 'Captain America', 'Ironman', 'Thor'}\n",
      "{'Superman', 'Batman', 'Wonder-Woman'}\n",
      "{'Hulk', 'Spiderman', 'Thor'}\n",
      "**************************************************\n",
      "ISDISJOINT:  True\n",
      "ISDISJOINT:  False\n",
      "**************************************************\n",
      "ISSUBSET:  False\n",
      "ISSUBSET:  False\n",
      "**************************************************\n",
      "ISSUPERSET:  False\n",
      "ISSUPERSET:  False\n",
      "**************************************************\n",
      "UPDATE:  {'Hulk', 'Captain America', 'Ironman', 'Spiderman', 'Thor'}\n",
      "**************************************************\n",
      "CLEAR:  set()\n"
     ]
    }
   ],
   "source": [
    "a = {\"Ironman\", \"Hulk\", \"Thor\", \"Captain America\"}\n",
    "b = {\"Superman\", \"Batman\", \"Wonder-Woman\"}\n",
    "c = {\"Hulk\", \"Thor\", \"Spiderman\"}\n",
    "print(a)\n",
    "print(b)\n",
    "print(c)\n",
    "print(\"*\"*50)\n",
    "\n",
    "# 6. isdisjoint\n",
    "print(\"ISDISJOINT: \",a.isdisjoint(b))\n",
    "print(\"ISDISJOINT: \",a.isdisjoint(c))\n",
    "print(\"*\"*50)\n",
    "\n",
    "#7. issubset\n",
    "print(\"ISSUBSET: \",a.issubset(b))\n",
    "print(\"ISSUBSET: \",c.issubset(a))\n",
    "print(\"*\"*50)\n",
    "\n",
    "#8. issuperset\n",
    "print(\"ISSUPERSET: \",b.issuperset(a))\n",
    "print(\"ISSUPERSET: \",a.issuperset(c))\n",
    "print(\"*\"*50)\n",
    "\n",
    "#9. update\n",
    "a.update(c)\n",
    "print(\"UPDATE: \",a)\n",
    "print(\"*\"*50)\n",
    "\n",
    "#10. Clear\n",
    "a.clear()\n",
    "print(\"CLEAR: \", a)"
   ]
  },
  {
   "cell_type": "code",
   "execution_count": 60,
   "id": "6bc8c2da",
   "metadata": {},
   "outputs": [
    {
     "name": "stdout",
     "output_type": "stream",
     "text": [
      "{'Hulk', 'Captain America', 'Ironman', 'Thor'}\n",
      "{'Superman', 'Batman', 'Wonder-Woman'}\n",
      "{'Hulk', 'Spiderman', 'Thor'}\n",
      "**************************************************\n",
      "UNION:  {'Hulk', 'Captain America', 'Ironman', 'Spiderman', 'Thor'}\n",
      "**************************************************\n",
      "DIFFERENCE:  {'Hulk', 'Captain America', 'Ironman', 'Thor'}\n",
      "DIFFERENCE:  {'Captain America', 'Ironman'}\n",
      "**************************************************\n",
      "DIFFERENCE UPDATE:  {'Hulk', 'Spiderman', 'Thor'}\n",
      "**************************************************\n"
     ]
    }
   ],
   "source": [
    "a = {\"Ironman\", \"Hulk\", \"Thor\", \"Captain America\"}\n",
    "b = {\"Superman\", \"Batman\", \"Wonder-Woman\"}\n",
    "c = {\"Hulk\", \"Thor\", \"Spiderman\"}\n",
    "print(a)\n",
    "print(b)\n",
    "print(c)\n",
    "print(\"*\"*50)\n",
    "\n",
    "# 11. Union\n",
    "print(\"UNION: \", a.union(c))\n",
    "print(\"*\"*50)\n",
    "\n",
    "#12. Difference\n",
    "print(\"DIFFERENCE: \", a.difference(b))\n",
    "print(\"DIFFERENCE: \", a.difference(c))\n",
    "print(\"*\"*50)\n",
    "\n",
    "#13. Difference update\n",
    "a.difference_update(c)\n",
    "print(\"DIFFERENCE UPDATE: \", c)\n",
    "print(\"*\"*50)\n"
   ]
  },
  {
   "cell_type": "code",
   "execution_count": 3,
   "id": "91159865",
   "metadata": {},
   "outputs": [
    {
     "name": "stdout",
     "output_type": "stream",
     "text": [
      "{'Ironman', 'Captain America', 'Hulk', 'Thor'}\n",
      "{'Wonder-Woman', 'Superman', 'Batman'}\n",
      "{'Thor', 'Spiderman', 'Hulk'}\n",
      "**************************************************\n",
      "INTERSECTION:  {'Thor', 'Hulk'}\n",
      "**************************************************\n",
      "INTERSECTION UPDATE:  {'Thor', 'Spiderman', 'Hulk'}\n",
      "**************************************************\n",
      "SYMMETRIC DIFFERENCE:  {'Spiderman'}\n",
      "**************************************************\n",
      "SYMMETRIC DIFFERENCE UPDATE:  {'Spiderman'}\n"
     ]
    }
   ],
   "source": [
    "a = {\"Ironman\", \"Hulk\", \"Thor\", \"Captain America\"}\n",
    "b = {\"Superman\", \"Batman\", \"Wonder-Woman\"}\n",
    "c = {\"Hulk\", \"Thor\", \"Spiderman\"}\n",
    "print(a)\n",
    "print(b)\n",
    "print(c)\n",
    "print(\"*\"*50)\n",
    "\n",
    "#14. Intersection\n",
    "x = (a.intersection(c))\n",
    "print(\"INTERSECTION: \", x)\n",
    "print(\"*\"*50)\n",
    "\n",
    "#15. Intersection update\n",
    "a.intersection_update(c)\n",
    "print(\"INTERSECTION UPDATE: \", c)\n",
    "print(\"*\"*50)\n",
    "\n",
    "#16. Symmetric Difference\n",
    "x = a.symmetric_difference(c)\n",
    "print(\"SYMMETRIC DIFFERENCE: \",x)\n",
    "print(\"*\"*50)\n",
    "\n",
    "#17. Symmetric Difference Update\n",
    "a.symmetric_difference_update(c)\n",
    "print(\"SYMMETRIC DIFFERENCE UPDATE: \",a)"
   ]
  },
  {
   "cell_type": "markdown",
   "id": "693cfcd8",
   "metadata": {},
   "source": [
    "#### Problem solving :-\n",
    "1. Write a program to find max and min in a set.\n",
    "2. Write a program to find common elements in three lists using sets.\n",
    "3. Write a program to find difference between two sets.\n",
    "4. Write a Python program to remove an item from a set if it is present in the set.\n",
    "5. Write a Python program to check if a set is a subset of another set."
   ]
  },
  {
   "cell_type": "code",
   "execution_count": 4,
   "id": "781e7e4f",
   "metadata": {},
   "outputs": [
    {
     "name": "stdout",
     "output_type": "stream",
     "text": [
      "The minimum value in the set is 1\n",
      "The maximum value in the given set is 90\n"
     ]
    }
   ],
   "source": [
    "# 1. Write a program to find max and min in a set.\n",
    "a = {12, 56, 34, 8, 90, 1, 57}\n",
    "maximum = max(a)\n",
    "minimum = min(a)\n",
    "print(\"The minimum value in the set is\",minimum)\n",
    "print(\"The maximum value in the given set is\",maximum)"
   ]
  },
  {
   "cell_type": "code",
   "execution_count": 5,
   "id": "67413947",
   "metadata": {},
   "outputs": [
    {
     "name": "stdout",
     "output_type": "stream",
     "text": [
      "{5, 6}\n"
     ]
    }
   ],
   "source": [
    "#2. Write a program to find common elements in three lists using sets.\n",
    "a = [1, 5, 6, 8, 2]\n",
    "b = [4, 5, 6, 7]\n",
    "c = [1, 9, 6, 2, 5]\n",
    "\n",
    "print(set(a) & set(b) & set(c))"
   ]
  },
  {
   "cell_type": "code",
   "execution_count": 8,
   "id": "baa9b5f6",
   "metadata": {},
   "outputs": [
    {
     "name": "stdout",
     "output_type": "stream",
     "text": [
      "{8}\n",
      "{9}\n"
     ]
    }
   ],
   "source": [
    "# 3. Write a program to find difference between two sets.\n",
    "a = {1, 5, 6, 8, 2}\n",
    "b = {1, 9, 6, 2, 5}\n",
    "\n",
    "print(a.difference(b))\n",
    "print(b.difference(a))"
   ]
  },
  {
   "cell_type": "code",
   "execution_count": 9,
   "id": "3fb35a06",
   "metadata": {},
   "outputs": [
    {
     "name": "stdout",
     "output_type": "stream",
     "text": [
      "{1, 2, 5, 6}\n"
     ]
    }
   ],
   "source": [
    "# 4. Write a Python program to remove an item from a set if it is present in the set.\n",
    "a = {1, 5, 6, 8, 2}\n",
    "a.discard(8)\n",
    "print(a)"
   ]
  },
  {
   "cell_type": "code",
   "execution_count": 10,
   "id": "75a9048b",
   "metadata": {},
   "outputs": [
    {
     "name": "stdout",
     "output_type": "stream",
     "text": [
      "False\n"
     ]
    }
   ],
   "source": [
    "# 5. Write a Python program to check if a set is a subset of another set.\n",
    "a = {1, 5, 6, 8, 2}\n",
    "b = {1, 9, 6, 2, 5}\n",
    "print(b.issubset(a))"
   ]
  },
  {
   "cell_type": "markdown",
   "id": "3d7a91cb",
   "metadata": {},
   "source": [
    "## Functions :-\n",
    "Functions are a set of code, which once created, they can be used throughout the program.\n",
    "Functions help break our program into smaller parts and helps it look more organized and manageable.\n",
    "\n",
    "* Types :-\n",
    "    1. Define the function\n",
    "    2. Call the function"
   ]
  },
  {
   "cell_type": "code",
   "execution_count": 11,
   "id": "fa54caa3",
   "metadata": {},
   "outputs": [
    {
     "name": "stdout",
     "output_type": "stream",
     "text": [
      "Hello World\n"
     ]
    }
   ],
   "source": [
    "def hello():\n",
    "    print(\"Hello World\")\n",
    "    \n",
    "hello()"
   ]
  },
  {
   "cell_type": "code",
   "execution_count": 12,
   "id": "bbd95ec8",
   "metadata": {},
   "outputs": [
    {
     "name": "stdout",
     "output_type": "stream",
     "text": [
      "35\n"
     ]
    }
   ],
   "source": [
    "def add():\n",
    "    x = 15\n",
    "    y = 20\n",
    "    print(x+y)\n",
    "    \n",
    "add()"
   ]
  },
  {
   "cell_type": "markdown",
   "id": "62bb447a",
   "metadata": {},
   "source": [
    "#### Parameters and Arguments :-\n",
    "* Parameters :- Parameters are the variables written inside the parentheses with the name of function.\n",
    "* Arguments :- Arguments are the values passed to the parameters while calling the function."
   ]
  },
  {
   "cell_type": "code",
   "execution_count": 14,
   "id": "707ec595",
   "metadata": {},
   "outputs": [
    {
     "name": "stdout",
     "output_type": "stream",
     "text": [
      "63\n",
      "75\n"
     ]
    }
   ],
   "source": [
    "def add (x, y):\n",
    "    print(x+y)\n",
    "    \n",
    "add(12,51)\n",
    "add(50,25)"
   ]
  },
  {
   "cell_type": "code",
   "execution_count": 15,
   "id": "24039f07",
   "metadata": {},
   "outputs": [
    {
     "name": "stdout",
     "output_type": "stream",
     "text": [
      "The area of the rectangle is:  225\n"
     ]
    }
   ],
   "source": [
    "def rect(length, width):\n",
    "    print(\"The area of the rectangle is: \", length*width)\n",
    "    \n",
    "rect(15, 15)"
   ]
  },
  {
   "cell_type": "code",
   "execution_count": 19,
   "id": "96add9e1",
   "metadata": {},
   "outputs": [
    {
     "name": "stdout",
     "output_type": "stream",
     "text": [
      "Hello, my name is:  john\n"
     ]
    }
   ],
   "source": [
    "def hello(*name):\n",
    "    print(\"Hello, my name is: \", name[0])\n",
    "    \n",
    "hello(\"john\",\"lisa\",\"peter\")"
   ]
  },
  {
   "cell_type": "markdown",
   "id": "bd94ad3d",
   "metadata": {},
   "source": [
    "#### Return Statement and Recursion in Functions"
   ]
  },
  {
   "cell_type": "markdown",
   "id": "2caab85d",
   "metadata": {},
   "source": [
    "Return Statement :- Return keyword in python is used to exit a function and return the value of the function."
   ]
  },
  {
   "cell_type": "code",
   "execution_count": 20,
   "id": "12505ee8",
   "metadata": {},
   "outputs": [
    {
     "name": "stdout",
     "output_type": "stream",
     "text": [
      "Hello World\n"
     ]
    }
   ],
   "source": [
    "def hello():\n",
    "    return(\"Hello World\")\n",
    "\n",
    "print(hello())"
   ]
  },
  {
   "cell_type": "markdown",
   "id": "bde2a92c",
   "metadata": {},
   "source": [
    "Recursion in Python :- Recursion in most commonly used mathematical and programming concept. \n",
    "* In simple words, recursion means a function can call itself, giving us a benefit of looping through data in order to get a result."
   ]
  },
  {
   "cell_type": "code",
   "execution_count": 21,
   "id": "989cd5b3",
   "metadata": {},
   "outputs": [
    {
     "name": "stdout",
     "output_type": "stream",
     "text": [
      "<function hello at 0x000001C1742951C0>\n"
     ]
    }
   ],
   "source": [
    "def hello():\n",
    "    return hello()\n",
    "\n",
    "print(hello)"
   ]
  },
  {
   "cell_type": "code",
   "execution_count": 3,
   "id": "3d457e4d",
   "metadata": {},
   "outputs": [
    {
     "name": "stdout",
     "output_type": "stream",
     "text": [
      "120\n"
     ]
    }
   ],
   "source": [
    "def fact(n):\n",
    "    if n == 1:\n",
    "        return 1\n",
    "    else:\n",
    "        return (n * fact (n - 1))\n",
    "\n",
    "print(fact(5))\n",
    "    \n",
    "    "
   ]
  },
  {
   "cell_type": "code",
   "execution_count": null,
   "id": "83c41a98",
   "metadata": {},
   "outputs": [],
   "source": [
    "# Code will run infinite time\n",
    "def hello():\n",
    "    print(\"hello\")\n",
    "    return hello()\n",
    "\n",
    "print(hello())"
   ]
  },
  {
   "cell_type": "markdown",
   "id": "47d44516",
   "metadata": {},
   "source": [
    "#### Advantage and Disadvantage of Recursion :-\n",
    "Advantage :-\n",
    "1. They make the code look clean and organized.\n",
    "2. By the use of recursive functions, a complex task can be broken down into small sub - parts.\n",
    "3. Sequence generation becomes easier.\n",
    "\n",
    "Disadvantage :-\n",
    "1. Recursive Functions take up a lot of memory.\n",
    "2. Sometimes the logic becomes hard to follow."
   ]
  },
  {
   "cell_type": "markdown",
   "id": "e765b43a",
   "metadata": {},
   "source": [
    "### Lambda Function in Python\n",
    "* It is used when an anonymous function is required for a short period of time.\n",
    "* It can take numerous arguments.\n",
    "* It can only have one expression."
   ]
  },
  {
   "cell_type": "code",
   "execution_count": 4,
   "id": "cd541c0a",
   "metadata": {},
   "outputs": [
    {
     "name": "stdout",
     "output_type": "stream",
     "text": [
      "20\n"
     ]
    }
   ],
   "source": [
    "a = lambda b: b*5\n",
    "print(a(4))"
   ]
  },
  {
   "cell_type": "code",
   "execution_count": 6,
   "id": "e7bdf133",
   "metadata": {},
   "outputs": [
    {
     "name": "stdout",
     "output_type": "stream",
     "text": [
      "30\n"
     ]
    }
   ],
   "source": [
    "x = lambda a,b,c: (a+b)*c\n",
    "print(x(3,7,3))"
   ]
  },
  {
   "cell_type": "markdown",
   "id": "be3b0ac3",
   "metadata": {},
   "source": [
    "#### Local and Global Variables :-\n",
    "Local Variables :-\n",
    "* Local Variables are restricted to only one block of code and cannot be changed throughput the program.\n",
    "\n",
    "Global Variable :-\n",
    "* Global Variable are not restricted to one block of code and they can be changed throughout the program."
   ]
  },
  {
   "cell_type": "code",
   "execution_count": 4,
   "id": "490bd937",
   "metadata": {},
   "outputs": [
    {
     "name": "stdout",
     "output_type": "stream",
     "text": [
      "First variable x  24\n",
      "25\n"
     ]
    }
   ],
   "source": [
    "# Local Variable :-\n",
    "x = 24\n",
    "print(\"First variable x \", x)\n",
    "def hello():\n",
    "    x = 25\n",
    "    return x\n",
    "\n",
    "print(hello())"
   ]
  },
  {
   "cell_type": "code",
   "execution_count": 6,
   "id": "277e8b4d",
   "metadata": {},
   "outputs": [
    {
     "name": "stdout",
     "output_type": "stream",
     "text": [
      "First variable x  24\n",
      "25\n",
      "25\n"
     ]
    }
   ],
   "source": [
    "# Global Variable :-\n",
    "x = 24\n",
    "print(\"First variable x \", x)\n",
    "def hello():\n",
    "    global x\n",
    "    x = 25\n",
    "    return x\n",
    "\n",
    "print(hello())\n",
    "print(x)"
   ]
  },
  {
   "cell_type": "markdown",
   "id": "23dfe395",
   "metadata": {},
   "source": [
    "### Problem Solving :-\n",
    "1. Write a function to find maximum of three numbers in Python.\n",
    "2. Write a Python function to create and print a list where the values are square of numbers between 1 and 30.\n",
    "3. Write a Python function that takes a number as a parameter and check if the number is prime or not.\n",
    "4. Write a Python function to sum all the numbers in a list.\n",
    "5. Write a Python program to solve the Fibonacci sequencing Recursion."
   ]
  },
  {
   "cell_type": "code",
   "execution_count": 8,
   "id": "acc6164d",
   "metadata": {},
   "outputs": [
    {
     "name": "stdout",
     "output_type": "stream",
     "text": [
      "85 is the greatest\n"
     ]
    }
   ],
   "source": [
    "# 1. Write a function to find maximum of three numbers in Python.\n",
    "def max_number(val1, val2, val3):\n",
    "    if val1 > val2 and val1 > val3:\n",
    "        print(val1, \"is the gratest number\")\n",
    "    elif val2 > val3 and val2 > val1:\n",
    "        print(val2, \"is the greatest number\")\n",
    "    else:\n",
    "        print(val3, \"is the greatest\")\n",
    "        \n",
    "max_number(12, 25, 85)\n"
   ]
  },
  {
   "cell_type": "code",
   "execution_count": 11,
   "id": "79531a93",
   "metadata": {},
   "outputs": [
    {
     "name": "stdout",
     "output_type": "stream",
     "text": [
      "[1, 4, 9, 16, 25, 36, 49, 64, 81, 100, 121, 144, 169, 196, 225, 256, 289, 324, 361, 400, 441, 484, 529, 576, 625, 676, 729, 784, 841, 900]\n"
     ]
    }
   ],
   "source": [
    "# 2. Write a Python function using recursion to create and print a list where the values are square of numbers between 1 and 30.\n",
    "def create_list():\n",
    "    l = []\n",
    "    for i in range(1, 31):\n",
    "        l.append(i**2)\n",
    "        \n",
    "    return l\n",
    "\n",
    "print(create_list())"
   ]
  },
  {
   "cell_type": "code",
   "execution_count": 13,
   "id": "4324eb02",
   "metadata": {},
   "outputs": [
    {
     "name": "stdout",
     "output_type": "stream",
     "text": [
      "It is a prime number\n",
      "It is not a prime number\n"
     ]
    }
   ],
   "source": [
    "# 3. Write a Python function that takes a number as a parameter and check if the number is prime or not.\n",
    "def check_prime(num):\n",
    "    if num == 1:\n",
    "        print(\"It is not a prime number\")\n",
    "    \n",
    "    if num == 2:\n",
    "        print(\"It is a prime number\")\n",
    "        \n",
    "    if num > 2:\n",
    "        for i in range(2,  num):\n",
    "            if num % i == 0:\n",
    "                print(\"It is not a prime number\")\n",
    "                break\n",
    "        else:\n",
    "            print(\"It is a prime number\")\n",
    "            \n",
    "check_prime(11)\n",
    "check_prime(30)"
   ]
  },
  {
   "cell_type": "code",
   "execution_count": 23,
   "id": "0d01c2e9",
   "metadata": {},
   "outputs": [
    {
     "name": "stdout",
     "output_type": "stream",
     "text": [
      "the sum of all the items in the list is 244\n"
     ]
    }
   ],
   "source": [
    "# 4. Write a Python function to sum all the numbers in a list.\n",
    "def add(num):\n",
    "    total = 0\n",
    "    for i in num:\n",
    "        total = total + i\n",
    "    return(total)\n",
    "\n",
    "print(\"the sum of all the items in the list is\", add([15, 52, 63, 25, 89]))"
   ]
  },
  {
   "cell_type": "code",
   "execution_count": 24,
   "id": "880f3efe",
   "metadata": {},
   "outputs": [
    {
     "name": "stdout",
     "output_type": "stream",
     "text": [
      "244\n"
     ]
    }
   ],
   "source": [
    "def add(num):\n",
    "    if len(num)==1:\n",
    "        return(num[0])\n",
    "    else:\n",
    "        return((num[0])+add(num[1:]))\n",
    "        \n",
    "print(add([15, 52, 63, 25, 89]))"
   ]
  },
  {
   "cell_type": "code",
   "execution_count": 25,
   "id": "faa4a1fc",
   "metadata": {},
   "outputs": [
    {
     "name": "stdout",
     "output_type": "stream",
     "text": [
      "8\n"
     ]
    }
   ],
   "source": [
    "# 5. Write a Python program to solve the Fibonacci sequencing Recursion.\n",
    "def fs(num):\n",
    "    if num == 1:\n",
    "        return(0)\n",
    "    elif num == 2:\n",
    "        return(1)\n",
    "    else:\n",
    "        return(fs(num-1)+fs(num-2))\n",
    "    \n",
    "print(fs(7))"
   ]
  },
  {
   "cell_type": "markdown",
   "id": "7d596e4e",
   "metadata": {},
   "source": [
    "## Modules :-\n",
    "* Modules are the (.py) files, that contains set of functions you want to include in your program"
   ]
  },
  {
   "cell_type": "markdown",
   "id": "bd06a2f6",
   "metadata": {},
   "source": [
    "### In-built Modules :-\n",
    "1. Datetime\n",
    "2. Random\n",
    "3. Math"
   ]
  },
  {
   "cell_type": "markdown",
   "id": "5322d730",
   "metadata": {},
   "source": [
    "#### 1. Datetime"
   ]
  },
  {
   "cell_type": "code",
   "execution_count": 1,
   "id": "dc1d4e7c",
   "metadata": {},
   "outputs": [],
   "source": [
    "import datetime"
   ]
  },
  {
   "cell_type": "code",
   "execution_count": 2,
   "id": "f8389832",
   "metadata": {},
   "outputs": [
    {
     "name": "stdout",
     "output_type": "stream",
     "text": [
      "2024-01-27 16:42:01.881770\n"
     ]
    }
   ],
   "source": [
    "x = datetime.datetime.now()\n",
    "print(x)"
   ]
  },
  {
   "cell_type": "code",
   "execution_count": 6,
   "id": "46766691",
   "metadata": {},
   "outputs": [
    {
     "name": "stdout",
     "output_type": "stream",
     "text": [
      "1999-03-13 00:00:00\n"
     ]
    }
   ],
   "source": [
    "y = datetime.datetime(1999, 3, 13)\n",
    "print(y)"
   ]
  },
  {
   "cell_type": "code",
   "execution_count": 7,
   "id": "07ccb269",
   "metadata": {},
   "outputs": [
    {
     "name": "stdout",
     "output_type": "stream",
     "text": [
      "Saturday\n"
     ]
    }
   ],
   "source": [
    "y = datetime.datetime(1999, 3, 13)\n",
    "print(y.strftime(\"%A\"))"
   ]
  },
  {
   "cell_type": "code",
   "execution_count": 9,
   "id": "f3d30461",
   "metadata": {},
   "outputs": [
    {
     "name": "stdout",
     "output_type": "stream",
     "text": [
      "Sat\n"
     ]
    }
   ],
   "source": [
    "y = datetime.datetime(1999, 3, 13)\n",
    "print(y.strftime(\"%a\"))"
   ]
  },
  {
   "cell_type": "code",
   "execution_count": 8,
   "id": "d9e573e4",
   "metadata": {},
   "outputs": [
    {
     "name": "stdout",
     "output_type": "stream",
     "text": [
      "March\n"
     ]
    }
   ],
   "source": [
    "y = datetime.datetime(1999, 3, 13)\n",
    "print(y.strftime(\"%B\"))"
   ]
  },
  {
   "cell_type": "code",
   "execution_count": 10,
   "id": "7df8ba64",
   "metadata": {},
   "outputs": [
    {
     "name": "stdout",
     "output_type": "stream",
     "text": [
      "03\n"
     ]
    }
   ],
   "source": [
    "y = datetime.datetime(1999, 3, 13)\n",
    "print(y.strftime(\"%m\"))"
   ]
  },
  {
   "cell_type": "code",
   "execution_count": 11,
   "id": "960b1abd",
   "metadata": {},
   "outputs": [
    {
     "name": "stdout",
     "output_type": "stream",
     "text": [
      "1999\n"
     ]
    }
   ],
   "source": [
    "y = datetime.datetime(1999, 3, 13)\n",
    "print(y.strftime(\"%Y\"))"
   ]
  },
  {
   "cell_type": "code",
   "execution_count": 12,
   "id": "be69bf74",
   "metadata": {},
   "outputs": [
    {
     "name": "stdout",
     "output_type": "stream",
     "text": [
      "99\n"
     ]
    }
   ],
   "source": [
    "y = datetime.datetime(1999, 3, 13)\n",
    "print(y.strftime(\"%y\"))"
   ]
  },
  {
   "cell_type": "markdown",
   "id": "aa91ba55",
   "metadata": {},
   "source": [
    "#### 2. Random Module"
   ]
  },
  {
   "cell_type": "code",
   "execution_count": 13,
   "id": "5d8b9793",
   "metadata": {},
   "outputs": [],
   "source": [
    "import random"
   ]
  },
  {
   "cell_type": "code",
   "execution_count": 16,
   "id": "fde1c116",
   "metadata": {},
   "outputs": [
    {
     "name": "stdout",
     "output_type": "stream",
     "text": [
      "2\n"
     ]
    }
   ],
   "source": [
    "x = random.randint(1, 10)\n",
    "print(x)\n",
    "# Output always changes"
   ]
  },
  {
   "cell_type": "code",
   "execution_count": 18,
   "id": "c69a4746",
   "metadata": {},
   "outputs": [
    {
     "name": "stdout",
     "output_type": "stream",
     "text": [
      "Tails\n"
     ]
    }
   ],
   "source": [
    "l = [\"Heads\", \"Tails\"]\n",
    "x = random.choice(l)\n",
    "print(x)"
   ]
  },
  {
   "cell_type": "code",
   "execution_count": 23,
   "id": "9e385ca6",
   "metadata": {},
   "outputs": [
    {
     "name": "stdout",
     "output_type": "stream",
     "text": [
      "5\n"
     ]
    }
   ],
   "source": [
    "x = random.randint(1, 6)\n",
    "print(x)"
   ]
  },
  {
   "cell_type": "markdown",
   "id": "4dc54429",
   "metadata": {},
   "source": [
    "#### 3. Math"
   ]
  },
  {
   "cell_type": "code",
   "execution_count": 24,
   "id": "f44a09dd",
   "metadata": {},
   "outputs": [],
   "source": [
    "import math"
   ]
  },
  {
   "cell_type": "code",
   "execution_count": 25,
   "id": "fe30311f",
   "metadata": {},
   "outputs": [
    {
     "name": "stdout",
     "output_type": "stream",
     "text": [
      "45\n"
     ]
    }
   ],
   "source": [
    "x = max(13, 37, 45)\n",
    "print(x)"
   ]
  },
  {
   "cell_type": "code",
   "execution_count": 26,
   "id": "73defef8",
   "metadata": {},
   "outputs": [
    {
     "name": "stdout",
     "output_type": "stream",
     "text": [
      "-55\n"
     ]
    }
   ],
   "source": [
    "y = min(25, 32, -55)\n",
    "print(y)"
   ]
  },
  {
   "cell_type": "code",
   "execution_count": 27,
   "id": "8861281d",
   "metadata": {},
   "outputs": [
    {
     "name": "stdout",
     "output_type": "stream",
     "text": [
      "16\n"
     ]
    }
   ],
   "source": [
    "a = pow(2, 4)\n",
    "print(a)"
   ]
  },
  {
   "cell_type": "code",
   "execution_count": 28,
   "id": "b3107098",
   "metadata": {},
   "outputs": [
    {
     "name": "stdout",
     "output_type": "stream",
     "text": [
      "7.0\n"
     ]
    }
   ],
   "source": [
    "b = math.sqrt(49)\n",
    "print(b)"
   ]
  },
  {
   "cell_type": "code",
   "execution_count": 29,
   "id": "8dbf6d74",
   "metadata": {},
   "outputs": [
    {
     "name": "stdout",
     "output_type": "stream",
     "text": [
      "12\n"
     ]
    }
   ],
   "source": [
    "z = abs(-12)\n",
    "print(z)"
   ]
  },
  {
   "cell_type": "code",
   "execution_count": 31,
   "id": "79562952",
   "metadata": {},
   "outputs": [
    {
     "name": "stdout",
     "output_type": "stream",
     "text": [
      "3\n"
     ]
    }
   ],
   "source": [
    "k = math.ceil(2.4)\n",
    "print(k)"
   ]
  },
  {
   "cell_type": "code",
   "execution_count": 32,
   "id": "af6fd6da",
   "metadata": {},
   "outputs": [
    {
     "name": "stdout",
     "output_type": "stream",
     "text": [
      "2\n"
     ]
    }
   ],
   "source": [
    "m = math.floor(2.4)\n",
    "print(m)"
   ]
  },
  {
   "cell_type": "markdown",
   "id": "67211fde",
   "metadata": {},
   "source": [
    "### Creation of Modules:-\n",
    "* Creation of module, all you need to do is create a .py file in a similar path to your python file. Inside that file, you can add required functions you need your program to perform.\n",
    "* To call the module inside your program, all you need to do is use import keyword followed by the name of your .py file."
   ]
  },
  {
   "cell_type": "markdown",
   "id": "1d8887b2",
   "metadata": {},
   "source": [
    "This code will run on pycharm"
   ]
  },
  {
   "cell_type": "code",
   "execution_count": 5,
   "id": "42e8e825",
   "metadata": {},
   "outputs": [],
   "source": [
    "def add(x, y):\n",
    "    return(x+y)"
   ]
  },
  {
   "cell_type": "code",
   "execution_count": null,
   "id": "ee48438f",
   "metadata": {},
   "outputs": [],
   "source": [
    "import demo01\n",
    "a = demo01.add(2,3)\n",
    "print(a)"
   ]
  }
 ],
 "metadata": {
  "kernelspec": {
   "display_name": "Python 3 (ipykernel)",
   "language": "python",
   "name": "python3"
  },
  "language_info": {
   "codemirror_mode": {
    "name": "ipython",
    "version": 3
   },
   "file_extension": ".py",
   "mimetype": "text/x-python",
   "name": "python",
   "nbconvert_exporter": "python",
   "pygments_lexer": "ipython3",
   "version": "3.11.4"
  }
 },
 "nbformat": 4,
 "nbformat_minor": 5
}
